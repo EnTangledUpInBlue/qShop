{
 "cells": [
  {
   "cell_type": "markdown",
   "id": "12e6eca8",
   "metadata": {},
   "source": [
    "An implementation of encoded $\\ket{A^2} = \\ket{\\sqrt{-iY}} = e^{-i \\frac{\\pi}{4}Y} \\ket{+} = \\ket{1}$ preparation in the Steane code using stim.\n",
    "\n",
    "In particular, $A^2 = XH$, which will be used to implement the gate in stim.\n",
    "\n",
    "Maybe easiest to just do $Y$ eigenstate, $\\ket{+i}$?"
   ]
  },
  {
   "cell_type": "code",
   "execution_count": 3,
   "id": "7db3550f",
   "metadata": {},
   "outputs": [],
   "source": [
    "from stim import Circuit\n",
    "from noisy_circuits import noisy_steane_encoder,noisy_repetition_encoder,noisy_encoded_y\n",
    "from decoders import steane_transversal_decoder, repetition_transversal_xdecoder, repetition_transversal_zdecoder"
   ]
  },
  {
   "cell_type": "markdown",
   "id": "bb2f846c",
   "metadata": {},
   "source": [
    "The logical $X$ outcome for the repetition-encoded ancilla block indicates which eigenstate the Hadamard test tells us it projected onto.\n",
    "\n",
    "The logical $Y$ outcome for the Steane-encoded data block will indicate which eigenstate is observed.\n",
    "\n",
    "If these two observables do not match, then there is a logical error on the output."
   ]
  },
  {
   "cell_type": "markdown",
   "id": "e6006dda",
   "metadata": {},
   "source": [
    "Below is a test of the circuit without errors, which should give us no errors and always result in selected trials."
   ]
  },
  {
   "cell_type": "code",
   "execution_count": 19,
   "id": "aa770343",
   "metadata": {},
   "outputs": [],
   "source": [
    "def noisy_repetition_measurement_circuit(circuit:Circuit,block:list[int],perr:float,flag=False) -> Circuit:\n",
    "\n",
    "    if flag:\n",
    "        blockmax = int(max(block))\n",
    "        block.append(blockmax+1)\n",
    "    \n",
    "    block_length = len(block)\n",
    "\n",
    "    first_half = block[:int(block_length/2)]\n",
    "    second_half = block[int(block_length/2):]\n",
    "\n",
    "    if block_length%2:\n",
    "        circuit.append(\"CNOT\", [second_half[-2], second_half[-1]])\n",
    "        circuit.append(\"DEPOLARIZE2\", [second_half[-2], second_half[-1]],perr)\n",
    "        circuit.append(\"DEPOLARIZE1\", first_half+second_half[:-2],perr)\n",
    "\n",
    "    for ii in range(len(first_half)-1,0,-1):\n",
    "        circuit.append(\"CNOT\", [first_half[ii-1],first_half[ii]])\n",
    "        circuit.append(\"DEPOLARIZE2\", [first_half[ii-1],first_half[ii]],perr)\n",
    "\n",
    "        circuit.append(\"CNOT\", [second_half[ii-1],second_half[ii]])\n",
    "        circuit.append(\"DEPOLARIZE2\", [second_half[ii-1],second_half[ii]],perr)\n",
    "        \n",
    "        for jj in range(len(second_half)):\n",
    "            if not jj in [ii,ii-1]:\n",
    "                circuit.append(\"DEPOLARIZE1\",[second_half[jj]],perr)\n",
    "                if jj < len(first_half):\n",
    "                    circuit.append(\"DEPOLARIZE1\",[first_half[jj]],perr)\n",
    "                    \n",
    "\n",
    "    circuit.append(\"CNOT\", [first_half[0],second_half[0]])\n",
    "    circuit.append(\"DEPOLARIZE2\", [first_half[0],second_half[0]],perr)\n",
    "\n",
    "    circuit.append(\"DEPOLARIZE1\",first_half[1:]+second_half[1:],perr)\n",
    "\n",
    "    circuit.append(\"DEPOLARIZE1\", block, perr)\n",
    "    \n",
    "    circuit.append(\"MRX\", block[0])\n",
    "    circuit.append(\"MRZ\", block[1:])\n",
    "\n",
    "    # if flag:\n",
    "    #     circuit.append(\"CNOT\",[first_half[-1],second_half[-1]])\n",
    "    #     circuit.append(\"DEPOLARIZE2\", [first_half[-1],second_half[-1]],perr)\n",
    "    #     circuit.append(\"DEPOLARIZE1\", first_half[:-1]+second_half[:-1],perr)\n",
    "        \n",
    "    #     circuit.append(\"DEPOLARIZE1\",second_half[-1],perr)\n",
    "    #     circuit.append(\"MRZ\", second_half[-1])\n",
    "\n",
    "    return circuit\n"
   ]
  },
  {
   "cell_type": "code",
   "execution_count": 18,
   "id": "ba2f1633",
   "metadata": {},
   "outputs": [
    {
     "data": {
      "text/html": [
       "<pre>q0: -DEPOLARIZE1(0)----------------@-DEPOLARIZE2(0)----------------@-DEPOLARIZE2(0)---------------------------------DEPOLARIZE1(0)---DEPOLARIZE1(0)---DEPOLARIZE1(0)------------------DEPOLARIZE1(0)-@-DEPOLARIZE2(0)----------------@-DEPOLARIZE2(0)----------------\n",
       "                                   | |                             | |                                                                                                                               | |                             | |\n",
       "q1: -R--------------DEPOLARIZE1(0)-|-|--------------DEPOLARIZE1(0)-X-DEPOLARIZE2(0)----------------@-DEPOLARIZE2(0)------------------DEPOLARIZE1(0)---DEPOLARIZE1(0)-@-DEPOLARIZE2(0)----------------X-DEPOLARIZE2(0)----------------|-|--------------DEPOLARIZE1(0)-\n",
       "                                   | |                                                             | |                                                               | |                                                             | |\n",
       "q2: -R--------------DEPOLARIZE1(0)-|-|--------------DEPOLARIZE1(0)------------------DEPOLARIZE1(0)-X-DEPOLARIZE2(0)------------------DEPOLARIZE1(0)---DEPOLARIZE1(0)-X-DEPOLARIZE2(0)---------------------------------DEPOLARIZE1(0)-|-|--------------DEPOLARIZE1(0)-\n",
       "                                   | |                                                                                                                                                                                               | |\n",
       "q3: -R--------------DEPOLARIZE1(0)-X-DEPOLARIZE2(0)------------------@--------------DEPOLARIZE2(0)------------------DEPOLARIZE1(0)---DEPOLARIZE1(0)---DEPOLARIZE1(0)------------------DEPOLARIZE1(0)---@--------------DEPOLARIZE2(0)-X-DEPOLARIZE2(0)----------------\n",
       "                                                                     |              |                                                                                                                  |              |\n",
       "q4: -R--------------DEPOLARIZE1(0)------------------DEPOLARIZE1(0)---X--------------DEPOLARIZE2(0)---@--------------DEPOLARIZE2(0)---DEPOLARIZE1(0)---DEPOLARIZE1(0)---@--------------DEPOLARIZE2(0)---X--------------DEPOLARIZE2(0)------------------DEPOLARIZE1(0)-\n",
       "                                                                                                     |              |                                                  |              |\n",
       "q5: -R--------------DEPOLARIZE1(0)------------------DEPOLARIZE1(0)------------------DEPOLARIZE1(0)---X--------------DEPOLARIZE2(0)-@-DEPOLARIZE2(0)-@-DEPOLARIZE2(0)---X--------------DEPOLARIZE2(0)------------------DEPOLARIZE1(0)------------------DEPOLARIZE1(0)-\n",
       "                                                                                                                                   | |              | |\n",
       "q6: -R--------------DEPOLARIZE1(0)------------------DEPOLARIZE1(0)------------------DEPOLARIZE1(0)------------------DEPOLARIZE1(0)-X-DEPOLARIZE2(0)-X-DEPOLARIZE2(0)------------------DEPOLARIZE1(0)------------------DEPOLARIZE1(0)------------------DEPOLARIZE1(0)-</pre>"
      ],
      "text/plain": [
       "q0: -DEPOLARIZE1(0)----------------@-DEPOLARIZE2(0)----------------@-DEPOLARIZE2(0)---------------------------------DEPOLARIZE1(0)---DEPOLARIZE1(0)---DEPOLARIZE1(0)------------------DEPOLARIZE1(0)-@-DEPOLARIZE2(0)----------------@-DEPOLARIZE2(0)----------------\n",
       "                                   | |                             | |                                                                                                                               | |                             | |\n",
       "q1: -R--------------DEPOLARIZE1(0)-|-|--------------DEPOLARIZE1(0)-X-DEPOLARIZE2(0)----------------@-DEPOLARIZE2(0)------------------DEPOLARIZE1(0)---DEPOLARIZE1(0)-@-DEPOLARIZE2(0)----------------X-DEPOLARIZE2(0)----------------|-|--------------DEPOLARIZE1(0)-\n",
       "                                   | |                                                             | |                                                               | |                                                             | |\n",
       "q2: -R--------------DEPOLARIZE1(0)-|-|--------------DEPOLARIZE1(0)------------------DEPOLARIZE1(0)-X-DEPOLARIZE2(0)------------------DEPOLARIZE1(0)---DEPOLARIZE1(0)-X-DEPOLARIZE2(0)---------------------------------DEPOLARIZE1(0)-|-|--------------DEPOLARIZE1(0)-\n",
       "                                   | |                                                                                                                                                                                               | |\n",
       "q3: -R--------------DEPOLARIZE1(0)-X-DEPOLARIZE2(0)------------------@--------------DEPOLARIZE2(0)------------------DEPOLARIZE1(0)---DEPOLARIZE1(0)---DEPOLARIZE1(0)------------------DEPOLARIZE1(0)---@--------------DEPOLARIZE2(0)-X-DEPOLARIZE2(0)----------------\n",
       "                                                                     |              |                                                                                                                  |              |\n",
       "q4: -R--------------DEPOLARIZE1(0)------------------DEPOLARIZE1(0)---X--------------DEPOLARIZE2(0)---@--------------DEPOLARIZE2(0)---DEPOLARIZE1(0)---DEPOLARIZE1(0)---@--------------DEPOLARIZE2(0)---X--------------DEPOLARIZE2(0)------------------DEPOLARIZE1(0)-\n",
       "                                                                                                     |              |                                                  |              |\n",
       "q5: -R--------------DEPOLARIZE1(0)------------------DEPOLARIZE1(0)------------------DEPOLARIZE1(0)---X--------------DEPOLARIZE2(0)-@-DEPOLARIZE2(0)-@-DEPOLARIZE2(0)---X--------------DEPOLARIZE2(0)------------------DEPOLARIZE1(0)------------------DEPOLARIZE1(0)-\n",
       "                                                                                                                                   | |              | |\n",
       "q6: -R--------------DEPOLARIZE1(0)------------------DEPOLARIZE1(0)------------------DEPOLARIZE1(0)------------------DEPOLARIZE1(0)-X-DEPOLARIZE2(0)-X-DEPOLARIZE2(0)------------------DEPOLARIZE1(0)------------------DEPOLARIZE1(0)------------------DEPOLARIZE1(0)-"
      ]
     },
     "execution_count": 18,
     "metadata": {},
     "output_type": "execute_result"
    }
   ],
   "source": [
    "c = Circuit()\n",
    "c = noisy_repetition_encoder(c,[0,1,2,3,4,5,6],0.0,False)\n",
    "c = noisy_repetition_measurement_circuit(c,[0,1,2,3,4,5,6],0.0,False)\n",
    "c.diagram()"
   ]
  },
  {
   "cell_type": "code",
   "execution_count": 20,
   "id": "d690c18b",
   "metadata": {},
   "outputs": [],
   "source": [
    "def decode_sample_output(rec:list[bool]) -> tuple[bool,bool]:\n",
    "    r\"\"\"\n",
    "    A function that decodes a repetition code (xs) and steane code (yx) observables.\n",
    "   \n",
    "    \"\"\"\n",
    "\n",
    "    xs = rec[1:8]\n",
    "    ys = rec[8:]\n",
    "\n",
    "    mx = sum(xs)%2\n",
    "\n",
    "    my = steane_transversal_decoder(ys)\n",
    "\n",
    "    return mx,my"
   ]
  },
  {
   "cell_type": "code",
   "execution_count": null,
   "id": "359edd2f",
   "metadata": {},
   "outputs": [],
   "source": [
    "def decode_repetition_output(rec:list[bool]) -> tuple[bool,bool]:\n",
    "    r\"\"\"\n",
    "    A function that decodes a repetition code (xs) and steane code (yx) observables.\n",
    "   \n",
    "    \"\"\"\n",
    "\n",
    "    mx = rec[0]\n",
    "    zsyndrome = rec[1:]\n",
    "\n",
    "    # Need to figure out the ZZ correlations measured by the circuit\n",
    "    # and construct the corresponding Z-check matrix\n",
    "\n",
    "    # Want to predict and return the X-error that is predicted\n",
    "    # to have occurred.\n",
    "\n",
    "    return mx,zsyndrome[0]"
   ]
  },
  {
   "cell_type": "code",
   "execution_count": 20,
   "id": "3007a579",
   "metadata": {},
   "outputs": [
    {
     "name": "stdout",
     "output_type": "stream",
     "text": [
      "0.0, [1.0, 0.0]\n",
      "\n",
      "1e-05, [0.9993373, 5.143408536837362e-05]\n",
      "\n",
      "2e-05, [0.998694, 9.452344762259511e-05]\n",
      "\n",
      "3.0000000000000004e-05, [0.9980541, 0.00015169518365787987]\n",
      "\n",
      "4e-05, [0.9973679, 0.00020303440686230225]\n",
      "\n",
      "5e-05, [0.9967038, 0.0002448069326112733]\n",
      "\n",
      "6.000000000000001e-05, [0.9960612, 0.00029556416814549146]\n",
      "\n",
      "7.000000000000001e-05, [0.9954122, 0.00033744814459778574]\n",
      "\n",
      "8e-05, [0.994744, 0.00040201298022405767]\n",
      "\n",
      "9e-05, [0.9941046, 0.00045900602411456503]\n",
      "\n",
      "0.0001, [0.9934018, 0.0005011064002501304]\n",
      "\n",
      "0.00011, [0.992803, 0.0005360580094943307]\n",
      "\n",
      "0.00012000000000000002, [0.9921671, 0.0005866955273965444]\n",
      "\n",
      "0.00013000000000000002, [0.9914939, 0.0006484154869737474]\n",
      "\n",
      "0.00014000000000000001, [0.9907923, 0.0007042848435539921]\n",
      "\n"
     ]
    }
   ],
   "source": [
    "error_rates = [ii*10**(-5) for ii in range(15)]\n",
    "\n",
    "results = []\n",
    "\n",
    "shots = 10_000_000\n",
    "\n",
    "for perr in error_rates:\n",
    "    selected = 0\n",
    "    errors = 0\n",
    "\n",
    "    noisy_circ = Circuit()\n",
    "    \n",
    "    noisy_circ = construct_noisy_circuit(perr)\n",
    "    sampler = noisy_circ.compile_sampler()\n",
    "    sample = sampler.sample(shots)\n",
    "\n",
    "    for rec in sample:\n",
    "        if not rec[0]: # post-select on False flag qubit\n",
    "            mx,my = decode_sample_output(rec)\n",
    "\n",
    "            if not mx: # initialized with S_DAG\n",
    "                selected +=1\n",
    "                errors += not(mx==my)\n",
    "        \n",
    "    print(str(perr) + ', ' + str([selected/shots,errors/selected]))\n",
    "    print()"
   ]
  },
  {
   "cell_type": "code",
   "execution_count": 6,
   "id": "6c1c17d4",
   "metadata": {},
   "outputs": [
    {
     "name": "stdout",
     "output_type": "stream",
     "text": [
      "0, [1.0, 0.0]\n",
      "\n",
      "1e-05, [0.9993503, 4.352828032372632e-05]\n",
      "\n",
      "2.5e-05, [0.9983614, 0.00010737594622548509]\n",
      "\n",
      "5e-05, [0.9967139, 0.00022845071188432308]\n",
      "\n",
      "7.500000000000001e-05, [0.9950673, 0.00034490129461595213]\n",
      "\n",
      "0.0001, [0.9934573, 0.0004474273831396679]\n",
      "\n",
      "0.00025, [0.9837322, 0.0011638330025183683]\n",
      "\n",
      "0.0005, [0.9678256, 0.002347633705907345]\n",
      "\n",
      "0.00075, [0.9523612, 0.00357700418706684]\n",
      "\n",
      "0.001, [0.9373937, 0.004841082247512438]\n",
      "\n",
      "0.0025, [0.8544172, 0.01316780607881021]\n",
      "\n",
      "0.005, [0.7418412, 0.029681824088497646]\n",
      "\n",
      "0.0075, [0.6537855, 0.04922027178638865]\n",
      "\n",
      "0.01, [0.5848589, 0.0710043054829122]\n",
      "\n"
     ]
    }
   ],
   "source": [
    "error_rates = [0,\n",
    "              1.0*10**(-5), 2.5*10**(-5),5.0*10**(-5),7.5*10**(-5),\n",
    "              1.0*10**(-4), 2.5*10**(-4),5.0*10**(-4),7.5*10**(-4),\n",
    "              1.0*10**(-3), 2.5*10**(-3),5.0*10**(-3),7.5*10**(-3),\n",
    "              1.0*10**(-2)]\n",
    "\n",
    "results = []\n",
    "\n",
    "shots = 10_000_000\n",
    "\n",
    "for perr in error_rates:\n",
    "    selected = 0\n",
    "    errors = 0\n",
    "\n",
    "    noisy_circ = Circuit()\n",
    "    \n",
    "    noisy_circ = construct_noisy_circuit(perr)\n",
    "    sampler = noisy_circ.compile_sampler()\n",
    "    sample = sampler.sample(shots)\n",
    "\n",
    "    for rec in sample:\n",
    "        if not rec[0]: # post-select on False flag qubit\n",
    "            mx,my = decode_sample_output(rec)\n",
    "\n",
    "            if not mx: # initialized with S_DAG\n",
    "                selected +=1\n",
    "                errors += not(mx==my)\n",
    "        \n",
    "    print(str(perr) + ', ' + str([selected/shots,errors/selected]))\n",
    "    print()"
   ]
  },
  {
   "cell_type": "code",
   "execution_count": null,
   "id": "d2a8828c",
   "metadata": {},
   "outputs": [],
   "source": []
  }
 ],
 "metadata": {
  "kernelspec": {
   "display_name": ".venv",
   "language": "python",
   "name": "python3"
  },
  "language_info": {
   "codemirror_mode": {
    "name": "ipython",
    "version": 3
   },
   "file_extension": ".py",
   "mimetype": "text/x-python",
   "name": "python",
   "nbconvert_exporter": "python",
   "pygments_lexer": "ipython3",
   "version": "3.12.9"
  }
 },
 "nbformat": 4,
 "nbformat_minor": 5
}
