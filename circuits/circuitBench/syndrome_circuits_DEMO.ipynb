{
 "cells": [
  {
   "cell_type": "markdown",
   "metadata": {},
   "source": [
    "Here is a demonstration of how to use the tools in this repo to construct syndrome extraction circuits for the rotated surface code and to evaluate a threshold for logical state preparation under a simple single-qubit error model."
   ]
  },
  {
   "cell_type": "code",
   "execution_count": 2,
   "metadata": {},
   "outputs": [],
   "source": [
    "import sys\n",
    "import os\n",
    "sys.path.append(os.path.abspath('..'))"
   ]
  },
  {
   "cell_type": "code",
   "execution_count": 3,
   "metadata": {},
   "outputs": [],
   "source": [
    "import pymatching\n",
    "import numpy as np\n",
    "\n",
    "from scipy import sparse\n",
    "from stim import Circuit\n",
    "from csscode.cssCode import cssCode\n",
    "\n",
    "from codes.code_tools import commutation_test\n",
    "from codes.rotated_surface_code_coordinates import rsurf_stabilizer_generators as stabgens"
   ]
  },
  {
   "cell_type": "markdown",
   "metadata": {},
   "source": [
    "Functions for initializing the rotated surface code data:"
   ]
  },
  {
   "cell_type": "code",
   "execution_count": null,
   "metadata": {},
   "outputs": [],
   "source": [
    "def rsurf_code(L:int):\n",
    "    sx,sz = stabgens(L)\n",
    "    return cssCode(sx,sz)\n",
    "\n",
    "def zlogical(L:int):\n",
    "    assert L%2==1\n",
    "    return set([q for q in range(L)])"
   ]
  },
  {
   "cell_type": "markdown",
   "metadata": {},
   "source": [
    "Test that the $X$-generators of the code commute with the logical-$Z$ operator using the commutation_test function:"
   ]
  },
  {
   "cell_type": "code",
   "execution_count": null,
   "metadata": {},
   "outputs": [],
   "source": [
    "for L in [7,11,15]:\n",
    "    print(commutation_test([zlogical(L)],stabgens(L)[0]))"
   ]
  },
  {
   "cell_type": "markdown",
   "metadata": {},
   "source": [
    "Circuits for syndrome extraction and logical Z measurements of the rotated surface code:"
   ]
  },
  {
   "cell_type": "code",
   "execution_count": null,
   "metadata": {},
   "outputs": [],
   "source": [
    "def z_syn_circ(circuit:Circuit,code:cssCode):\n",
    "    for zcheck in code.check_dict[True]:\n",
    "        anc_qub = code.Nqubits+zcheck\n",
    "        for dat_qub in code.check_dict[True][zcheck]:\n",
    "            circuit.append(\"CX\",[dat_qub,anc_qub])\n",
    "        circuit.append(\"MR\",anc_qub)\n",
    "\n",
    "def x_syn_circ(circuit:Circuit,code:cssCode):\n",
    "    for xcheck in code.check_dict[False]:\n",
    "        anc_qub = code.Nqubits+len(code.check_dict[True])+xcheck\n",
    "        circuit.append(\"H\",anc_qub)\n",
    "        for dat_qub in code.check_dict[False][xcheck]:\n",
    "            circuit.append(\"CX\",[anc_qub,dat_qub])\n",
    "        circuit.append(\"H\",anc_qub)\n",
    "        circuit.append(\"MR\",anc_qub)\n",
    "\n",
    "def zL_meas_circ(circuit:Circuit,code:cssCode):\n",
    "    L = int(np.sqrt(code.Nqubits)) ## Only intended for rotated surface code\n",
    "    zL_qub = code.Nqubits+len(code.check_dict[True])+len(code.check_dict[False])\n",
    "    for dat_qub in zlogical(L):\n",
    "        circuit.append(\"CX\",[dat_qub,zL_qub])\n",
    "    circuit.append(\"MR\",zL_qub)"
   ]
  },
  {
   "cell_type": "code",
   "execution_count": null,
   "metadata": {},
   "outputs": [],
   "source": [
    "def apply_single_qubit_noise(circuit:Circuit,code:cssCode,p:list[float]):\n",
    "    circuit.append(\"PAULI_CHANNEL_1\",list(code.qubits),[p[0],p[1],p[2]])"
   ]
  },
  {
   "cell_type": "markdown",
   "metadata": {},
   "source": [
    "One round of single-qubit noise, followed by perfect syndrome extraction and then a logical measurement:"
   ]
  },
  {
   "cell_type": "code",
   "execution_count": null,
   "metadata": {},
   "outputs": [],
   "source": [
    "rs3 = rsurf_code(3)\n",
    "\n",
    "circ = Circuit()\n",
    "apply_single_qubit_noise(circ,rs3,[0.1,0.0,0.1])\n",
    "z_syn_circ(circ,rs3)\n",
    "x_syn_circ(circ,rs3)\n",
    "zL_meas_circ(circ,rs3)\n",
    "circ.diagram()"
   ]
  },
  {
   "cell_type": "markdown",
   "metadata": {},
   "source": [
    "Parity check matrices for the rotated surface code:"
   ]
  },
  {
   "cell_type": "code",
   "execution_count": null,
   "metadata": {},
   "outputs": [],
   "source": [
    "zpcm = rs3.to_check_matrices()[True]\n",
    "zrow = [elem[0] for elem in zpcm]\n",
    "zcol = [elem[1] for elem in zpcm]\n",
    "zdata = [elem[2] for elem in zpcm]\n",
    "\n",
    "hz = sparse.coo_array((zdata,(zrow,zcol))).toarray()\n",
    "\n",
    "xpcm = rs3.to_check_matrices()[False]\n",
    "xrow = [elem[0] for elem in xpcm]\n",
    "xcol = [elem[1] for elem in xpcm]\n",
    "xdata = [elem[2] for elem in xpcm]\n",
    "\n",
    "hx = sparse.coo_array((xdata,(xrow,xcol))).toarray()\n",
    "\n",
    "print('hz = ' +'\\n'+str(hz))\n",
    "print()\n",
    "print('hx = ' +'\\n'+str(hx))"
   ]
  },
  {
   "cell_type": "code",
   "execution_count": null,
   "metadata": {},
   "outputs": [],
   "source": [
    "num_shots = 10000\n",
    "\n",
    "py = 0\n",
    "pz = 0\n",
    "\n",
    "for px in [0.07, 0.10, 0.13]:\n",
    "\n",
    "    print('px = ' + str(px))\n",
    "\n",
    "    for L in [11,15,19,23]:\n",
    "        num_errs = 0\n",
    "        rs = rsurf_code(L)\n",
    "\n",
    "        zpcm = rs.to_check_matrices()[True]\n",
    "        zrow = [elem[0] for elem in zpcm]\n",
    "        zcol = [elem[1] for elem in zpcm]\n",
    "        zdata = [elem[2] for elem in zpcm]\n",
    "\n",
    "        hz = sparse.coo_array((zdata,(zrow,zcol))).toarray()\n",
    "        zL = np.array([1]*L+[0]*(rs.Nqubits-L),dtype = int)\n",
    "\n",
    "        matching = pymatching.Matching(hz)\n",
    "\n",
    "        ## Initialize the state (all qubits initially in |0> state)\n",
    "        ## Apply single qubit noise\n",
    "        ## Perform syndrome extraction\n",
    "        ## Measure the logical-Z operator\n",
    "\n",
    "        circ = Circuit()\n",
    "        apply_single_qubit_noise(circ,rs,[px,py,pz])\n",
    "        z_syn_circ(circ,rs)\n",
    "        x_syn_circ(circ,rs)\n",
    "        zL_meas_circ(circ,rs)\n",
    "\n",
    "\n",
    "        ## Generate a sampler of the circuit then perform num_shots trials\n",
    "        sampler = circ.compile_sampler()\n",
    "        results = sampler.sample(shots=num_shots)\n",
    "\n",
    "        ## Assess each result for a logical failure\n",
    "        for res in results:\n",
    "\n",
    "            ## Extract the Z portion of the syndrome (the first measurement outcomes from each trial)\n",
    "            ## Also extract the observed value of the logical-Z operator (the last measurement outcome from each trial)\n",
    "            zsynd = res[:len(rs.code[True])]\n",
    "            zmeas = res[-1]\n",
    "\n",
    "            ## Obtain the predicted error from the decoder for the observed Z-syndrome\n",
    "            prediction = matching.decode(zsynd)\n",
    "\n",
    "            ## Perform error-recovery by modifying the observed logical-Z output\n",
    "            ## The dot product of the Z-logical operator and the predicted X-error tells us if we need to flip zmeas\n",
    "            ## The initial value of zL is |0>, so if the correction predicts |1>, then error has occurred\n",
    "            num_errs += (zmeas + zL@prediction.T)%2\n",
    "\n",
    "        print('L = ' + str(L) + ', num errs = ' + str(num_errs))\n",
    "    \n",
    "    print()\n"
   ]
  },
  {
   "cell_type": "markdown",
   "metadata": {},
   "source": [
    "Below are circuits for a phenomenological noise model. In particular, we assume the extraction circuit to be perfect, except with a probability $p_{meas}$ of flipping the reported outcome."
   ]
  },
  {
   "cell_type": "code",
   "execution_count": 5,
   "metadata": {},
   "outputs": [],
   "source": [
    "def phenom_z_syn_circ(circuit:Circuit,code:cssCode,pmeas:float):\n",
    "    for zcheck in code.check_dict[True]:\n",
    "        anc_qub = code.Nqubits+zcheck\n",
    "        \n",
    "        for dat_qub in code.check_dict[True][zcheck]:\n",
    "            circuit.append(\"CX\",[dat_qub,anc_qub])\n",
    "        \n",
    "        circuit.append(\"X_ERROR\",anc_qub,pmeas)\n",
    "        circuit.append(\"MR\",anc_qub)\n",
    "\n",
    "def phenom_x_syn_circ(circuit:Circuit,code:cssCode,pmeas:float):\n",
    "    for xcheck in code.check_dict[False]:\n",
    "        anc_qub = code.Nqubits+len(code.check_dict[True])+xcheck\n",
    "\n",
    "        circuit.append(\"H\",anc_qub)\n",
    "\n",
    "        for dat_qub in code.check_dict[False][xcheck]:\n",
    "            circuit.append(\"CX\",[anc_qub,dat_qub])\n",
    "\n",
    "        circuit.append(\"H\",anc_qub)\n",
    "        circuit.append(\"X_ERROR\",anc_qub,pmeas)        \n",
    "        circuit.append(\"MR\",anc_qub)\n",
    "\n",
    "def phenom_syndrome_circuit(L:int,p1:float,pmeas:float):\n",
    "\n",
    "    rs = rsurf_code(L)\n",
    "    circ = Circuit()\n",
    "    for round in range(L):\n",
    "        apply_single_qubit_noise(circ,rs,[p1,p1,p1])\n",
    "        phenom_z_syn_circ(circ,rs,pmeas)\n",
    "        phenom_x_syn_circ(circ,rs,pmeas)\n",
    "    zL_meas_circ(circ,rs)\n",
    "\n",
    "    return circ"
   ]
  },
  {
   "cell_type": "markdown",
   "metadata": {},
   "source": [
    "We can now sample the circuit to establish an error threshold for the identity operation of the rotated surface code."
   ]
  },
  {
   "cell_type": "code",
   "execution_count": null,
   "metadata": {},
   "outputs": [],
   "source": [
    "num_shots = 200\n",
    "num_errs = 0\n",
    "\n"
   ]
  },
  {
   "cell_type": "markdown",
   "metadata": {},
   "source": [
    "Below are the noisy versions of the above syndrome measurement circuits, where the model is single-qubit and two-qubit depolarizing noise with error probabilities of $p1$ and $p2$, respectively.\n",
    "\n",
    "In each circuit noisy state preparation and measurement is modeled with single-qubit depolarizing noise following preparation, or preceding measurement, respectively.\n",
    "\n",
    "Each noisy two-qubit gate is modeled as the ideal gate followed by a two-qubit depolarizing channel."
   ]
  },
  {
   "cell_type": "code",
   "execution_count": null,
   "metadata": {},
   "outputs": [],
   "source": [
    "def noisy_z_syn_circ(circuit:Circuit,code:cssCode,p1:float,p2:float):\n",
    "    for zcheck in code.check_dict[True]:\n",
    "        anc_qub = code.Nqubits+zcheck\n",
    "        \n",
    "        circuit.append(\"DEPOLARIZE1\",anc_qub,p1)\n",
    "        \n",
    "        for dat_qub in code.check_dict[True][zcheck]:\n",
    "            circuit.append(\"CX\",[dat_qub,anc_qub])\n",
    "            circuit.append(\"DEPOLARIZE2\",[dat_qub,anc_qub],p2)\n",
    "        \n",
    "        circuit.append(\"DEPOLARIZE1\",anc_qub,p1)\n",
    "        circuit.append(\"MR\",anc_qub)\n",
    "\n",
    "def noisy_x_syn_circ(circuit:Circuit,code:cssCode,p1:float,p2:float):\n",
    "    for xcheck in code.check_dict[False]:\n",
    "        anc_qub = code.Nqubits+len(code.check_dict[True])+xcheck\n",
    "\n",
    "        circuit.append(\"H\",anc_qub)\n",
    "        circuit.append(\"DEPOLARIZE1\",anc_qub,p1)\n",
    "\n",
    "        for dat_qub in code.check_dict[False][xcheck]:\n",
    "            circuit.append(\"CX\",[anc_qub,dat_qub])\n",
    "            circuit.append(\"DEPOLARIZE2\",[anc_qub,dat_qub],p2)\n",
    "        \n",
    "        circuit.append(\"H\",anc_qub)\n",
    "        circuit.append(\"MR\",anc_qub)\n",
    "\n",
    "def noisy_syndrome_circuit(L:int,p1,p2):\n",
    "\n",
    "    rs = rsurf_code(L)\n",
    "    circ = Circuit()\n",
    "    for round in range(L):\n",
    "        apply_single_qubit_noise(circ,rs,[p1,p1,p1])\n",
    "        noisy_z_syn_circ(circ,rs,p1,p2)\n",
    "        noisy_x_syn_circ(circ,rs,p1,p2)\n",
    "    zL_meas_circ(circ,rs)\n",
    "\n",
    "    return circ"
   ]
  },
  {
   "cell_type": "markdown",
   "metadata": {},
   "source": [
    "Below we'll run a numerical experiment to estimate the threshold for the toric code under this noise model.\n",
    "In particular, we will:\n",
    "1. Prepare a state in a simultaneous $\\bar{X}_A \\bar{X}_B$, $\\bar{Z}_A \\bar{Z}_B$ eigenstate of the $L \\times L$ toric code\n",
    "2. Perform $L$ rounds of noisy syndrome extraction\n",
    "3. Decode both the $X$ and $Z$ check systems\n",
    "4. Readout the $\\bar{X}_A \\bar{X}_B$, $\\bar{Z}_A \\bar{Z}_B$ eigenvalues (with a noiseless circuit)\n",
    "5. Compare the decoded output eigenvalues with the initialized eigenvalues to see if a logical error has occurred."
   ]
  },
  {
   "cell_type": "code",
   "execution_count": null,
   "metadata": {},
   "outputs": [],
   "source": []
  }
 ],
 "metadata": {
  "kernelspec": {
   "display_name": ".env",
   "language": "python",
   "name": "python3"
  },
  "language_info": {
   "codemirror_mode": {
    "name": "ipython",
    "version": 3
   },
   "file_extension": ".py",
   "mimetype": "text/x-python",
   "name": "python",
   "nbconvert_exporter": "python",
   "pygments_lexer": "ipython3",
   "version": "3.12.9"
  }
 },
 "nbformat": 4,
 "nbformat_minor": 2
}
