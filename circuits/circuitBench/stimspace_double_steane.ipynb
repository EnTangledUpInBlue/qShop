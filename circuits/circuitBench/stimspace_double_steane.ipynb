{
 "cells": [
  {
   "cell_type": "markdown",
   "id": "12e6eca8",
   "metadata": {},
   "source": [
    "An implementation of encoded $\\ket{A^2} = \\ket{\\sqrt{-iY}} = e^{-i \\frac{\\pi}{4}Y} \\ket{+} = \\ket{1}$ preparation in the Steane code using stim.\n",
    "\n",
    "In particular, $A^2 = XH$, which will be used to implement the gate in stim.\n",
    "\n",
    "Maybe easiest to just do $Y$ eigenstate, $\\ket{+i}$?"
   ]
  },
  {
   "cell_type": "code",
   "execution_count": 1,
   "id": "7db3550f",
   "metadata": {},
   "outputs": [],
   "source": [
    "from stim import Circuit\n",
    "from noisy_circuits import noisy_steane_encoder,noisy_encoded_y\n",
    "from decoders import steane_transversal_decoder"
   ]
  },
  {
   "cell_type": "markdown",
   "id": "bb2f846c",
   "metadata": {},
   "source": [
    "The logical $X$ outcome for the repetition-encoded ancilla block indicates which eigenstate the Hadamard test tells us it projected onto.\n",
    "\n",
    "The logical $Y$ outcome for the Steane-encoded data block will indicate which eigenstate is observed.\n",
    "\n",
    "If these two observables do not match, then there is a logical error on the output."
   ]
  },
  {
   "cell_type": "markdown",
   "id": "e6006dda",
   "metadata": {},
   "source": [
    "Below is a test of the circuit without errors, which should give us no errors and always result in selected trials."
   ]
  },
  {
   "cell_type": "code",
   "execution_count": 2,
   "id": "a448af25",
   "metadata": {},
   "outputs": [],
   "source": [
    "def construct_noisy_circuit_steane2(perr:float) ->Circuit:\n",
    "    r\"\"\"\n",
    "    Method for producing a noisy circuit that in the absence of errors\n",
    "    will initialize and measure the logical Pauli-Y eigenstate |+i>.\n",
    "    In this particular circuit, the both the logical qubit and ancilla are\n",
    "    encoded into the Steane code.\n",
    "    \"\"\"\n",
    "        \n",
    "    noisy_circ = Circuit()\n",
    "\n",
    "    steaneBlockA = [0,1,2,3,4,5,6]\n",
    "    steaneBlockB = [7,8,9,10,11,12,13]\n",
    "\n",
    "    noisy_circ.append(\"RX\",steaneBlockA[0])\n",
    "    noisy_circ.append(\"S_DAG\",steaneBlockA[0]) # prep initial state to |+i>\n",
    "    \n",
    "    noisy_circ.append(\"RX\",steaneBlockB[0]) # prep unencoded ancilla in |+>\n",
    "\n",
    "    noisy_circ.append(\"DEPOLARIZE1\",[steaneBlockA[0],steaneBlockB[0]],perr) # apply noise for qubit initialization\n",
    "\n",
    "    noisy_circ = noisy_steane_encoder(noisy_circ,steaneBlockA,perr)\n",
    "    noisy_circ = noisy_steane_encoder(noisy_circ,steaneBlockB,perr)\n",
    "\n",
    "    noisy_circ = noisy_encoded_y(noisy_circ,steaneBlockA,steaneBlockB,perr)\n",
    "\n",
    "    noisy_circ.append(\"DEPOLARIZE1\",steaneBlockB,perr)\n",
    "    noisy_circ.append(\"MX\",steaneBlockB) # noisy readout transversal logical-X\n",
    "    noisy_circ.append(\"MY\",steaneBlockA) # ideal readout transversal logical-Y\n",
    "        \n",
    "    return noisy_circ"
   ]
  },
  {
   "cell_type": "code",
   "execution_count": 3,
   "id": "5f8a5385",
   "metadata": {},
   "outputs": [],
   "source": [
    "def decode_steane2_output(rec:list[bool]) -> tuple[bool,bool]:\n",
    "\n",
    "    xs = rec[:7]\n",
    "    ys = rec[7:]\n",
    "    \n",
    "    mx = steane_transversal_decoder(xs)\n",
    "    my = steane_transversal_decoder(ys)\n",
    " \n",
    "    return mx,my"
   ]
  },
  {
   "cell_type": "code",
   "execution_count": 4,
   "id": "84032018",
   "metadata": {},
   "outputs": [
    {
     "name": "stdout",
     "output_type": "stream",
     "text": [
      "0, [1.0, 0.0]\n",
      "\n",
      "1e-05, [0.9998806, 0.0]\n",
      "\n",
      "2.5e-05, [0.9997093, 0.0]\n",
      "\n",
      "5e-05, [0.9994097, 9.005315837939135e-07]\n",
      "\n",
      "7.500000000000001e-05, [0.9991151, 1.000885683741543e-06]\n",
      "\n",
      "0.0001, [0.9988209, 3.0035414757540617e-06]\n",
      "\n",
      "0.00025, [0.997019, 1.7853220450161933e-05]\n",
      "\n",
      "0.0005, [0.9939038, 7.254223195444066e-05]\n",
      "\n",
      "0.00075, [0.9907697, 0.0001631055128149357]\n",
      "\n",
      "0.001, [0.9875304, 0.0002768522366501325]\n",
      "\n",
      "0.0025, [0.9666, 0.0017257397061866335]\n",
      "\n",
      "0.005, [0.9286267, 0.00673241465058026]\n",
      "\n",
      "0.0075, [0.888523, 0.014613465267640792]\n",
      "\n",
      "0.01, [0.8489557, 0.02520885365396569]\n",
      "\n"
     ]
    }
   ],
   "source": [
    "error_rates = [0,\n",
    "              1.0*10**(-5), 2.5*10**(-5),5.0*10**(-5),7.5*10**(-5),\n",
    "              1.0*10**(-4), 2.5*10**(-4),5.0*10**(-4),7.5*10**(-4),\n",
    "              1.0*10**(-3), 2.5*10**(-3),5.0*10**(-3),7.5*10**(-3),\n",
    "              1.0*10**(-2)]\n",
    "\n",
    "results = []\n",
    "\n",
    "shots = 10_000_000\n",
    "\n",
    "for perr in error_rates:\n",
    "    selected = 0\n",
    "    errors = 0\n",
    "\n",
    "    noisy_circ = Circuit()\n",
    "    \n",
    "    noisy_circ = construct_noisy_circuit_steane2(perr)\n",
    "    sampler = noisy_circ.compile_sampler()\n",
    "    sample = sampler.sample(shots)\n",
    "\n",
    "    for rec in sample:\n",
    "        mx,my = decode_steane2_output(rec)\n",
    "        if not mx: # initialized with S_DAG\n",
    "            selected +=1\n",
    "            errors += not (mx==my)\n",
    "        \n",
    "    print(str(perr) + ', ' + str([selected/shots,errors/selected]))\n",
    "    print()"
   ]
  },
  {
   "cell_type": "code",
   "execution_count": null,
   "id": "13807010",
   "metadata": {},
   "outputs": [],
   "source": []
  }
 ],
 "metadata": {
  "kernelspec": {
   "display_name": ".venv",
   "language": "python",
   "name": "python3"
  },
  "language_info": {
   "codemirror_mode": {
    "name": "ipython",
    "version": 3
   },
   "file_extension": ".py",
   "mimetype": "text/x-python",
   "name": "python",
   "nbconvert_exporter": "python",
   "pygments_lexer": "ipython3",
   "version": "3.12.9"
  }
 },
 "nbformat": 4,
 "nbformat_minor": 5
}
