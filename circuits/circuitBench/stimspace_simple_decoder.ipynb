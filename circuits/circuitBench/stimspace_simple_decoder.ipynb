{
 "cells": [
  {
   "cell_type": "markdown",
   "id": "12e6eca8",
   "metadata": {},
   "source": [
    "An implementation of encoded $\\ket{A^2} = \\ket{\\sqrt{-iY}} = e^{-i \\frac{\\pi}{4}Y} \\ket{+} = \\ket{1}$ preparation in the Steane code using stim.\n",
    "\n",
    "In particular, $A^2 = XH$, which will be used to implement the gate in stim.\n",
    "\n",
    "Maybe easiest to just do $Y$ eigenstate, $\\ket{+i}$?"
   ]
  },
  {
   "cell_type": "code",
   "execution_count": 2,
   "id": "7db3550f",
   "metadata": {},
   "outputs": [],
   "source": [
    "from stim import Circuit\n",
    "from noisy_circuits import noisy_steane_encoder,noisy_repetition_encoder,noisy_encoded_y\n",
    "from decoders import steane_transversal_decoder,repetition_transversal_xdecoder"
   ]
  },
  {
   "cell_type": "markdown",
   "id": "bb2f846c",
   "metadata": {},
   "source": [
    "The logical $X$ outcome for the repetition-encoded ancilla block indicates which eigenstate the Hadamard test tells us it projected onto.\n",
    "\n",
    "The logical $Y$ outcome for the Steane-encoded data block will indicate which eigenstate is observed.\n",
    "\n",
    "If these two observables do not match, then there is a logical error on the output."
   ]
  },
  {
   "cell_type": "markdown",
   "id": "e6006dda",
   "metadata": {},
   "source": [
    "Below is a test of the circuit without errors, which should give us no errors and always result in selected trials."
   ]
  },
  {
   "cell_type": "code",
   "execution_count": 3,
   "id": "a448af25",
   "metadata": {},
   "outputs": [],
   "source": [
    "def construct_noisy_circuit(perr:float) -> Circuit:\n",
    "    r\"\"\"\n",
    "    Method for producing a noisy circuit that in the absence of errors\n",
    "    will initialize and measure the logical Pauli-Y eigenstate |+i>.\n",
    "    In this particular circuit, the logical qubit is encoded in a Steane code\n",
    "    while the logical ancilla is encoded into a seven-qubit repetition code.\n",
    "    \"\"\"\n",
    "\n",
    "    noisy_circ = Circuit()\n",
    "\n",
    "    steaneBlock = [0,1,2,3,4,5,6]\n",
    "    repnBlock = [7,8,9,10,11,12,13]\n",
    "\n",
    "    flag = True\n",
    "\n",
    "    # initialize the Y-eigenstate: S^dagger|+>\n",
    "\n",
    "    noisy_circ.append(\"RX\",steaneBlock[0])\n",
    "    noisy_circ.append(\"S_DAG\",steaneBlock[0])\n",
    "    \n",
    "    noisy_circ.append(\"RX\",repnBlock[0])\n",
    "\n",
    "    noisy_circ.append(\"DEPOLARIZE1\",[steaneBlock[0],repnBlock[0]],perr)\n",
    "\n",
    "    noisy_circ = noisy_steane_encoder(noisy_circ,steaneBlock,perr)\n",
    "    noisy_circ = noisy_repetition_encoder(noisy_circ,repnBlock,perr,True) # include flag qubit in encoder\n",
    "\n",
    "    noisy_circ = noisy_encoded_y(noisy_circ,steaneBlock,repnBlock,perr)\n",
    "\n",
    "    noisy_circ.append(\"MX\",repnBlock[:-1]) # readout transversal logical-X\n",
    "    noisy_circ.append(\"MY\",steaneBlock) # readout transversal logical-Y\n",
    "        \n",
    "    return noisy_circ"
   ]
  },
  {
   "cell_type": "code",
   "execution_count": 4,
   "id": "359edd2f",
   "metadata": {},
   "outputs": [],
   "source": [
    "def decode_sample_output(rec:list[bool]) -> tuple[bool,bool]:\n",
    "    r\"\"\"\n",
    "    A function that decodes a repetition code (xs) and steane code (yx) observables.\n",
    "   \n",
    "    \"\"\"\n",
    "\n",
    "    xs = rec[1:8]\n",
    "    ys = rec[8:]\n",
    "\n",
    "    mx = sum(xs)%2\n",
    "\n",
    "    my = steane_transversal_decoder(ys)\n",
    "\n",
    "    return mx,my"
   ]
  },
  {
   "cell_type": "code",
   "execution_count": null,
   "id": "6c1c17d4",
   "metadata": {},
   "outputs": [
    {
     "name": "stdout",
     "output_type": "stream",
     "text": [
      "0, [1.0, 0.0]\n",
      "\n",
      "1e-05, [0.9993503, 4.352828032372632e-05]\n",
      "\n",
      "2.5e-05, [0.9983614, 0.00010737594622548509]\n",
      "\n",
      "5e-05, [0.9967139, 0.00022845071188432308]\n",
      "\n",
      "7.500000000000001e-05, [0.9950673, 0.00034490129461595213]\n",
      "\n",
      "0.0001, [0.9934573, 0.0004474273831396679]\n",
      "\n",
      "0.00025, [0.9837322, 0.0011638330025183683]\n",
      "\n",
      "0.0005, [0.9678256, 0.002347633705907345]\n",
      "\n",
      "0.00075, [0.9523612, 0.00357700418706684]\n",
      "\n",
      "0.001, [0.9373937, 0.004841082247512438]\n",
      "\n",
      "0.0025, [0.8544172, 0.01316780607881021]\n",
      "\n",
      "0.005, [0.7418412, 0.029681824088497646]\n",
      "\n",
      "0.0075, [0.6537855, 0.04922027178638865]\n",
      "\n",
      "0.01, [0.5848589, 0.0710043054829122]\n",
      "\n"
     ]
    }
   ],
   "source": [
    "error_rates = [0,\n",
    "              1.0*10**(-5), 2.5*10**(-5),5.0*10**(-5),7.5*10**(-5),\n",
    "              1.0*10**(-4), 2.5*10**(-4),5.0*10**(-4),7.5*10**(-4),\n",
    "              1.0*10**(-3), 2.5*10**(-3),5.0*10**(-3),7.5*10**(-3),\n",
    "              1.0*10**(-2)]\n",
    "\n",
    "results = []\n",
    "\n",
    "shots = 10_000_000\n",
    "\n",
    "for perr in error_rates:\n",
    "    selected = 0\n",
    "    errors = 0\n",
    "    \n",
    "    noisy_circ = construct_noisy_circuit(perr)\n",
    "    sampler = noisy_circ.compile_sampler()\n",
    "    sample = sampler.sample(shots)\n",
    "\n",
    "    for rec in sample:\n",
    "        if not rec[0]: # post-select on False flag qubit\n",
    "            mx,my = decode_sample_output(rec)\n",
    "\n",
    "            if not mx: # post-select on expected observable for Y_L =+1\n",
    "                selected +=1\n",
    "                errors += not(mx==my)\n",
    "        \n",
    "    print(str(perr) + ', ' + str([selected/shots,errors/selected]))\n",
    "    print()"
   ]
  },
  {
   "cell_type": "code",
   "execution_count": null,
   "id": "d2a8828c",
   "metadata": {},
   "outputs": [],
   "source": []
  }
 ],
 "metadata": {
  "kernelspec": {
   "display_name": ".venv",
   "language": "python",
   "name": "python3"
  },
  "language_info": {
   "codemirror_mode": {
    "name": "ipython",
    "version": 3
   },
   "file_extension": ".py",
   "mimetype": "text/x-python",
   "name": "python",
   "nbconvert_exporter": "python",
   "pygments_lexer": "ipython3",
   "version": "3.12.9"
  }
 },
 "nbformat": 4,
 "nbformat_minor": 5
}
