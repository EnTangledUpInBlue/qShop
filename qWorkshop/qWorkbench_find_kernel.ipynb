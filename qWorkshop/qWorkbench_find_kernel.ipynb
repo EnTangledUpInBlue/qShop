{
 "cells": [
  {
   "cell_type": "code",
   "execution_count": 26,
   "metadata": {},
   "outputs": [],
   "source": [
    "import sys\n",
    "import os\n",
    "sys.path.append(os.path.abspath('..'))"
   ]
  },
  {
   "cell_type": "code",
   "execution_count": 27,
   "metadata": {},
   "outputs": [],
   "source": [
    "import csscode\n",
    "from codes.bivariate_bicycle_checks import pcm\n",
    "from codes.example_codes import steane_code, rsurf_code, toric_code\n",
    "from codes.code_tools import order_set_list, pcm_to_sets, generate_qubit_nbrs_dict, generate_check_dict, pivot_finder\n",
    "from codes.code_tools import generate_qubit_nbrs_dict, generate_check_dict, order_set_list, remove_duplicates,remove_empties"
   ]
  },
  {
   "cell_type": "code",
   "execution_count": 28,
   "metadata": {},
   "outputs": [],
   "source": [
    "sx,sz = rsurf_code(5)"
   ]
  },
  {
   "cell_type": "code",
   "execution_count": 29,
   "metadata": {},
   "outputs": [],
   "source": [
    "pxsets = pivot_finder(sx,[])\n",
    "pzsets = pivot_finder(sz,[])"
   ]
  },
  {
   "cell_type": "code",
   "execution_count": 30,
   "metadata": {},
   "outputs": [
    {
     "data": {
      "text/plain": [
       "(12, 12)"
      ]
     },
     "execution_count": 30,
     "metadata": {},
     "output_type": "execute_result"
    }
   ],
   "source": [
    "len(pxsets),len(pzsets)"
   ]
  },
  {
   "cell_type": "code",
   "execution_count": 31,
   "metadata": {},
   "outputs": [
    {
     "data": {
      "text/plain": [
       "[{0, 1},\n",
       " {1, 2, 6, 7},\n",
       " {2, 3},\n",
       " {3, 4, 8, 9},\n",
       " {5, 6, 10, 11},\n",
       " {7, 8, 12, 13},\n",
       " {11, 12, 16, 17},\n",
       " {13, 14, 18, 19},\n",
       " {15, 16, 20, 21},\n",
       " {17, 18, 22, 23},\n",
       " {21, 22},\n",
       " {23, 24}]"
      ]
     },
     "execution_count": 31,
     "metadata": {},
     "output_type": "execute_result"
    }
   ],
   "source": [
    "pxsets"
   ]
  },
  {
   "cell_type": "code",
   "execution_count": 32,
   "metadata": {},
   "outputs": [
    {
     "data": {
      "text/plain": [
       "[{0, 1, 5, 6},\n",
       " {2, 3, 7, 8},\n",
       " {4, 9},\n",
       " {5, 10},\n",
       " {6, 7, 11, 12},\n",
       " {8, 9, 13, 14},\n",
       " {10, 11, 15, 16},\n",
       " {12, 13, 17, 18},\n",
       " {14, 19},\n",
       " {15, 20},\n",
       " {16, 17, 21, 22},\n",
       " {18, 19, 23, 24}]"
      ]
     },
     "execution_count": 32,
     "metadata": {},
     "output_type": "execute_result"
    }
   ],
   "source": [
    "pzsets"
   ]
  },
  {
   "cell_type": "markdown",
   "metadata": {},
   "source": [
    "Go through the pivot sets and add elements as needed"
   ]
  },
  {
   "cell_type": "code",
   "execution_count": 33,
   "metadata": {},
   "outputs": [],
   "source": [
    "def kernel_updater(kers,pivot,excluded_qubits):\n",
    "    new_kers = []\n",
    "    for pker in kers:\n",
    "        if len(pker&pivot)%2:\n",
    "            for qub in list(pivot-excluded_qubits):\n",
    "                new_kers.append(pker|set([qub]))\n",
    "                excluded_qubits.add(qub)\n",
    "        else:\n",
    "            new_kers.append(pker)\n",
    "    return new_kers,excluded_qubits"
   ]
  },
  {
   "cell_type": "code",
   "execution_count": 34,
   "metadata": {},
   "outputs": [],
   "source": [
    "xpivots = pivot_finder(sx,[])\n",
    "pivot1 = sorted(list(xpivots[0]))\n",
    "kers = [set([pivot1[0],pivot1[ii]]) for ii in range(1,len(pivot1))]\n",
    "excluded_qubits = set()"
   ]
  },
  {
   "cell_type": "code",
   "execution_count": 35,
   "metadata": {},
   "outputs": [
    {
     "data": {
      "text/plain": [
       "[{0, 1}]"
      ]
     },
     "execution_count": 35,
     "metadata": {},
     "output_type": "execute_result"
    }
   ],
   "source": [
    "kers"
   ]
  },
  {
   "cell_type": "code",
   "execution_count": 36,
   "metadata": {},
   "outputs": [],
   "source": [
    "for piv in xpivots[1:]:\n",
    "    kers,excluded_qubits = kernel_updater(kers,piv,excluded_qubits)\n"
   ]
  },
  {
   "cell_type": "code",
   "execution_count": 37,
   "metadata": {},
   "outputs": [
    {
     "data": {
      "text/plain": [
       "[{0, 1},\n",
       " {0, 1, 2, 3, 8, 12, 16, 20},\n",
       " {0, 1, 2, 3, 8, 12, 15, 16},\n",
       " {0, 1, 2, 3, 8, 12, 17, 23, 24},\n",
       " {0, 1, 2, 3, 8, 13, 19},\n",
       " {0, 1, 2, 3, 8, 13, 14},\n",
       " {0, 1, 2, 3, 9},\n",
       " {0, 1, 2, 3, 4},\n",
       " {0, 1, 6, 10},\n",
       " {0, 1, 5, 6}]"
      ]
     },
     "execution_count": 37,
     "metadata": {},
     "output_type": "execute_result"
    }
   ],
   "source": [
    "kers"
   ]
  },
  {
   "cell_type": "code",
   "execution_count": null,
   "metadata": {},
   "outputs": [],
   "source": [
    "for k in kers:\n",
    "    print(k)"
   ]
  },
  {
   "cell_type": "code",
   "execution_count": null,
   "metadata": {},
   "outputs": [],
   "source": [
    "zpivots = pivot_finder(sz,[])"
   ]
  },
  {
   "cell_type": "code",
   "execution_count": null,
   "metadata": {},
   "outputs": [],
   "source": [
    "zpivots"
   ]
  },
  {
   "cell_type": "code",
   "execution_count": null,
   "metadata": {},
   "outputs": [],
   "source": [
    "for k in kers:\n",
    "    if k in zpivots+pivots:\n",
    "        kers.remove(k)"
   ]
  },
  {
   "cell_type": "code",
   "execution_count": null,
   "metadata": {},
   "outputs": [],
   "source": [
    "kers[-1]"
   ]
  },
  {
   "cell_type": "code",
   "execution_count": null,
   "metadata": {},
   "outputs": [],
   "source": [
    "zpivots+pivots"
   ]
  },
  {
   "cell_type": "code",
   "execution_count": null,
   "metadata": {},
   "outputs": [],
   "source": [
    "kers"
   ]
  },
  {
   "cell_type": "code",
   "execution_count": null,
   "metadata": {},
   "outputs": [],
   "source": [
    "def kerneler(set_list):\n",
    "    pivots = pivot_finder(set_list,[])\n",
    "    s1 = sorted(list(pivots[0]))\n",
    "    kers = [set([s1[0],s1[ii]]) for ii in range(1,len(s1))]\n",
    "    considered_qubits = set()\n",
    "    qubits = set.union(*pxsets)\n",
    "    tt=0\n",
    "    for si in pivots[1:]:\n",
    "        print(tt)\n",
    "        new_kers = []\n",
    "        old_kers = []\n",
    "        for pker in kers:\n",
    "            if len(pker&si)%2:\n",
    "                print(pker)\n",
    "                old_kers.append(pker)\n",
    "                for qub in list(si-considered_qubits):\n",
    "                    new_kers.append(pker|set([qub]))\n",
    "        print(kers)\n",
    "        print(old_kers)\n",
    "        old_kers = remove_duplicates(old_kers)\n",
    "        kers.remove(*old_kers)\n",
    "        kers.append(new_kers)\n",
    "    return kers"
   ]
  },
  {
   "cell_type": "code",
   "execution_count": null,
   "metadata": {},
   "outputs": [],
   "source": [
    "kers = kerneler(pxsets)"
   ]
  },
  {
   "cell_type": "code",
   "execution_count": null,
   "metadata": {},
   "outputs": [],
   "source": [
    "[{0,1}].remove(*[{0,1}])"
   ]
  },
  {
   "cell_type": "code",
   "execution_count": null,
   "metadata": {},
   "outputs": [],
   "source": []
  }
 ],
 "metadata": {
  "kernelspec": {
   "display_name": "Python 3",
   "language": "python",
   "name": "python3"
  },
  "language_info": {
   "codemirror_mode": {
    "name": "ipython",
    "version": 3
   },
   "file_extension": ".py",
   "mimetype": "text/x-python",
   "name": "python",
   "nbconvert_exporter": "python",
   "pygments_lexer": "ipython3",
   "version": "3.12.1"
  }
 },
 "nbformat": 4,
 "nbformat_minor": 2
}
