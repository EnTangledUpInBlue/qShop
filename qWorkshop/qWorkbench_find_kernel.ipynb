{
 "cells": [
  {
   "cell_type": "code",
   "execution_count": 1,
   "metadata": {},
   "outputs": [],
   "source": [
    "import sys\n",
    "import os\n",
    "sys.path.append(os.path.abspath('..'))"
   ]
  },
  {
   "cell_type": "code",
   "execution_count": 2,
   "metadata": {},
   "outputs": [],
   "source": [
    "import csscode\n",
    "from codes.bivariate_bicycle_checks import pcm\n",
    "from codes.example_codes import steane_code, rsurf_code, toric_code\n",
    "from codes.code_tools import order_set_list, pcm_to_sets, generate_syndrome_dict, generate_check_dict, pivot_finder, remove_duplicates,remove_empties"
   ]
  },
  {
   "cell_type": "code",
   "execution_count": 3,
   "metadata": {},
   "outputs": [],
   "source": [
    "from codes.rotated_surface_code_coordinates import rsurf_q2i"
   ]
  },
  {
   "cell_type": "code",
   "execution_count": 10,
   "metadata": {},
   "outputs": [],
   "source": [
    "rs5 = rsurf_q2i(5)"
   ]
  },
  {
   "cell_type": "code",
   "execution_count": 11,
   "metadata": {},
   "outputs": [
    {
     "data": {
      "text/plain": [
       "{(0, 0): 0,\n",
       " (0, 2): 1,\n",
       " (0, 4): 2,\n",
       " (0, 6): 3,\n",
       " (0, 8): 4,\n",
       " (2, 0): 5,\n",
       " (2, 2): 6,\n",
       " (2, 4): 7,\n",
       " (2, 6): 8,\n",
       " (2, 8): 9,\n",
       " (4, 0): 10,\n",
       " (4, 2): 11,\n",
       " (4, 4): 12,\n",
       " (4, 6): 13,\n",
       " (4, 8): 14,\n",
       " (6, 0): 15,\n",
       " (6, 2): 16,\n",
       " (6, 4): 17,\n",
       " (6, 6): 18,\n",
       " (6, 8): 19,\n",
       " (8, 0): 20,\n",
       " (8, 2): 21,\n",
       " (8, 4): 22,\n",
       " (8, 6): 23,\n",
       " (8, 8): 24}"
      ]
     },
     "execution_count": 11,
     "metadata": {},
     "output_type": "execute_result"
    }
   ],
   "source": [
    "rs5"
   ]
  },
  {
   "cell_type": "code",
   "execution_count": 12,
   "metadata": {},
   "outputs": [],
   "source": [
    "sx,sz = rsurf_code(5)"
   ]
  },
  {
   "cell_type": "code",
   "execution_count": 13,
   "metadata": {},
   "outputs": [
    {
     "data": {
      "text/plain": [
       "[{0, 1},\n",
       " {2, 3},\n",
       " {1, 2, 6, 7},\n",
       " {3, 4, 8, 9},\n",
       " {5, 6, 10, 11},\n",
       " {7, 8, 12, 13},\n",
       " {11, 12, 16, 17},\n",
       " {13, 14, 18, 19},\n",
       " {15, 16, 20, 21},\n",
       " {17, 18, 22, 23},\n",
       " {21, 22},\n",
       " {23, 24}]"
      ]
     },
     "execution_count": 13,
     "metadata": {},
     "output_type": "execute_result"
    }
   ],
   "source": [
    "sx"
   ]
  },
  {
   "cell_type": "code",
   "execution_count": 21,
   "metadata": {},
   "outputs": [
    {
     "data": {
      "text/plain": [
       "[{0, 1, 5, 6},\n",
       " {2, 3, 7, 8},\n",
       " {4, 9},\n",
       " {5, 10},\n",
       " {6, 7, 11, 12},\n",
       " {8, 9, 13, 14},\n",
       " {10, 11, 15, 16},\n",
       " {12, 13, 17, 18},\n",
       " {14, 19},\n",
       " {15, 20},\n",
       " {16, 17, 21, 22},\n",
       " {18, 19, 23, 24}]"
      ]
     },
     "execution_count": 21,
     "metadata": {},
     "output_type": "execute_result"
    }
   ],
   "source": [
    "sz"
   ]
  },
  {
   "cell_type": "code",
   "execution_count": 4,
   "metadata": {},
   "outputs": [],
   "source": [
    "imx = pivot_finder(sx,[])\n",
    "imz = pivot_finder(sz,[])"
   ]
  },
  {
   "cell_type": "code",
   "execution_count": 5,
   "metadata": {},
   "outputs": [],
   "source": [
    "qubits = set.union(*imx)"
   ]
  },
  {
   "cell_type": "code",
   "execution_count": 6,
   "metadata": {},
   "outputs": [
    {
     "data": {
      "text/plain": [
       "(9, 4, 4)"
      ]
     },
     "execution_count": 6,
     "metadata": {},
     "output_type": "execute_result"
    }
   ],
   "source": [
    "len(qubits),len(imx),len(imz)"
   ]
  },
  {
   "cell_type": "code",
   "execution_count": 16,
   "metadata": {},
   "outputs": [],
   "source": [
    "def column_echelon_form(set_list):\n",
    "\n",
    "    min_set = pivot_finder(set_list,[])\n",
    "    qubits = set.union(*set_list)\n",
    "\n",
    "    pivots = set()\n",
    "    \n",
    "    for pivot_set in min_set:\n",
    "        pivots.add(min(pivot_set))\n",
    "\n",
    "    syndromes = generate_syndrome_dict(min_set)\n",
    "\n",
    "    col_sets = {0:set([0])}\n",
    "\n",
    "    qlist = sorted(list(qubits))\n",
    "    for q in sorted(list(qubits)):\n",
    "        col = {q}\n",
    "\n",
    "        if q in pivots:\n",
    "            for piv in pivots&set(qlist[:q]):\n",
    "                if not syndromes[q].isdisjoint(syndromes[piv]):\n",
    "                    col.add(piv)\n",
    "            col_sets[q] = col\n",
    "        else:\n",
    "            for piv in pivots&set(qlist[:q]):\n",
    "                if not syndromes[q].isdisjoint(syndromes[piv]):\n",
    "                    col|=col_sets[piv]\n",
    "            col_sets[q] = col\n",
    "\n",
    "    return col_sets,list(qubits-pivots)"
   ]
  },
  {
   "cell_type": "code",
   "execution_count": 17,
   "metadata": {},
   "outputs": [],
   "source": [
    "def kernel(set_list):\n",
    "    ker = []\n",
    "    col_sets,zero_cols = column_echelon_form(set_list)\n",
    "    ker = pivot_finder([col_sets[col] for col in zero_cols],[])\n",
    "    return ker"
   ]
  },
  {
   "cell_type": "code",
   "execution_count": 18,
   "metadata": {},
   "outputs": [],
   "source": [
    "kerx = kernel(sx)"
   ]
  },
  {
   "cell_type": "code",
   "execution_count": 19,
   "metadata": {},
   "outputs": [
    {
     "data": {
      "text/plain": [
       "13"
      ]
     },
     "execution_count": 19,
     "metadata": {},
     "output_type": "execute_result"
    }
   ],
   "source": [
    "len(kerx)"
   ]
  },
  {
   "cell_type": "code",
   "execution_count": 20,
   "metadata": {},
   "outputs": [
    {
     "data": {
      "text/plain": [
       "[{0, 1, 2, 5, 6},\n",
       " {1, 2, 3, 7, 8},\n",
       " {2, 3, 4},\n",
       " {3, 5, 8, 11, 12},\n",
       " {4, 9},\n",
       " {5, 10},\n",
       " {7, 11, 13, 17, 18},\n",
       " {10, 11, 15, 16},\n",
       " {11, 14, 17, 18},\n",
       " {14, 15, 18, 21, 22},\n",
       " {15, 18, 19, 21, 22},\n",
       " {17, 23, 24},\n",
       " {18, 19, 20, 21, 22}]"
      ]
     },
     "execution_count": 20,
     "metadata": {},
     "output_type": "execute_result"
    }
   ],
   "source": [
    "kerx"
   ]
  },
  {
   "cell_type": "code",
   "execution_count": 12,
   "metadata": {},
   "outputs": [
    {
     "data": {
      "text/plain": [
       "[{0, 1, 5, 6},\n",
       " {2, 3, 7, 8},\n",
       " {4, 9},\n",
       " {5, 10},\n",
       " {6, 7, 11, 12},\n",
       " {8, 9, 13, 14},\n",
       " {10, 11, 15, 16},\n",
       " {12, 13, 17, 18},\n",
       " {14, 19},\n",
       " {15, 20},\n",
       " {16, 17, 21, 22},\n",
       " {18, 19, 23, 24}]"
      ]
     },
     "execution_count": 12,
     "metadata": {},
     "output_type": "execute_result"
    }
   ],
   "source": [
    "imz"
   ]
  },
  {
   "cell_type": "code",
   "execution_count": 14,
   "metadata": {},
   "outputs": [
    {
     "data": {
      "text/plain": [
       "[{0, 1},\n",
       " {1, 2, 6, 7},\n",
       " {2, 3},\n",
       " {3, 4, 8, 9},\n",
       " {5, 6, 10, 11},\n",
       " {7, 8, 12, 13},\n",
       " {11, 12, 16, 17},\n",
       " {13, 14, 18, 19},\n",
       " {15, 16, 20, 21},\n",
       " {17, 18, 22, 23},\n",
       " {21, 22},\n",
       " {23, 24}]"
      ]
     },
     "execution_count": 14,
     "metadata": {},
     "output_type": "execute_result"
    }
   ],
   "source": [
    "imx"
   ]
  },
  {
   "cell_type": "markdown",
   "metadata": {},
   "source": [
    "Still not working"
   ]
  },
  {
   "cell_type": "code",
   "execution_count": 13,
   "metadata": {},
   "outputs": [
    {
     "name": "stdout",
     "output_type": "stream",
     "text": [
      "{0, 1, 2, 5, 6}\n",
      "{1, 2, 3, 7, 8}\n",
      "{2, 3, 4}\n",
      "{3, 5, 8, 11, 12}\n",
      "{17, 18, 7, 11, 13}\n",
      "{11, 14, 17, 18}\n",
      "{18, 21, 22, 14, 15}\n",
      "{15, 18, 19, 21, 22}\n",
      "{24, 17, 23}\n",
      "{18, 19, 20, 21, 22}\n"
     ]
    }
   ],
   "source": [
    "for op in kerx:\n",
    "    if op not in imz:\n",
    "        print(op)"
   ]
  },
  {
   "cell_type": "code",
   "execution_count": null,
   "metadata": {},
   "outputs": [],
   "source": [
    "imz"
   ]
  },
  {
   "cell_type": "code",
   "execution_count": null,
   "metadata": {},
   "outputs": [],
   "source": []
  }
 ],
 "metadata": {
  "kernelspec": {
   "display_name": ".env",
   "language": "python",
   "name": "python3"
  },
  "language_info": {
   "codemirror_mode": {
    "name": "ipython",
    "version": 3
   },
   "file_extension": ".py",
   "mimetype": "text/x-python",
   "name": "python",
   "nbconvert_exporter": "python",
   "pygments_lexer": "ipython3",
   "version": "3.12.9"
  }
 },
 "nbformat": 4,
 "nbformat_minor": 2
}
