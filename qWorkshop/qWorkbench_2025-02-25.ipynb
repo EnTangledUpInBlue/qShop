{
 "cells": [
  {
   "cell_type": "code",
   "execution_count": 5,
   "metadata": {},
   "outputs": [],
   "source": [
    "import sys\n",
    "import os\n",
    "sys.path.append(os.path.abspath('..'))"
   ]
  },
  {
   "cell_type": "code",
   "execution_count": 1,
   "metadata": {},
   "outputs": [],
   "source": [
    "import numpy as np"
   ]
  },
  {
   "cell_type": "markdown",
   "metadata": {},
   "source": []
  },
  {
   "cell_type": "code",
   "execution_count": 7,
   "metadata": {},
   "outputs": [],
   "source": [
    "import csscode\n",
    "from codes.bivariate_bicycle_checks import pcm\n",
    "from codes.example_codes import steane_code, rsurf_code, toric_code\n",
    "from codes.code_tools import order_set_list, pcm_to_sets, generate_qubit_nbrs_dict, generate_check_dict, stabilizer_pivots"
   ]
  },
  {
   "cell_type": "code",
   "execution_count": 8,
   "metadata": {},
   "outputs": [],
   "source": [
    "xset,zset = toric_code(3,3)"
   ]
  },
  {
   "cell_type": "code",
   "execution_count": null,
   "metadata": {},
   "outputs": [],
   "source": [
    "sxsets = stabilizer_pivots(xset)\n",
    "szsets = stabilizer_pivots(zset)"
   ]
  },
  {
   "cell_type": "code",
   "execution_count": null,
   "metadata": {},
   "outputs": [],
   "source": [
    "print(len(set.union(*(xset+zset))))\n",
    "print(len(sxsets))\n",
    "print(len(szsets))"
   ]
  },
  {
   "cell_type": "code",
   "execution_count": 9,
   "metadata": {},
   "outputs": [],
   "source": [
    "pivot_sets = dict()\n",
    "qubit_dict = generate_qubit_nbrs_dict(xset)\n",
    "check_dict = generate_check_dict(xset)\n",
    "chosen_ones = set()"
   ]
  },
  {
   "cell_type": "code",
   "execution_count": 10,
   "metadata": {},
   "outputs": [
    {
     "name": "stdout",
     "output_type": "stream",
     "text": [
      "[0, 1, 2, 3, 4, 5, 6, 7, 8, 9, 10, 11, 12, 13, 14, 15, 16, 17]\n"
     ]
    }
   ],
   "source": [
    "qubits = sorted(list(set.union(*xset)))\n",
    "print(qubits)"
   ]
  },
  {
   "cell_type": "code",
   "execution_count": 27,
   "metadata": {},
   "outputs": [
    {
     "name": "stdout",
     "output_type": "stream",
     "text": [
      "[0, [0, 1, 4, 16]]\n",
      "[1, [3, 4, 5, 15, 16, 17]]\n",
      "[2, [1, 2, 5, 17]]\n",
      "[3, [3, 6, 8, 9]]\n",
      "[4, [4, 6, 7, 10]]\n",
      "[5, [5, 7, 8, 11]]\n",
      "[6, [9, 12, 14, 15]]\n",
      "[7, [10, 12, 13, 16]]\n",
      "[8, [11, 13, 14, 17]]\n"
     ]
    }
   ],
   "source": [
    "for k,v in check_dict.items():\n",
    "    print([k,sorted(list(v))])"
   ]
  },
  {
   "cell_type": "code",
   "execution_count": 19,
   "metadata": {},
   "outputs": [
    {
     "name": "stdout",
     "output_type": "stream",
     "text": [
      "[0, [0, 1, 4, 16]]\n",
      "[1, [1, 2, 3, 4, 15, 16]]\n",
      "[2, [1, 2, 5, 17]]\n",
      "[3, [3, 6, 8, 9]]\n",
      "[4, [4, 6, 7, 10]]\n",
      "[5, [5, 7, 8, 11]]\n",
      "[6, [9, 12, 14, 15]]\n",
      "[7, [10, 12, 13, 16]]\n",
      "[8, [11, 13, 14, 17]]\n"
     ]
    }
   ],
   "source": [
    "for k,v in check_dict.items():\n",
    "    print([k,sorted(list(v))])"
   ]
  },
  {
   "cell_type": "code",
   "execution_count": 20,
   "metadata": {},
   "outputs": [
    {
     "name": "stdout",
     "output_type": "stream",
     "text": [
      "[0, [1]]\n",
      "[1, [2]]\n",
      "[2, [1, 2]]\n",
      "[3, [1, 3]]\n",
      "[4, [4]]\n",
      "[5, [2, 5]]\n",
      "[6, [3, 4]]\n",
      "[7, [4, 5]]\n",
      "[8, [3, 5]]\n",
      "[9, [3, 6]]\n",
      "[10, [4, 7]]\n",
      "[11, [5, 8]]\n",
      "[12, [6, 7]]\n",
      "[13, [7, 8]]\n",
      "[14, [6, 8]]\n",
      "[15, [1, 6]]\n",
      "[16, [7]]\n",
      "[17, [2, 8]]\n"
     ]
    }
   ],
   "source": [
    "for k,v in qubit_dict.items():\n",
    "    print([k,sorted(list(v))])"
   ]
  },
  {
   "cell_type": "code",
   "execution_count": 28,
   "metadata": {},
   "outputs": [
    {
     "name": "stdout",
     "output_type": "stream",
     "text": [
      "[0, [1]]\n",
      "[1, []]\n",
      "[2, [1]]\n",
      "[3, [1, 3]]\n",
      "[4, [4]]\n",
      "[5, [5]]\n",
      "[6, [3, 4]]\n",
      "[7, [4, 5]]\n",
      "[8, [3, 5]]\n",
      "[9, [3, 6]]\n",
      "[10, [4, 7]]\n",
      "[11, [5, 8]]\n",
      "[12, [6, 7]]\n",
      "[13, [7, 8]]\n",
      "[14, [6, 8]]\n",
      "[15, [1, 6]]\n",
      "[16, [7]]\n",
      "[17, [8]]\n"
     ]
    }
   ],
   "source": [
    "for k,v in qubit_dict.items():\n",
    "    print([k,sorted(list(v))])"
   ]
  },
  {
   "cell_type": "code",
   "execution_count": 29,
   "metadata": {},
   "outputs": [],
   "source": [
    "q=2"
   ]
  },
  {
   "cell_type": "code",
   "execution_count": 30,
   "metadata": {},
   "outputs": [
    {
     "name": "stdout",
     "output_type": "stream",
     "text": [
      "{1}\n"
     ]
    }
   ],
   "source": [
    "qchecks = qubit_dict[q]\n",
    "print(qchecks)"
   ]
  },
  {
   "cell_type": "code",
   "execution_count": 31,
   "metadata": {},
   "outputs": [],
   "source": [
    "Cq = qchecks.pop()\n",
    "chosen_ones.add(Cq)\n",
    "pivot_sets[q] = check_dict[Cq]"
   ]
  },
  {
   "cell_type": "code",
   "execution_count": 32,
   "metadata": {},
   "outputs": [
    {
     "name": "stdout",
     "output_type": "stream",
     "text": [
      "1\n",
      "{0, 1, 2}\n",
      "[0, [0, 1, 4, 16]]\n",
      "[1, [1, 2, 5, 17]]\n",
      "[2, [3, 4, 5, 15, 16, 17]]\n"
     ]
    }
   ],
   "source": [
    "print(Cq)\n",
    "print(chosen_ones)\n",
    "for k,v in pivot_sets.items():\n",
    "    print([k,sorted(list(v))])"
   ]
  },
  {
   "cell_type": "code",
   "execution_count": 25,
   "metadata": {},
   "outputs": [],
   "source": [
    "for qp in qubits:\n",
    "    qubit_dict[qp] -= set([Cq])"
   ]
  },
  {
   "cell_type": "code",
   "execution_count": 26,
   "metadata": {},
   "outputs": [],
   "source": [
    "for chk in set(check_dict.keys())-chosen_ones:\n",
    "    if q in check_dict[chk]:\n",
    "        check_dict[chk]^=check_dict[Cq]"
   ]
  },
  {
   "cell_type": "code",
   "execution_count": null,
   "metadata": {},
   "outputs": [],
   "source": []
  },
  {
   "cell_type": "code",
   "execution_count": null,
   "metadata": {},
   "outputs": [],
   "source": []
  },
  {
   "cell_type": "code",
   "execution_count": null,
   "metadata": {},
   "outputs": [],
   "source": [
    "sx = pcm_to_sets(pcm(6,6,[3,1,2],[3,1,2])[0])\n",
    "sz = pcm_to_sets(pcm(6,6,[3,1,2],[3,1,2])[1])"
   ]
  },
  {
   "cell_type": "code",
   "execution_count": null,
   "metadata": {},
   "outputs": [],
   "source": [
    "pxsets = stabilizer_pivots(sx)\n",
    "pzsets = stabilizer_pivots(sz)"
   ]
  },
  {
   "cell_type": "code",
   "execution_count": null,
   "metadata": {},
   "outputs": [],
   "source": [
    "[len(sx),len(sz)]"
   ]
  },
  {
   "cell_type": "code",
   "execution_count": null,
   "metadata": {},
   "outputs": [],
   "source": [
    "[len(pxsets),len(pzsets)]"
   ]
  },
  {
   "cell_type": "code",
   "execution_count": null,
   "metadata": {},
   "outputs": [],
   "source": [
    "for x in sorted(list(pzsets.keys())):\n",
    "    print([x,sorted(list(pzsets[x]))])"
   ]
  },
  {
   "cell_type": "code",
   "execution_count": null,
   "metadata": {},
   "outputs": [],
   "source": [
    "for x in sorted(list(pxsets.keys())):\n",
    "    print([x,sorted(list(pxsets[x]))])"
   ]
  },
  {
   "cell_type": "code",
   "execution_count": null,
   "metadata": {},
   "outputs": [],
   "source": [
    "xpivots = dict()\n",
    "qubit_nds = generate_qubit_nbrs_dict(sx)\n",
    "check_dict = generate_check_dict(sx)\n",
    "qubits = sorted(list(set.union(*sx)))"
   ]
  },
  {
   "cell_type": "code",
   "execution_count": null,
   "metadata": {},
   "outputs": [],
   "source": [
    "q=1"
   ]
  },
  {
   "cell_type": "code",
   "execution_count": null,
   "metadata": {},
   "outputs": [],
   "source": [
    "qchecks = qubit_nds[q]"
   ]
  },
  {
   "cell_type": "code",
   "execution_count": null,
   "metadata": {},
   "outputs": [],
   "source": [
    "qchecks"
   ]
  },
  {
   "cell_type": "code",
   "execution_count": null,
   "metadata": {},
   "outputs": [],
   "source": [
    "Cq = qchecks.pop()"
   ]
  },
  {
   "cell_type": "code",
   "execution_count": null,
   "metadata": {},
   "outputs": [],
   "source": [
    "qchecks"
   ]
  },
  {
   "cell_type": "code",
   "execution_count": null,
   "metadata": {},
   "outputs": [],
   "source": [
    "check_dict[Cq]"
   ]
  },
  {
   "cell_type": "code",
   "execution_count": null,
   "metadata": {},
   "outputs": [],
   "source": [
    "xpivots[Cq] = check_dict[Cq]"
   ]
  },
  {
   "cell_type": "code",
   "execution_count": null,
   "metadata": {},
   "outputs": [],
   "source": [
    "xpivots"
   ]
  },
  {
   "cell_type": "code",
   "execution_count": null,
   "metadata": {},
   "outputs": [],
   "source": [
    "xpivots.keys()"
   ]
  },
  {
   "cell_type": "code",
   "execution_count": null,
   "metadata": {},
   "outputs": [],
   "source": [
    "for check_label in sorted(list(check_dict.keys())):\n",
    "    print(check_label)\n",
    "    if not check_label in xpivots.keys():\n",
    "        if q in check_dict[check_label]:\n",
    "            print(check_label)\n",
    "            print('before ' + str(check_dict[check_label]))\n",
    "            check_dict[check_label] ^= xpivots[Cq]\n",
    "            print('after ' + str(check_dict[check_label]))\n",
    "            print()"
   ]
  },
  {
   "cell_type": "code",
   "execution_count": null,
   "metadata": {},
   "outputs": [],
   "source": [
    "print(xpivots)"
   ]
  },
  {
   "cell_type": "code",
   "execution_count": null,
   "metadata": {},
   "outputs": [],
   "source": [
    "for g in sorted(list(check_dict.keys())):\n",
    "    print([g,check_dict[g]])"
   ]
  },
  {
   "cell_type": "code",
   "execution_count": null,
   "metadata": {},
   "outputs": [],
   "source": []
  }
 ],
 "metadata": {
  "kernelspec": {
   "display_name": "Python 3",
   "language": "python",
   "name": "python3"
  },
  "language_info": {
   "codemirror_mode": {
    "name": "ipython",
    "version": 3
   },
   "file_extension": ".py",
   "mimetype": "text/x-python",
   "name": "python",
   "nbconvert_exporter": "python",
   "pygments_lexer": "ipython3",
   "version": "3.12.1"
  }
 },
 "nbformat": 4,
 "nbformat_minor": 2
}
