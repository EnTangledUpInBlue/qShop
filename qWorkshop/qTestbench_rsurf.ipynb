{
 "cells": [
  {
   "cell_type": "code",
   "execution_count": 1,
   "metadata": {},
   "outputs": [],
   "source": [
    "import sys\n",
    "import os\n",
    "sys.path.append(os.path.abspath('..'))"
   ]
  },
  {
   "cell_type": "code",
   "execution_count": 5,
   "metadata": {},
   "outputs": [],
   "source": [
    "from codes.example_codes import rsurf_code\n",
    "from codes.rotated_surface_code_coordinates import rsurf_q2i\n",
    "from codes.code_tools import generate_syndrome_dict, pivot_finder, remove_duplicates_empties, pivots\n",
    "from csscode.cssCode import cssCode"
   ]
  },
  {
   "cell_type": "code",
   "execution_count": 4,
   "metadata": {},
   "outputs": [],
   "source": [
    "rs5 = rsurf_q2i(5)"
   ]
  },
  {
   "cell_type": "code",
   "execution_count": 4,
   "metadata": {},
   "outputs": [],
   "source": [
    "sx,sz = rsurf_code(5)"
   ]
  },
  {
   "cell_type": "code",
   "execution_count": 6,
   "metadata": {},
   "outputs": [],
   "source": [
    "css_rsurf5 = cssCode(sx,sz)"
   ]
  },
  {
   "cell_type": "code",
   "execution_count": 7,
   "metadata": {},
   "outputs": [],
   "source": [
    "rs5tg = css_rsurf5.to_tanner_graph()"
   ]
  },
  {
   "cell_type": "code",
   "execution_count": 12,
   "metadata": {},
   "outputs": [
    {
     "name": "stdout",
     "output_type": "stream",
     "text": [
      "(0, {'qubit_type': 'B'})\n",
      "(1, {'qubit_type': 'B'})\n",
      "(2, {'qubit_type': 'B'})\n",
      "(3, {'qubit_type': 'B'})\n",
      "(4, {'qubit_type': 'B'})\n",
      "(5, {'qubit_type': 'B'})\n",
      "(6, {'qubit_type': 'B'})\n",
      "(7, {'qubit_type': 'B'})\n",
      "(8, {'qubit_type': 'B'})\n",
      "(9, {'qubit_type': 'B'})\n",
      "(10, {'qubit_type': 'B'})\n",
      "(11, {'qubit_type': 'B'})\n",
      "(12, {'qubit_type': 'B'})\n",
      "(13, {'qubit_type': 'B'})\n",
      "(14, {'qubit_type': 'B'})\n",
      "(15, {'qubit_type': 'B'})\n",
      "(16, {'qubit_type': 'B'})\n",
      "(17, {'qubit_type': 'B'})\n",
      "(18, {'qubit_type': 'B'})\n",
      "(19, {'qubit_type': 'B'})\n",
      "(20, {'qubit_type': 'B'})\n",
      "(21, {'qubit_type': 'B'})\n",
      "(22, {'qubit_type': 'B'})\n",
      "(23, {'qubit_type': 'B'})\n",
      "(24, {'qubit_type': 'B'})\n",
      "(25, {'qubit_type': 'X'})\n",
      "(26, {'qubit_type': 'X'})\n",
      "(27, {'qubit_type': 'X'})\n",
      "(28, {'qubit_type': 'X'})\n",
      "(29, {'qubit_type': 'X'})\n",
      "(30, {'qubit_type': 'X'})\n",
      "(31, {'qubit_type': 'X'})\n",
      "(32, {'qubit_type': 'X'})\n",
      "(33, {'qubit_type': 'X'})\n",
      "(34, {'qubit_type': 'X'})\n",
      "(35, {'qubit_type': 'X'})\n",
      "(36, {'qubit_type': 'X'})\n",
      "(37, {'qubit_type': 'Z'})\n",
      "(38, {'qubit_type': 'Z'})\n",
      "(39, {'qubit_type': 'Z'})\n",
      "(40, {'qubit_type': 'Z'})\n",
      "(41, {'qubit_type': 'Z'})\n",
      "(42, {'qubit_type': 'Z'})\n",
      "(43, {'qubit_type': 'Z'})\n",
      "(44, {'qubit_type': 'Z'})\n",
      "(45, {'qubit_type': 'Z'})\n",
      "(46, {'qubit_type': 'Z'})\n",
      "(47, {'qubit_type': 'Z'})\n",
      "(48, {'qubit_type': 'Z'})\n"
     ]
    }
   ],
   "source": [
    "for node in rs5tg.nodes.data():\n",
    "    print(node)"
   ]
  },
  {
   "cell_type": "code",
   "execution_count": 4,
   "metadata": {},
   "outputs": [],
   "source": [
    "pvs = pivots(sx)"
   ]
  },
  {
   "cell_type": "code",
   "execution_count": 5,
   "metadata": {},
   "outputs": [
    {
     "data": {
      "text/plain": [
       "[0, 1, 2, 3, 5, 7, 11, 13, 15, 17, 21, 23]"
      ]
     },
     "execution_count": 5,
     "metadata": {},
     "output_type": "execute_result"
    }
   ],
   "source": [
    "pvs"
   ]
  },
  {
   "cell_type": "code",
   "execution_count": 6,
   "metadata": {},
   "outputs": [
    {
     "data": {
      "text/plain": [
       "[{0, 1, 5, 6},\n",
       " {2, 3, 7, 8},\n",
       " {4, 9},\n",
       " {5, 10},\n",
       " {6, 7, 11, 12},\n",
       " {8, 9, 13, 14},\n",
       " {10, 11, 15, 16},\n",
       " {12, 13, 17, 18},\n",
       " {14, 19},\n",
       " {15, 20},\n",
       " {16, 17, 21, 22},\n",
       " {18, 19, 23, 24}]"
      ]
     },
     "execution_count": 6,
     "metadata": {},
     "output_type": "execute_result"
    }
   ],
   "source": [
    "sz"
   ]
  },
  {
   "cell_type": "code",
   "execution_count": 139,
   "metadata": {},
   "outputs": [],
   "source": [
    "def column_echelon_form(set_list):\n",
    "\n",
    "    min_set = pivot_finder(set_list,[])\n",
    "    qubits = set.union(*set_list)\n",
    "\n",
    "    pivots = set()\n",
    "    \n",
    "    for pivot_set in min_set:\n",
    "        pivots.add(min(pivot_set))\n",
    "\n",
    "    syndromes = generate_syndrome_dict(min_set)\n",
    "\n",
    "    col_sets = {q:set() for q in qubits}\n",
    "    # col_sets = dict()\n",
    "\n",
    "    qlist = sorted(list(qubits))\n",
    "\n",
    "    # for q in sorted(list(qubits-{0})):\n",
    "    for q in qlist:\n",
    "        col = {q}\n",
    "\n",
    "        for chk in syndromes[q]:\n",
    "            col^=col_sets[min(min_set[chk])]\n",
    "            # if q != min(min_set[chk]):\n",
    "            #     col_sets[q]^=col_sets[min(min_set[chk])]\n",
    "\n",
    "        # for piv in pivots&set(qlist[:q]):\n",
    "        #     if min(syndromes[q].intersection(syndromes[piv])):\n",
    "        #         col^=col_sets[piv]\n",
    "        \n",
    "        col_sets[q] = col\n",
    "\n",
    "        # if q in pivots:\n",
    "        #     for piv in pivots&set(qlist[:q]):\n",
    "        #         if not syndromes[q].isdisjoint(syndromes[piv]):\n",
    "        #             col^=col_sets[piv]\n",
    "        # else:\n",
    "        #     for piv in pivots&set(qlist[:q]):\n",
    "        #         if piv in syndromes[q]:\n",
    "        #             col^=col_sets[piv]\n",
    "        #         # if not syndromes[q].isdisjoint(syndromes[piv]):\n",
    "        #         #     col^=col_sets[piv]\n",
    "        # col_sets[q] = col\n",
    "\n",
    "    return col_sets,list(qubits-pivots)"
   ]
  },
  {
   "cell_type": "code",
   "execution_count": 109,
   "metadata": {},
   "outputs": [],
   "source": [
    "def kernel(set_list):\n",
    "    ker = []\n",
    "    col_sets,zero_cols = column_echelon_form(set_list)\n",
    "    ker = pivot_finder([col_sets[col] for col in zero_cols],[])\n",
    "    return ker"
   ]
  },
  {
   "cell_type": "code",
   "execution_count": 118,
   "metadata": {},
   "outputs": [],
   "source": [
    "qlist = sorted(list(qubits))"
   ]
  },
  {
   "cell_type": "code",
   "execution_count": 122,
   "metadata": {},
   "outputs": [],
   "source": [
    "pivots = qubits-set(notpivs)"
   ]
  },
  {
   "cell_type": "code",
   "execution_count": 123,
   "metadata": {},
   "outputs": [
    {
     "data": {
      "text/plain": [
       "{0, 1, 2, 3, 5}"
      ]
     },
     "execution_count": 123,
     "metadata": {},
     "output_type": "execute_result"
    }
   ],
   "source": [
    "pivots&set(qlist[:6])"
   ]
  },
  {
   "cell_type": "code",
   "execution_count": 124,
   "metadata": {},
   "outputs": [],
   "source": [
    "col = {6}"
   ]
  },
  {
   "cell_type": "code",
   "execution_count": 126,
   "metadata": {},
   "outputs": [
    {
     "data": {
      "text/plain": [
       "{1, 4}"
      ]
     },
     "execution_count": 126,
     "metadata": {},
     "output_type": "execute_result"
    }
   ],
   "source": [
    "syndromes5x[6]"
   ]
  },
  {
   "cell_type": "code",
   "execution_count": 130,
   "metadata": {},
   "outputs": [
    {
     "name": "stdout",
     "output_type": "stream",
     "text": [
      "1\n",
      "2\n",
      "5\n"
     ]
    }
   ],
   "source": [
    "for piv in pivots&set(qlist[:6]):\n",
    "    if not syndromes5x[6].isdisjoint(syndromes5x[piv]):\n",
    "        print(piv)"
   ]
  },
  {
   "cell_type": "code",
   "execution_count": 110,
   "metadata": {},
   "outputs": [
    {
     "data": {
      "text/plain": [
       "{0: {0},\n",
       " 1: {0, 1},\n",
       " 2: {1, 2},\n",
       " 3: {2, 3},\n",
       " 4: {3},\n",
       " 5: {4},\n",
       " 6: {1, 4},\n",
       " 7: {1, 5},\n",
       " 8: {3, 5},\n",
       " 9: {3},\n",
       " 10: {4},\n",
       " 11: {4, 6},\n",
       " 12: {5, 6},\n",
       " 13: {5, 7},\n",
       " 14: {7},\n",
       " 15: {8},\n",
       " 16: {6, 8},\n",
       " 17: {6, 9},\n",
       " 18: {7, 9},\n",
       " 19: {7},\n",
       " 20: {8},\n",
       " 21: {8, 10},\n",
       " 22: {9, 10},\n",
       " 23: {9, 11},\n",
       " 24: {11}}"
      ]
     },
     "execution_count": 110,
     "metadata": {},
     "output_type": "execute_result"
    }
   ],
   "source": [
    "syndromes5x = generate_syndrome_dict(sx)\n",
    "syndromes5x"
   ]
  },
  {
   "cell_type": "code",
   "execution_count": 111,
   "metadata": {},
   "outputs": [
    {
     "data": {
      "text/plain": [
       "[{0, 1},\n",
       " {2, 3},\n",
       " {1, 2, 6, 7},\n",
       " {3, 4, 8, 9},\n",
       " {5, 6, 10, 11},\n",
       " {7, 8, 12, 13},\n",
       " {11, 12, 16, 17},\n",
       " {13, 14, 18, 19},\n",
       " {15, 16, 20, 21},\n",
       " {17, 18, 22, 23},\n",
       " {21, 22},\n",
       " {23, 24}]"
      ]
     },
     "execution_count": 111,
     "metadata": {},
     "output_type": "execute_result"
    }
   ],
   "source": [
    "sx"
   ]
  },
  {
   "cell_type": "code",
   "execution_count": 140,
   "metadata": {},
   "outputs": [],
   "source": [
    "cef5x,notpivs = column_echelon_form(sx)"
   ]
  },
  {
   "cell_type": "code",
   "execution_count": 115,
   "metadata": {},
   "outputs": [],
   "source": [
    "ker5x = kernel(sx)"
   ]
  },
  {
   "cell_type": "code",
   "execution_count": 116,
   "metadata": {},
   "outputs": [
    {
     "data": {
      "text/plain": [
       "[{0, 1, 2, 3, 4},\n",
       " {2, 3, 4, 5, 7, 14},\n",
       " {4, 5, 8},\n",
       " {5, 6, 7, 14},\n",
       " {6, 7, 8, 9, 14},\n",
       " {8, 9, 12},\n",
       " {10},\n",
       " {11, 24},\n",
       " {14, 18},\n",
       " {16},\n",
       " {18, 19},\n",
       " {20},\n",
       " {22}]"
      ]
     },
     "execution_count": 116,
     "metadata": {},
     "output_type": "execute_result"
    }
   ],
   "source": [
    "ker5x"
   ]
  },
  {
   "cell_type": "code",
   "execution_count": 77,
   "metadata": {},
   "outputs": [
    {
     "data": {
      "text/plain": [
       "{0, 1, 2, 3, 5, 7, 11, 13, 15, 17, 21, 23}"
      ]
     },
     "execution_count": 77,
     "metadata": {},
     "output_type": "execute_result"
    }
   ],
   "source": [
    "set.union(*sx)-set(notpivs)"
   ]
  },
  {
   "cell_type": "code",
   "execution_count": 78,
   "metadata": {},
   "outputs": [
    {
     "data": {
      "text/plain": [
       "[4, 6, 8, 9, 10, 12, 14, 16, 18, 19, 20, 22, 24]"
      ]
     },
     "execution_count": 78,
     "metadata": {},
     "output_type": "execute_result"
    }
   ],
   "source": [
    "notpivs"
   ]
  },
  {
   "cell_type": "code",
   "execution_count": 141,
   "metadata": {},
   "outputs": [
    {
     "data": {
      "text/plain": [
       "{0: {0},\n",
       " 1: {0, 1},\n",
       " 2: {0, 1, 2},\n",
       " 3: {0, 1, 2, 3},\n",
       " 4: {0, 1, 2, 3, 4},\n",
       " 5: {5},\n",
       " 6: {0, 1, 5, 6},\n",
       " 7: {0, 1, 7},\n",
       " 8: {2, 3, 7, 8},\n",
       " 9: {0, 1, 2, 3, 9},\n",
       " 10: {5, 10},\n",
       " 11: {5, 11},\n",
       " 12: {0, 1, 5, 7, 11, 12},\n",
       " 13: {0, 1, 7, 13},\n",
       " 14: {0, 1, 7, 13, 14},\n",
       " 15: {15},\n",
       " 16: {5, 11, 15, 16},\n",
       " 17: {5, 11, 17},\n",
       " 18: {0, 1, 5, 7, 11, 13, 17, 18},\n",
       " 19: {0, 1, 7, 13, 19},\n",
       " 20: {15, 20},\n",
       " 21: {15, 21},\n",
       " 22: {5, 11, 15, 17, 21, 22},\n",
       " 23: {5, 11, 17, 23},\n",
       " 24: {5, 11, 17, 23, 24}}"
      ]
     },
     "execution_count": 141,
     "metadata": {},
     "output_type": "execute_result"
    }
   ],
   "source": [
    "cef5x"
   ]
  },
  {
   "cell_type": "code",
   "execution_count": 147,
   "metadata": {},
   "outputs": [
    {
     "name": "stdout",
     "output_type": "stream",
     "text": [
      "4 {0, 1, 2, 3, 4}\n",
      "6 {0, 1, 5, 6}\n",
      "8 {2, 3, 7, 8}\n",
      "9 {0, 1, 2, 3, 9}\n",
      "10 {10, 5}\n",
      "12 {0, 1, 5, 7, 11, 12}\n",
      "14 {0, 1, 7, 13, 14}\n",
      "16 {16, 11, 5, 15}\n",
      "18 {0, 1, 5, 7, 11, 13, 17, 18}\n",
      "19 {0, 1, 7, 13, 19}\n",
      "20 {20, 15}\n",
      "22 {5, 11, 15, 17, 21, 22}\n",
      "24 {5, 11, 17, 23, 24}\n"
     ]
    }
   ],
   "source": [
    "for np in notpivs:\n",
    "    print(str(np) + ' ' + str(cef5x[np]))"
   ]
  },
  {
   "cell_type": "code",
   "execution_count": 150,
   "metadata": {},
   "outputs": [
    {
     "name": "stdout",
     "output_type": "stream",
     "text": [
      "4 {0, 1, 2, 3, 4}\n",
      "9 {0, 1, 2, 3, 9}\n",
      "12 {0, 1, 5, 7, 11, 12}\n",
      "14 {0, 1, 7, 13, 14}\n",
      "16 {16, 11, 5, 15}\n",
      "18 {0, 1, 5, 7, 11, 13, 17, 18}\n",
      "19 {0, 1, 7, 13, 19}\n",
      "22 {5, 11, 15, 17, 21, 22}\n",
      "24 {5, 11, 17, 23, 24}\n"
     ]
    }
   ],
   "source": [
    "for np in notpivs:\n",
    "    if not cef5x[np] in piv5z:\n",
    "        print(str(np) + ' ' + str(cef5x[np]))"
   ]
  },
  {
   "cell_type": "code",
   "execution_count": 143,
   "metadata": {},
   "outputs": [
    {
     "data": {
      "text/plain": [
       "[{0, 1},\n",
       " {1, 2, 6, 7},\n",
       " {2, 3},\n",
       " {3, 4, 8, 9},\n",
       " {5, 6, 10, 11},\n",
       " {7, 8, 12, 13},\n",
       " {11, 12, 16, 17},\n",
       " {13, 14, 18, 19},\n",
       " {15, 16, 20, 21},\n",
       " {17, 18, 22, 23},\n",
       " {21, 22},\n",
       " {23, 24}]"
      ]
     },
     "execution_count": 143,
     "metadata": {},
     "output_type": "execute_result"
    }
   ],
   "source": [
    "piv5x"
   ]
  },
  {
   "cell_type": "code",
   "execution_count": 144,
   "metadata": {},
   "outputs": [],
   "source": [
    "synd5x = generate_syndrome_dict(piv5x)"
   ]
  },
  {
   "cell_type": "code",
   "execution_count": 148,
   "metadata": {},
   "outputs": [],
   "source": [
    "piv5z = pivot_finder(sz,[])"
   ]
  },
  {
   "cell_type": "code",
   "execution_count": 145,
   "metadata": {},
   "outputs": [
    {
     "data": {
      "text/plain": [
       "{0: {0},\n",
       " 1: {0, 1},\n",
       " 2: {1, 2},\n",
       " 3: {2, 3},\n",
       " 4: {3},\n",
       " 5: {4},\n",
       " 6: {1, 4},\n",
       " 7: {1, 5},\n",
       " 8: {3, 5},\n",
       " 9: {3},\n",
       " 10: {4},\n",
       " 11: {4, 6},\n",
       " 12: {5, 6},\n",
       " 13: {5, 7},\n",
       " 14: {7},\n",
       " 15: {8},\n",
       " 16: {6, 8},\n",
       " 17: {6, 9},\n",
       " 18: {7, 9},\n",
       " 19: {7},\n",
       " 20: {8},\n",
       " 21: {8, 10},\n",
       " 22: {9, 10},\n",
       " 23: {9, 11},\n",
       " 24: {11}}"
      ]
     },
     "execution_count": 145,
     "metadata": {},
     "output_type": "execute_result"
    }
   ],
   "source": [
    "synd5x"
   ]
  },
  {
   "cell_type": "code",
   "execution_count": null,
   "metadata": {},
   "outputs": [],
   "source": []
  }
 ],
 "metadata": {
  "kernelspec": {
   "display_name": ".env",
   "language": "python",
   "name": "python3"
  },
  "language_info": {
   "codemirror_mode": {
    "name": "ipython",
    "version": 3
   },
   "file_extension": ".py",
   "mimetype": "text/x-python",
   "name": "python",
   "nbconvert_exporter": "python",
   "pygments_lexer": "ipython3",
   "version": "3.12.9"
  }
 },
 "nbformat": 4,
 "nbformat_minor": 2
}
