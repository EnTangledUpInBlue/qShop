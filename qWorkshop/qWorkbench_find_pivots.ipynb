{
 "cells": [
  {
   "cell_type": "code",
   "execution_count": 1,
   "metadata": {},
   "outputs": [],
   "source": [
    "import sys\n",
    "import os\n",
    "sys.path.append(os.path.abspath('..'))"
   ]
  },
  {
   "cell_type": "code",
   "execution_count": 2,
   "metadata": {},
   "outputs": [],
   "source": [
    "from codes.example_codes import toric_code\n",
    "from codes.code_tools import generate_qubit_nbrs_dict, generate_check_dict, order_set_list"
   ]
  },
  {
   "cell_type": "code",
   "execution_count": 9,
   "metadata": {},
   "outputs": [],
   "source": [
    "xset,zset = toric_code(3,3)"
   ]
  },
  {
   "cell_type": "code",
   "execution_count": 10,
   "metadata": {},
   "outputs": [
    {
     "data": {
      "text/plain": [
       "9"
      ]
     },
     "execution_count": 10,
     "metadata": {},
     "output_type": "execute_result"
    }
   ],
   "source": [
    "len(xset)"
   ]
  },
  {
   "cell_type": "code",
   "execution_count": 11,
   "metadata": {},
   "outputs": [
    {
     "name": "stdout",
     "output_type": "stream",
     "text": [
      "[{0, 2, 3, 15}, {16, 1, 4, 0}, {17, 2, 5, 1}, {8, 9, 3, 6}, {10, 4, 6, 7}, {8, 11, 5, 7}, {9, 12, 14, 15}, {16, 10, 12, 13}, {17, 11, 13, 14}]\n"
     ]
    }
   ],
   "source": [
    "print(xset)"
   ]
  },
  {
   "cell_type": "code",
   "execution_count": 12,
   "metadata": {},
   "outputs": [],
   "source": [
    "def pivoter(set_list,piv_list):\n",
    "\n",
    "    while set() in set_list:\n",
    "        set_list.remove(set())\n",
    "\n",
    "    print(set_list)\n",
    "    print(piv_list)\n",
    "    print()\n",
    "\n",
    "    if not len(set_list):\n",
    "        return piv_list\n",
    "    \n",
    "    else:\n",
    "        ord_list = order_set_list(set_list)\n",
    "\n",
    "        print(len(set_list))\n",
    "        print(len(piv_list))\n",
    "        \n",
    "        if len(ord_list)==1:\n",
    "            piv_list.append(ord_list[0])\n",
    "            return piv_list\n",
    "        \n",
    "        else:\n",
    "\n",
    "            new_pivot = ord_list.pop(0)\n",
    "\n",
    "            q = min(new_pivot)\n",
    "\n",
    "            print('q = ' + str(q) + '\\n')\n",
    "\n",
    "            for chk in ord_list:\n",
    "                if q in chk:\n",
    "                    chk ^= new_pivot\n",
    "            piv_list.append(new_pivot)\n",
    "\n",
    "            return pivoter(ord_list,piv_list)"
   ]
  },
  {
   "cell_type": "code",
   "execution_count": 13,
   "metadata": {},
   "outputs": [
    {
     "name": "stdout",
     "output_type": "stream",
     "text": [
      "[{0, 2, 3, 15}, {16, 1, 4, 0}, {17, 2, 5, 1}, {8, 9, 3, 6}, {10, 4, 6, 7}, {8, 11, 5, 7}, {9, 12, 14, 15}, {16, 10, 12, 13}, {17, 11, 13, 14}]\n",
      "[]\n",
      "\n",
      "9\n",
      "0\n",
      "q = 0\n",
      "\n",
      "[{1, 2, 3, 4, 15, 16}, {17, 2, 5, 1}, {8, 9, 3, 6}, {10, 4, 6, 7}, {8, 11, 5, 7}, {9, 12, 14, 15}, {16, 10, 12, 13}, {17, 11, 13, 14}]\n",
      "[{16, 1, 4, 0}]\n",
      "\n",
      "8\n",
      "1\n",
      "q = 1\n",
      "\n",
      "[{16, 17, 3, 4, 5, 15}, {8, 9, 3, 6}, {10, 4, 6, 7}, {8, 11, 5, 7}, {9, 12, 14, 15}, {16, 10, 12, 13}, {17, 11, 13, 14}]\n",
      "[{16, 1, 4, 0}, {1, 2, 3, 4, 15, 16}]\n",
      "\n",
      "7\n",
      "2\n",
      "q = 3\n",
      "\n",
      "[{4, 5, 6, 8, 9, 15, 16, 17}, {10, 4, 6, 7}, {8, 11, 5, 7}, {9, 12, 14, 15}, {16, 10, 12, 13}, {17, 11, 13, 14}]\n",
      "[{16, 1, 4, 0}, {1, 2, 3, 4, 15, 16}, {16, 17, 3, 4, 5, 15}]\n",
      "\n",
      "6\n",
      "3\n",
      "q = 4\n",
      "\n",
      "[{5, 7, 8, 9, 10, 15, 16, 17}, {8, 11, 5, 7}, {9, 12, 14, 15}, {16, 10, 12, 13}, {17, 11, 13, 14}]\n",
      "[{16, 1, 4, 0}, {1, 2, 3, 4, 15, 16}, {16, 17, 3, 4, 5, 15}, {4, 5, 6, 8, 9, 15, 16, 17}]\n",
      "\n",
      "5\n",
      "4\n",
      "q = 5\n",
      "\n",
      "[{16, 17, 9, 10, 11, 15}, {9, 12, 14, 15}, {16, 10, 12, 13}, {17, 11, 13, 14}]\n",
      "[{16, 1, 4, 0}, {1, 2, 3, 4, 15, 16}, {16, 17, 3, 4, 5, 15}, {4, 5, 6, 8, 9, 15, 16, 17}, {5, 7, 8, 9, 10, 15, 16, 17}]\n",
      "\n",
      "4\n",
      "5\n",
      "q = 9\n",
      "\n",
      "[{10, 11, 12, 14, 16, 17}, {16, 10, 12, 13}, {17, 11, 13, 14}]\n",
      "[{16, 1, 4, 0}, {1, 2, 3, 4, 15, 16}, {16, 17, 3, 4, 5, 15}, {4, 5, 6, 8, 9, 15, 16, 17}, {5, 7, 8, 9, 10, 15, 16, 17}, {16, 17, 9, 10, 11, 15}]\n",
      "\n",
      "3\n",
      "6\n",
      "q = 10\n",
      "\n",
      "[{11, 13, 14, 17}, {17, 11, 13, 14}]\n",
      "[{16, 1, 4, 0}, {1, 2, 3, 4, 15, 16}, {16, 17, 3, 4, 5, 15}, {4, 5, 6, 8, 9, 15, 16, 17}, {5, 7, 8, 9, 10, 15, 16, 17}, {16, 17, 9, 10, 11, 15}, {10, 11, 12, 14, 16, 17}]\n",
      "\n",
      "2\n",
      "7\n",
      "q = 11\n",
      "\n",
      "[]\n",
      "[{16, 1, 4, 0}, {1, 2, 3, 4, 15, 16}, {16, 17, 3, 4, 5, 15}, {4, 5, 6, 8, 9, 15, 16, 17}, {5, 7, 8, 9, 10, 15, 16, 17}, {16, 17, 9, 10, 11, 15}, {10, 11, 12, 14, 16, 17}, {11, 13, 14, 17}]\n",
      "\n"
     ]
    }
   ],
   "source": [
    "pset = pivoter(xset,[])"
   ]
  },
  {
   "cell_type": "code",
   "execution_count": 15,
   "metadata": {},
   "outputs": [
    {
     "name": "stdout",
     "output_type": "stream",
     "text": [
      "[0, 1, 4, 16]\n",
      "[1, 2, 3, 4, 15, 16]\n",
      "[3, 4, 5, 15, 16, 17]\n",
      "[4, 5, 6, 8, 9, 15, 16, 17]\n",
      "[5, 7, 8, 9, 10, 15, 16, 17]\n",
      "[9, 10, 11, 15, 16, 17]\n",
      "[10, 11, 12, 14, 16, 17]\n",
      "[11, 13, 14, 17]\n"
     ]
    }
   ],
   "source": [
    "for ps in pset:\n",
    "    print(sorted(list(ps)))"
   ]
  },
  {
   "cell_type": "code",
   "execution_count": null,
   "metadata": {},
   "outputs": [],
   "source": [
    "def pivot_update(set_list,piv_list,qub):\n",
    "    if not len(set_list):\n",
    "        return piv_list\n",
    "    elif qub > max(set.union(*set_list)):\n",
    "        return piv_list\n",
    "    else:\n",
    "        set_list = order_set_list(set_list)\n",
    "        if min(set_list[0])==qub:\n",
    "            piv_list.append(set_list[0])\n",
    "            for xsetter in set_list[1:]:\n",
    "                if min(xsetter) == qub:\n",
    "                    xsetter ^= set_list[0]\n",
    "                    # if not len(xsetter):\n",
    "                    #     set_list.remove(xsetter)\n",
    "            return pivot_update(set_list[1:],piv_list,qub+1)\n",
    "        else:\n",
    "            return pivot_update(set_list,piv_list,qub+1)"
   ]
  },
  {
   "cell_type": "code",
   "execution_count": null,
   "metadata": {},
   "outputs": [],
   "source": [
    "plist = pivot_update([{0,1},{2,4}],[],7)\n",
    "print(plist)"
   ]
  },
  {
   "cell_type": "code",
   "execution_count": null,
   "metadata": {},
   "outputs": [],
   "source": []
  },
  {
   "cell_type": "code",
   "execution_count": null,
   "metadata": {},
   "outputs": [],
   "source": [
    "plist = pivot_update([{0,2,3},{1,3,4},{4,1,2}],[],0)\n",
    "print(plist)"
   ]
  },
  {
   "cell_type": "code",
   "execution_count": null,
   "metadata": {},
   "outputs": [],
   "source": [
    "pivots = []\n",
    "q = 0\n",
    "for ii in range(len(xset)):\n",
    "    xii = xset[ii]\n",
    "    if min(xii) == q:\n",
    "        pivots.append(xii)\n",
    "        for jj in range(ii,len(xset)):\n",
    "            xjj = xset[jj]\n",
    "            if min(xjj) == q:\n",
    "                xjj ^= xii\n",
    "                \n",
    "    else:\n",
    "        q+=1"
   ]
  },
  {
   "cell_type": "code",
   "execution_count": null,
   "metadata": {},
   "outputs": [],
   "source": [
    "for chk in order_set_list(xset):\n",
    "    print(chk)"
   ]
  },
  {
   "cell_type": "code",
   "execution_count": null,
   "metadata": {},
   "outputs": [],
   "source": [
    "qubit_dict = generate_qubit_nbrs_dict(xset)\n",
    "check_dict = generate_check_dict(xset)\n",
    "qubits = sorted(list(set.union(*xset)))"
   ]
  },
  {
   "cell_type": "code",
   "execution_count": null,
   "metadata": {},
   "outputs": [],
   "source": [
    "pivot_sets = {q:[] for q in qubits}"
   ]
  },
  {
   "cell_type": "code",
   "execution_count": null,
   "metadata": {},
   "outputs": [],
   "source": []
  },
  {
   "cell_type": "code",
   "execution_count": null,
   "metadata": {},
   "outputs": [],
   "source": [
    "check_sets = dict()\n",
    "chosen_ones = set()\n",
    "\n",
    "for q in qubits:\n",
    "    pivot_sets[q] = set()\n",
    "for chk in list(check_dict.keys()):\n",
    "    check_sets[chk] = set([chk])\n",
    "\n",
    "for q in qubits:\n",
    "    qchecks = qubit_dict[q]-chosen_ones\n",
    "    if len(qchecks)>0:\n",
    "        cq = sorted(list(qchecks))[0]\n",
    "        print(q,cq)\n",
    "        print()\n",
    "        chosen_ones.add(cq)\n",
    "        for chk in list(set(check_sets.keys())-chosen_ones):\n",
    "            if q in check_dict[chk]:\n",
    "                check_sets[chk].add(cq)"
   ]
  },
  {
   "cell_type": "code",
   "execution_count": null,
   "metadata": {},
   "outputs": [],
   "source": [
    "for k,v in check_sets.items():\n",
    "    print(k,v)\n",
    "    print()"
   ]
  },
  {
   "cell_type": "code",
   "execution_count": null,
   "metadata": {},
   "outputs": [],
   "source": [
    "check_dict[7]"
   ]
  },
  {
   "cell_type": "code",
   "execution_count": null,
   "metadata": {},
   "outputs": [],
   "source": [
    "print(chosen_ones)"
   ]
  },
  {
   "cell_type": "code",
   "execution_count": null,
   "metadata": {},
   "outputs": [],
   "source": [
    "print('Initial status')\n",
    "print('Check dictionary:')\n",
    "for k,v in check_dict.items():\n",
    "    print([k,sorted(list(v))])\n",
    "print()\n",
    "print('Qubit dictionary:')\n",
    "\n",
    "for k,v in qubit_dict.items():\n",
    "    print([k,sorted(list(v))])\n",
    "\n",
    "for q in qubits:\n",
    "    qchecks = qubit_dict[q]-chosen_ones\n",
    "    print('q = ' + str(q) + ' checks: ' +str(qchecks))\n",
    "    print()\n",
    "    if len(qchecks)>0:\n",
    "        Cq = sorted(list(qchecks))[0]\n",
    "        chosen_ones.add(Cq)\n",
    "        pivot_sets[q] = check_dict[Cq]\n",
    "\n",
    "        for qp in list(set(qubits)-set(pivot_sets.keys())):\n",
    "            qubit_dict[qp] -= set([Cq])\n",
    "\n",
    "        for chk in set(check_dict.keys())-chosen_ones:\n",
    "            if q in check_dict[chk]:\n",
    "                check_dict[chk]^=pivot_sets[q]\n",
    "                for qp in check_dict[chk]:\n",
    "                    qubit_dict[qp] |=set([chk])\n",
    "\n",
    "        print('Status update at q=' + str(q))\n",
    "        print()\n",
    "        print('Check dictionary:')\n",
    "        for k,v in check_dict.items():\n",
    "            print([k,sorted(list(v))])\n",
    "        print()\n",
    "        print('Qubit dictionary:')\n",
    "        for k,v in qubit_dict.items():\n",
    "            print([k,sorted(list(v))])\n",
    "        print()\n",
    "        print('Chosen_ones = ' + str(chosen_ones))\n",
    "        print()\n",
    "    else:\n",
    "        print('Skip q = ' + str(q))\n",
    "        print()\n",
    "\n"
   ]
  },
  {
   "cell_type": "code",
   "execution_count": null,
   "metadata": {},
   "outputs": [],
   "source": [
    "print(chosen_ones)"
   ]
  },
  {
   "cell_type": "code",
   "execution_count": null,
   "metadata": {},
   "outputs": [],
   "source": [
    "for k,v in pivot_sets.items():\n",
    "    print(k,sorted(list(v)))"
   ]
  },
  {
   "cell_type": "code",
   "execution_count": null,
   "metadata": {},
   "outputs": [],
   "source": []
  },
  {
   "cell_type": "code",
   "execution_count": null,
   "metadata": {},
   "outputs": [],
   "source": []
  },
  {
   "cell_type": "code",
   "execution_count": null,
   "metadata": {},
   "outputs": [],
   "source": []
  }
 ],
 "metadata": {
  "kernelspec": {
   "display_name": "Python 3",
   "language": "python",
   "name": "python3"
  },
  "language_info": {
   "codemirror_mode": {
    "name": "ipython",
    "version": 3
   },
   "file_extension": ".py",
   "mimetype": "text/x-python",
   "name": "python",
   "nbconvert_exporter": "python",
   "pygments_lexer": "ipython3",
   "version": "3.12.1"
  }
 },
 "nbformat": 4,
 "nbformat_minor": 2
}
