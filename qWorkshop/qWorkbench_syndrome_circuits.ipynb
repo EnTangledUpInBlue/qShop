{
 "cells": [
  {
   "cell_type": "markdown",
   "metadata": {},
   "source": [
    "Workbook for computing threshold given a code and its logical operators.\n",
    "\n",
    "INPUT: A css code (check matrix and logical operators) + error model\n",
    "\n",
    "OUTPUT: threshold plot\n",
    "\n",
    "Want to:\n",
    "1. Specify a syndrome extraction circuit\n",
    "2. Apply circuit level noise\n",
    "3. Decode output"
   ]
  },
  {
   "cell_type": "code",
   "execution_count": 2,
   "metadata": {},
   "outputs": [],
   "source": [
    "import sys\n",
    "import os\n",
    "sys.path.append(os.path.abspath('..'))"
   ]
  },
  {
   "cell_type": "code",
   "execution_count": 8,
   "metadata": {},
   "outputs": [],
   "source": [
    "import stim\n",
    "import pymatching\n",
    "import numpy as np\n",
    "import scipy.sparse\n",
    "from csscode.cssCode import cssCode\n",
    "from codes.rotated_surface_code_coordinates import rsurf_stabilizer_generators"
   ]
  },
  {
   "cell_type": "code",
   "execution_count": 6,
   "metadata": {},
   "outputs": [],
   "source": [
    "def rsurf_code(L:int):\n",
    "\n",
    "    Sx,Sz = rsurf_stabilizer_generators(L)\n",
    "\n",
    "    return Sx,Sz"
   ]
  },
  {
   "cell_type": "code",
   "execution_count": 7,
   "metadata": {},
   "outputs": [],
   "source": [
    "rs3 = rsurf_code(3)\n",
    "css_rs3 = cssCode(rs3[0],rs3[1])"
   ]
  },
  {
   "cell_type": "code",
   "execution_count": 4,
   "metadata": {},
   "outputs": [],
   "source": [
    "rs5 = rsurf_code(5)\n",
    "css_rs5 = cssCode(rs5[0],rs5[1])"
   ]
  },
  {
   "cell_type": "code",
   "execution_count": 26,
   "metadata": {},
   "outputs": [],
   "source": [
    "rs7 = rsurf_code(7)\n",
    "css_rs7 = cssCode(rs7[0],rs7[1])"
   ]
  },
  {
   "cell_type": "code",
   "execution_count": 85,
   "metadata": {},
   "outputs": [],
   "source": [
    "from codes.rotated_surface_code_coordinates import rsurf_q2i"
   ]
  },
  {
   "cell_type": "code",
   "execution_count": 88,
   "metadata": {},
   "outputs": [
    {
     "name": "stdout",
     "output_type": "stream",
     "text": [
      "{(0, 0): 0, (0, 2): 1, (0, 4): 2, (0, 6): 3, (0, 8): 4, (0, 10): 5, (0, 12): 6, (2, 0): 7, (2, 2): 8, (2, 4): 9, (2, 6): 10, (2, 8): 11, (2, 10): 12, (2, 12): 13, (4, 0): 14, (4, 2): 15, (4, 4): 16, (4, 6): 17, (4, 8): 18, (4, 10): 19, (4, 12): 20, (6, 0): 21, (6, 2): 22, (6, 4): 23, (6, 6): 24, (6, 8): 25, (6, 10): 26, (6, 12): 27, (8, 0): 28, (8, 2): 29, (8, 4): 30, (8, 6): 31, (8, 8): 32, (8, 10): 33, (8, 12): 34, (10, 0): 35, (10, 2): 36, (10, 4): 37, (10, 6): 38, (10, 8): 39, (10, 10): 40, (10, 12): 41, (12, 0): 42, (12, 2): 43, (12, 4): 44, (12, 6): 45, (12, 8): 46, (12, 10): 47, (12, 12): 48}\n"
     ]
    }
   ],
   "source": [
    "print(rsurf_q2i(7))"
   ]
  },
  {
   "cell_type": "code",
   "execution_count": 91,
   "metadata": {},
   "outputs": [],
   "source": [
    "def zlogical(L):\n",
    "    assert L%2==1\n",
    "\n",
    "    logic_set = set()\n",
    "\n",
    "    for q in range(L):\n",
    "        logic_set.add(q)\n",
    "\n",
    "    return logic_set"
   ]
  },
  {
   "cell_type": "code",
   "execution_count": 92,
   "metadata": {},
   "outputs": [
    {
     "name": "stdout",
     "output_type": "stream",
     "text": [
      "{0, 1, 2}\n",
      "{0, 1, 2, 3, 4}\n",
      "{0, 1, 2, 3, 4, 5, 6}\n",
      "{0, 1, 2, 3, 4, 5, 6, 7, 8}\n"
     ]
    }
   ],
   "source": [
    "for L in [3,5,7,9]:\n",
    "    print(zlogical(L))"
   ]
  },
  {
   "cell_type": "code",
   "execution_count": 43,
   "metadata": {},
   "outputs": [],
   "source": [
    "syn_extract_circ = stim.Circuit()\n",
    "\n",
    "Nrounds = 1\n",
    "\n",
    "for round in range(Nrounds):\n",
    "\n",
    "    for zcheck in css_rs3.check_dict[True]:\n",
    "        anc_qub = css_rs3.Nqubits+zcheck\n",
    "        for dat_qub in css_rs3.check_dict[True][zcheck]:\n",
    "            syn_extract_circ.append(\"CX\",[dat_qub,anc_qub])\n",
    "        syn_extract_circ.append(\"MR\",anc_qub)\n",
    "\n",
    "    for xcheck in css_rs3.check_dict[False]:\n",
    "        anc_qub = css_rs3.Nqubits+len(css_rs3.check_dict[True])+xcheck\n",
    "\n",
    "        syn_extract_circ.append(\"H\",anc_qub)\n",
    "        for dat_qub in css_rs3.check_dict[False][xcheck]:\n",
    "            syn_extract_circ.append(\"CX\",[anc_qub,dat_qub])\n",
    "        syn_extract_circ.append(\"H\",anc_qub)\n",
    "        syn_extract_circ.append(\"MR\",anc_qub)\n",
    "\n",
    "logic_qub = css_rs3.Nqubits+len(css_rs3.check_dict[False])+len(css_rs3.check_dict[True])\n",
    "\n",
    "for dat_qub in zlogical(3):\n",
    "    syn_extract_circ.append(\"CX\", [dat_qub,logic_qub])\n",
    "\n",
    "syn_extract_circ.append(\"MR\",logic_qub)"
   ]
  },
  {
   "cell_type": "code",
   "execution_count": null,
   "metadata": {},
   "outputs": [],
   "source": [
    "syn_extract_circ.diagram()"
   ]
  },
  {
   "cell_type": "code",
   "execution_count": null,
   "metadata": {},
   "outputs": [],
   "source": [
    "sampler = syn_extract_circ.compile_sampler()\n",
    "results = sampler.sample(shots=10)\n",
    "for res in results:\n",
    "    print(res[-1])"
   ]
  },
  {
   "cell_type": "code",
   "execution_count": null,
   "metadata": {},
   "outputs": [
    {
     "name": "stdout",
     "output_type": "stream",
     "text": [
      "499\n"
     ]
    }
   ],
   "source": [
    "########################################################\n",
    "## Noisy qubits with ideal syndrome extraction\n",
    "########################################################\n",
    "\n",
    "num_shots = 1000\n",
    "\n",
    "Nrounds = 1\n",
    "pnoise = 0.3\n",
    "\n",
    "distance = 7\n",
    "\n",
    "gens = rsurf_code(distance)\n",
    "css_rs = cssCode(gens[0],gens[1])\n",
    "\n",
    "zpcm = css_rs.to_check_matrices()[True]\n",
    "row = [elem[0] for elem in zpcm]\n",
    "col = [elem[1] for elem in zpcm]\n",
    "data = [elem[2] for elem in zpcm]\n",
    "\n",
    "hz = scipy.sparse.coo_array((data,(row,col))).toarray()\n",
    "\n",
    "########################################################\n",
    "## \n",
    "########################################################\n",
    "\n",
    "qubit_noise_circ = stim.Circuit()\n",
    "\n",
    "for round in range(Nrounds):\n",
    "\n",
    "    qubit_noise_circ.append(\"X_ERROR\",list(css_rs.qubits),pnoise)\n",
    "\n",
    "    for zcheck in css_rs.check_dict[True]:\n",
    "        anc_qub = css_rs.Nqubits+zcheck\n",
    "        for dat_qub in css_rs.check_dict[True][zcheck]:\n",
    "            qubit_noise_circ.append(\"CX\",[dat_qub,anc_qub])\n",
    "        qubit_noise_circ.append(\"MR\",anc_qub)\n",
    "\n",
    "    qubit_noise_circ.append(\"Z_ERROR\",list(css_rs.qubits),pnoise)\n",
    "\n",
    "    for xcheck in css_rs.check_dict[False]:\n",
    "        anc_qub = css_rs.Nqubits+len(css_rs.check_dict[True])+xcheck\n",
    "\n",
    "        qubit_noise_circ.append(\"H\",anc_qub)\n",
    "        for dat_qub in css_rs.check_dict[False][xcheck]:\n",
    "            qubit_noise_circ.append(\"CX\",[anc_qub,dat_qub])\n",
    "        qubit_noise_circ.append(\"H\",anc_qub)\n",
    "        qubit_noise_circ.append(\"MR\",anc_qub)\n",
    "\n",
    "logic_qub = css_rs.Nqubits+len(css_rs.check_dict[False])+len(css_rs.check_dict[True])\n",
    "\n",
    "for dat_qub in zlogical(distance):\n",
    "    qubit_noise_circ.append(\"CX\", [dat_qub,logic_qub])\n",
    "\n",
    "qubit_noise_circ.append(\"MR\",logic_qub)\n",
    "\n",
    "########################################################\n",
    "## Setup sampling and decoding\n",
    "########################################################\n",
    "\n",
    "matching = pymatching.Matching(hz)\n",
    "\n",
    "sampler = qubit_noise_circ.compile_sampler()\n",
    "results = sampler.sample(shots=num_shots)\n",
    "num_errors = 0\n",
    "\n",
    "for res in results:\n",
    "    syndrome = res[:len(css_rs.check_dict[True])]\n",
    "\n",
    "    prediction = matching.decode(syndrome)\n",
    "\n",
    "    decoded_logical = sum(syndrome[:distance])%2\n",
    "    \n",
    "    num_errors+=decoded_logical\n",
    "\n",
    "print(num_errors)"
   ]
  },
  {
   "cell_type": "code",
   "execution_count": null,
   "metadata": {},
   "outputs": [],
   "source": [
    "########################################################\n",
    "## Noisy qubits with ideal syndrome extraction\n",
    "########################################################\n",
    "\n",
    "def rsurf_sampler(distance,pnoise,num_shots):\n",
    "\n",
    "    gens = rsurf_code(distance)\n",
    "    css_rs = cssCode(gens[0],gens[1])\n",
    "\n",
    "    zpcm = css_rs.to_check_matrices()[True]\n",
    "    row = [elem[0] for elem in zpcm]\n",
    "    col = [elem[1] for elem in zpcm]\n",
    "    data = [elem[2] for elem in zpcm]\n",
    "\n",
    "    hz = scipy.sparse.coo_array((data,(row,col))).toarray()\n",
    "\n",
    "    ########################################################\n",
    "    ## \n",
    "    ########################################################\n",
    "\n",
    "    qubit_noise_circ = stim.Circuit()\n",
    "\n",
    "    qubit_noise_circ.append(\"X_ERROR\",list(css_rs.qubits),pnoise)\n",
    "\n",
    "    for zcheck in css_rs.check_dict[True]:\n",
    "        anc_qub = css_rs.Nqubits+zcheck\n",
    "        for dat_qub in css_rs.check_dict[True][zcheck]:\n",
    "            qubit_noise_circ.append(\"CX\",[dat_qub,anc_qub])\n",
    "        qubit_noise_circ.append(\"MR\",anc_qub)\n",
    "\n",
    "    qubit_noise_circ.append(\"Z_ERROR\",list(css_rs.qubits),pnoise)\n",
    "\n",
    "    for xcheck in css_rs.check_dict[False]:\n",
    "        anc_qub = css_rs.Nqubits+len(css_rs.check_dict[True])+xcheck\n",
    "\n",
    "        qubit_noise_circ.append(\"H\",anc_qub)\n",
    "        for dat_qub in css_rs.check_dict[False][xcheck]:\n",
    "            qubit_noise_circ.append(\"CX\",[anc_qub,dat_qub])\n",
    "        qubit_noise_circ.append(\"H\",anc_qub)\n",
    "        qubit_noise_circ.append(\"MR\",anc_qub)\n",
    "\n",
    "    logic_qub = css_rs.Nqubits+len(css_rs.check_dict[False])+len(css_rs.check_dict[True])\n",
    "\n",
    "    # for dat_qub in zlogical(distance):\n",
    "    #     qubit_noise_circ.append(\"CX\", [dat_qub,logic_qub])\n",
    "\n",
    "    qubit_noise_circ.append(\"MR\",css_rs.qubits)\n",
    "\n",
    "    ########################################################\n",
    "    ## Setup sampling and decoding\n",
    "    ########################################################\n",
    "\n",
    "    matching = pymatching.Matching(hz)\n",
    "\n",
    "    sampler = qubit_noise_circ.compile_sampler()\n",
    "    results = sampler.sample(shots=num_shots)\n",
    "    num_errors = 0\n",
    "\n",
    "    for res in results:\n",
    "        syndrome = res[:len(css_rs.check_dict[True])]\n",
    "\n",
    "        prediction = matching.decode(syndrome)\n",
    "\n",
    "        obs_logical = syndrome[len(css_rs.check_dict[True])+len(css_rs.check_dict[False]):len(css_rs.check_dict[True])+len(css_rs.check_dict[False])+distance]\n",
    "\n",
    "        decoded_logical = \n",
    "        \n",
    "        num_errors+=decoded_logical\n",
    "\n",
    "    return num_errors"
   ]
  },
  {
   "cell_type": "code",
   "execution_count": 79,
   "metadata": {},
   "outputs": [
    {
     "name": "stdout",
     "output_type": "stream",
     "text": [
      "3754\n"
     ]
    }
   ],
   "source": [
    "rsurf_sampler(3,0.1,10000)"
   ]
  },
  {
   "cell_type": "code",
   "execution_count": 84,
   "metadata": {},
   "outputs": [
    {
     "name": "stdout",
     "output_type": "stream",
     "text": [
      "pnoise = 0.01\n",
      "L = 7, num_errs = 1279\n",
      "L = 9, num_errs = 1556\n",
      "L = 11, num_errs = 1802\n",
      "\n",
      "pnoise = 0.015\n",
      "L = 7, num_errs = 1756\n",
      "L = 9, num_errs = 2069\n",
      "L = 11, num_errs = 2447\n",
      "\n",
      "pnoise = 0.02\n",
      "L = 7, num_errs = 2151\n",
      "L = 9, num_errs = 2635\n",
      "L = 11, num_errs = 2988\n",
      "\n",
      "pnoise = 0.025\n",
      "L = 7, num_errs = 2563\n",
      "L = 9, num_errs = 3087\n",
      "L = 11, num_errs = 3447\n",
      "\n",
      "pnoise = 0.03\n",
      "L = 7, num_errs = 2857\n",
      "L = 9, num_errs = 3333\n",
      "L = 11, num_errs = 3752\n",
      "\n",
      "pnoise = 0.035\n",
      "L = 7, num_errs = 3220\n",
      "L = 9, num_errs = 3593\n",
      "L = 11, num_errs = 3945\n",
      "\n"
     ]
    }
   ],
   "source": [
    "for pnoise in [0.01,0.015, 0.02, 0.025, 0.03, 0.035]:\n",
    "    print(\"pnoise = \" + str(pnoise))\n",
    "    for L in [7,9,11]:\n",
    "        num_errs = rsurf_sampler(L,pnoise,10000)\n",
    "        print(\"L = \"+str(L)+\", num_errs = \" + str(num_errs))\n",
    "    print()"
   ]
  },
  {
   "cell_type": "code",
   "execution_count": null,
   "metadata": {},
   "outputs": [],
   "source": []
  }
 ],
 "metadata": {
  "kernelspec": {
   "display_name": ".env",
   "language": "python",
   "name": "python3"
  },
  "language_info": {
   "codemirror_mode": {
    "name": "ipython",
    "version": 3
   },
   "file_extension": ".py",
   "mimetype": "text/x-python",
   "name": "python",
   "nbconvert_exporter": "python",
   "pygments_lexer": "ipython3",
   "version": "3.12.9"
  }
 },
 "nbformat": 4,
 "nbformat_minor": 2
}
