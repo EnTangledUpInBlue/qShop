{
 "cells": [
  {
   "cell_type": "markdown",
   "metadata": {},
   "source": [
    "Workbook for computing threshold given a code and its circuitj\n",
    "\n",
    "INPUT: A css code (check matrix and logical operators)\n",
    "\n",
    "OUTPUT: \n",
    "\n",
    "Want to:\n",
    "1. Specify a syndrome extraction circuit\n",
    "2. Apply circuit level noise\n",
    "3. Decode output"
   ]
  },
  {
   "cell_type": "code",
   "execution_count": null,
   "metadata": {
    "vscode": {
     "languageId": "plaintext"
    }
   },
   "outputs": [],
   "source": []
  }
 ],
 "metadata": {
  "language_info": {
   "name": "python"
  }
 },
 "nbformat": 4,
 "nbformat_minor": 2
}
