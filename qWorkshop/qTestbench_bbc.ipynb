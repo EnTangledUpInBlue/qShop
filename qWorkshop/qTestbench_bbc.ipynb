{
 "cells": [
  {
   "cell_type": "code",
   "execution_count": 3,
   "metadata": {},
   "outputs": [],
   "source": [
    "import sys\n",
    "import os\n",
    "sys.path.append(os.path.abspath('..'))"
   ]
  },
  {
   "cell_type": "code",
   "execution_count": 4,
   "metadata": {},
   "outputs": [],
   "source": [
    "# from codes.example_codes import \n",
    "from codes.bivariate_bicycle_checks import pcm\n",
    "from codes.code_tools import pcm_to_sets, generate_syndrome_dict, pivot_finder, pivots, column_echelon_form"
   ]
  },
  {
   "cell_type": "code",
   "execution_count": 5,
   "metadata": {},
   "outputs": [],
   "source": [
    "hx,hz = pcm(12,6,[3,1,2],[3,1,2])"
   ]
  },
  {
   "cell_type": "code",
   "execution_count": 7,
   "metadata": {},
   "outputs": [],
   "source": [
    "sx = pcm_to_sets(hx)\n",
    "sz = pcm_to_sets(hz)"
   ]
  },
  {
   "cell_type": "code",
   "execution_count": 8,
   "metadata": {},
   "outputs": [],
   "source": [
    "qubits = set.union(*sx)"
   ]
  },
  {
   "cell_type": "code",
   "execution_count": 10,
   "metadata": {},
   "outputs": [],
   "source": [
    "col_sets = column_echelon_form(sx)"
   ]
  },
  {
   "cell_type": "code",
   "execution_count": 11,
   "metadata": {},
   "outputs": [],
   "source": [
    "xpivs = pivots(sx)"
   ]
  },
  {
   "cell_type": "code",
   "execution_count": null,
   "metadata": {},
   "outputs": [],
   "source": [
    "col_sets"
   ]
  },
  {
   "cell_type": "code",
   "execution_count": null,
   "metadata": {},
   "outputs": [],
   "source": [
    "for x in qubits - set(xpivs):\n",
    "    print(str(x) + ' ' + str(col_sets[x]))"
   ]
  },
  {
   "cell_type": "code",
   "execution_count": 19,
   "metadata": {},
   "outputs": [
    {
     "name": "stdout",
     "output_type": "stream",
     "text": [
      "110 {11, 50, 62, 72, 73, 110}\n",
      "111 {0, 51, 63, 73, 74, 111}\n",
      "112 {1, 52, 64, 74, 75, 112}\n",
      "122 {2, 23, 62, 84, 85, 122}\n"
     ]
    }
   ],
   "source": [
    "n=0\n",
    "for x in qubits - set(xpivs):\n",
    "    if col_sets[x] in sz:\n",
    "        print(str(x) + ' ' + str(col_sets[x]))\n",
    "        n+=1"
   ]
  },
  {
   "cell_type": "code",
   "execution_count": 20,
   "metadata": {},
   "outputs": [
    {
     "data": {
      "text/plain": [
       "4"
      ]
     },
     "execution_count": 20,
     "metadata": {},
     "output_type": "execute_result"
    }
   ],
   "source": [
    "n"
   ]
  },
  {
   "cell_type": "code",
   "execution_count": 18,
   "metadata": {},
   "outputs": [
    {
     "data": {
      "text/plain": [
       "78"
      ]
     },
     "execution_count": 18,
     "metadata": {},
     "output_type": "execute_result"
    }
   ],
   "source": [
    "len(qubits-set(xpivs))"
   ]
  },
  {
   "cell_type": "code",
   "execution_count": 15,
   "metadata": {},
   "outputs": [
    {
     "data": {
      "text/plain": [
       "(66, 72)"
      ]
     },
     "execution_count": 15,
     "metadata": {},
     "output_type": "execute_result"
    }
   ],
   "source": [
    "len(xpivs),len(sx)"
   ]
  },
  {
   "cell_type": "code",
   "execution_count": 14,
   "metadata": {},
   "outputs": [
    {
     "data": {
      "text/plain": [
       "144"
      ]
     },
     "execution_count": 14,
     "metadata": {},
     "output_type": "execute_result"
    }
   ],
   "source": [
    "len(qubits)"
   ]
  },
  {
   "cell_type": "code",
   "execution_count": 5,
   "metadata": {},
   "outputs": [],
   "source": [
    "syndromes = generate_syndrome_dict(sx)"
   ]
  },
  {
   "cell_type": "code",
   "execution_count": 7,
   "metadata": {},
   "outputs": [
    {
     "data": {
      "text/plain": [
       "{0: {0, 1},\n",
       " 1: {0, 2},\n",
       " 2: {2, 3},\n",
       " 3: {1, 3},\n",
       " 4: {1, 4},\n",
       " 5: {0, 5},\n",
       " 6: {2, 6},\n",
       " 7: {3, 7},\n",
       " 8: {4, 5},\n",
       " 9: {5, 6},\n",
       " 10: {6, 7},\n",
       " 11: {4, 7},\n",
       " 12: {4, 8},\n",
       " 13: {5, 9},\n",
       " 14: {6, 10},\n",
       " 15: {7, 11},\n",
       " 16: {8, 9},\n",
       " 17: {9, 10},\n",
       " 18: {10, 11},\n",
       " 19: {8, 11},\n",
       " 20: {8, 12},\n",
       " 21: {9, 13},\n",
       " 22: {10, 14},\n",
       " 23: {11, 15},\n",
       " 24: {12, 13},\n",
       " 25: {13, 14},\n",
       " 26: {14, 15},\n",
       " 27: {12, 15},\n",
       " 28: {1, 12},\n",
       " 29: {0, 13},\n",
       " 30: {2, 14},\n",
       " 31: {3, 15}}"
      ]
     },
     "execution_count": 7,
     "metadata": {},
     "output_type": "execute_result"
    }
   ],
   "source": [
    "syndromes"
   ]
  },
  {
   "cell_type": "code",
   "execution_count": null,
   "metadata": {},
   "outputs": [],
   "source": [
    "col = {4}\n",
    "for chk in syndromes[4]:\n",
    "    print(str(chk)+' ' + str(pivxsets[chk]))\n",
    "    col^=col_sets[min(pivxsets[chk])]\n",
    "    print(col)\n",
    "print(col)"
   ]
  },
  {
   "cell_type": "code",
   "execution_count": null,
   "metadata": {},
   "outputs": [],
   "source": [
    "len(col_sets)"
   ]
  },
  {
   "cell_type": "code",
   "execution_count": null,
   "metadata": {},
   "outputs": [],
   "source": [
    "pivsz = pivots(sz)"
   ]
  },
  {
   "cell_type": "code",
   "execution_count": null,
   "metadata": {},
   "outputs": [],
   "source": [
    "pivzsets = pivot_finder(sz,[])"
   ]
  },
  {
   "cell_type": "code",
   "execution_count": null,
   "metadata": {},
   "outputs": [],
   "source": [
    "pivzsets"
   ]
  },
  {
   "cell_type": "code",
   "execution_count": null,
   "metadata": {},
   "outputs": [],
   "source": [
    "len(pivzsets)"
   ]
  },
  {
   "cell_type": "code",
   "execution_count": null,
   "metadata": {},
   "outputs": [],
   "source": [
    "len(qubits)"
   ]
  },
  {
   "cell_type": "code",
   "execution_count": 14,
   "metadata": {},
   "outputs": [],
   "source": [
    "pivxsets = pivot_finder(sx,[])"
   ]
  },
  {
   "cell_type": "code",
   "execution_count": 17,
   "metadata": {},
   "outputs": [
    {
     "data": {
      "text/plain": [
       "[{0, 1, 5, 29},\n",
       " {1, 2, 6, 30},\n",
       " {2, 3, 4, 5, 6, 28, 29, 30},\n",
       " {4, 5, 6, 7, 28, 29, 30, 31},\n",
       " {5, 6, 7, 8, 11, 12, 28, 29, 30, 31},\n",
       " {6, 7, 9, 11, 12, 13, 28, 29, 30, 31},\n",
       " {7, 10, 11, 12, 13, 14, 28, 29, 30, 31},\n",
       " {12, 13, 14, 15, 28, 29, 30, 31},\n",
       " {13, 14, 15, 16, 19, 20, 28, 29, 30, 31},\n",
       " {14, 15, 17, 19, 20, 21, 28, 29, 30, 31},\n",
       " {15, 18, 19, 20, 21, 22, 28, 29, 30, 31},\n",
       " {20, 21, 22, 23, 28, 29, 30, 31},\n",
       " {21, 22, 23, 24, 27, 29, 30, 31},\n",
       " {22, 23, 25, 27, 30, 31},\n",
       " {23, 26, 27, 31}]"
      ]
     },
     "execution_count": 17,
     "metadata": {},
     "output_type": "execute_result"
    }
   ],
   "source": [
    "pivxsets"
   ]
  },
  {
   "cell_type": "code",
   "execution_count": 18,
   "metadata": {},
   "outputs": [
    {
     "data": {
      "text/plain": [
       "[{0, 3, 4, 28},\n",
       " {0, 1, 5, 29},\n",
       " {1, 2, 6, 30},\n",
       " {2, 3, 7, 31},\n",
       " {4, 8, 11, 12},\n",
       " {5, 8, 9, 13},\n",
       " {6, 9, 10, 14},\n",
       " {7, 10, 11, 15},\n",
       " {12, 16, 19, 20},\n",
       " {13, 16, 17, 21},\n",
       " {14, 17, 18, 22},\n",
       " {15, 18, 19, 23},\n",
       " {20, 24, 27, 28},\n",
       " {21, 24, 25, 29},\n",
       " {22, 25, 26, 30},\n",
       " {23, 26, 27, 31}]"
      ]
     },
     "execution_count": 18,
     "metadata": {},
     "output_type": "execute_result"
    }
   ],
   "source": [
    "sx"
   ]
  },
  {
   "cell_type": "code",
   "execution_count": 19,
   "metadata": {},
   "outputs": [
    {
     "data": {
      "text/plain": [
       "[0, 1, 2, 4, 5, 6, 7, 12, 13, 14, 15, 20, 21, 22, 23]"
      ]
     },
     "execution_count": 19,
     "metadata": {},
     "output_type": "execute_result"
    }
   ],
   "source": [
    "pivsx = [min(s) for s in pivxsets]\n",
    "pivsx"
   ]
  },
  {
   "cell_type": "code",
   "execution_count": 20,
   "metadata": {},
   "outputs": [],
   "source": [
    "psyndromes = generate_syndrome_dict(pivxsets)"
   ]
  },
  {
   "cell_type": "code",
   "execution_count": 23,
   "metadata": {},
   "outputs": [
    {
     "data": {
      "text/plain": [
       "[{0, 1, 5, 29},\n",
       " {1, 2, 6, 30},\n",
       " {2, 3, 4, 5, 6, 28, 29, 30},\n",
       " {4, 5, 6, 7, 28, 29, 30, 31},\n",
       " {5, 6, 7, 8, 11, 12, 28, 29, 30, 31},\n",
       " {6, 7, 9, 11, 12, 13, 28, 29, 30, 31},\n",
       " {7, 10, 11, 12, 13, 14, 28, 29, 30, 31},\n",
       " {12, 13, 14, 15, 28, 29, 30, 31},\n",
       " {13, 14, 15, 16, 19, 20, 28, 29, 30, 31},\n",
       " {14, 15, 17, 19, 20, 21, 28, 29, 30, 31},\n",
       " {15, 18, 19, 20, 21, 22, 28, 29, 30, 31},\n",
       " {20, 21, 22, 23, 28, 29, 30, 31},\n",
       " {21, 22, 23, 24, 27, 29, 30, 31},\n",
       " {22, 23, 25, 27, 30, 31},\n",
       " {23, 26, 27, 31}]"
      ]
     },
     "execution_count": 23,
     "metadata": {},
     "output_type": "execute_result"
    }
   ],
   "source": [
    "pivxsets"
   ]
  },
  {
   "cell_type": "code",
   "execution_count": 21,
   "metadata": {},
   "outputs": [
    {
     "data": {
      "text/plain": [
       "{0: {0},\n",
       " 1: {0, 1},\n",
       " 2: {1, 2},\n",
       " 3: {2},\n",
       " 4: {2, 3},\n",
       " 5: {0, 2, 3, 4},\n",
       " 6: {1, 2, 3, 4, 5},\n",
       " 7: {3, 4, 5, 6},\n",
       " 8: {4},\n",
       " 9: {5},\n",
       " 10: {6},\n",
       " 11: {4, 5, 6},\n",
       " 12: {4, 5, 6, 7},\n",
       " 13: {5, 6, 7, 8},\n",
       " 14: {6, 7, 8, 9},\n",
       " 15: {7, 8, 9, 10},\n",
       " 16: {8},\n",
       " 17: {9},\n",
       " 18: {10},\n",
       " 19: {8, 9, 10},\n",
       " 20: {8, 9, 10, 11},\n",
       " 21: {9, 10, 11, 12},\n",
       " 22: {10, 11, 12, 13},\n",
       " 23: {11, 12, 13, 14},\n",
       " 24: {12},\n",
       " 25: {13},\n",
       " 26: {14},\n",
       " 27: {12, 13, 14},\n",
       " 28: {2, 3, 4, 5, 6, 7, 8, 9, 10, 11},\n",
       " 29: {0, 2, 3, 4, 5, 6, 7, 8, 9, 10, 11, 12},\n",
       " 30: {1, 2, 3, 4, 5, 6, 7, 8, 9, 10, 11, 12, 13},\n",
       " 31: {3, 4, 5, 6, 7, 8, 9, 10, 11, 12, 13, 14}}"
      ]
     },
     "execution_count": 21,
     "metadata": {},
     "output_type": "execute_result"
    }
   ],
   "source": [
    "psyndromes"
   ]
  },
  {
   "cell_type": "code",
   "execution_count": null,
   "metadata": {},
   "outputs": [],
   "source": [
    "for piv in qubits-set(pivsx):\n",
    "    print(piv,col_sets[piv])"
   ]
  },
  {
   "cell_type": "code",
   "execution_count": null,
   "metadata": {},
   "outputs": [],
   "source": [
    "i2q = dict([(v,k) for k,v in q2i.items()])"
   ]
  },
  {
   "cell_type": "code",
   "execution_count": null,
   "metadata": {},
   "outputs": [],
   "source": [
    "i2q[2],i2q[6],i2q[7]"
   ]
  },
  {
   "cell_type": "code",
   "execution_count": null,
   "metadata": {},
   "outputs": [],
   "source": [
    "i2q[0]"
   ]
  },
  {
   "cell_type": "code",
   "execution_count": null,
   "metadata": {},
   "outputs": [],
   "source": [
    "i2q"
   ]
  },
  {
   "cell_type": "code",
   "execution_count": null,
   "metadata": {},
   "outputs": [],
   "source": []
  }
 ],
 "metadata": {
  "kernelspec": {
   "display_name": ".env",
   "language": "python",
   "name": "python3"
  },
  "language_info": {
   "codemirror_mode": {
    "name": "ipython",
    "version": 3
   },
   "file_extension": ".py",
   "mimetype": "text/x-python",
   "name": "python",
   "nbconvert_exporter": "python",
   "pygments_lexer": "ipython3",
   "version": "3.12.9"
  }
 },
 "nbformat": 4,
 "nbformat_minor": 2
}
