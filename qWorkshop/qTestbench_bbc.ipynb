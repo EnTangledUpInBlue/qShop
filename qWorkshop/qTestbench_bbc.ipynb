{
 "cells": [
  {
   "cell_type": "code",
   "execution_count": 1,
   "metadata": {},
   "outputs": [],
   "source": [
    "import sys\n",
    "import os\n",
    "sys.path.append(os.path.abspath('..'))"
   ]
  },
  {
   "cell_type": "code",
   "execution_count": 2,
   "metadata": {},
   "outputs": [],
   "source": [
    "# from codes.example_codes import \n",
    "from codes.bivariate_bicycle_checks import pcm\n",
    "from codes.code_tools import pcm_to_sets, generate_syndrome_dict, pivot_finder, pivots, column_echelon_form"
   ]
  },
  {
   "cell_type": "code",
   "execution_count": 3,
   "metadata": {},
   "outputs": [],
   "source": [
    "hx,hz = pcm(12,6,[3,1,2],[3,1,2])"
   ]
  },
  {
   "cell_type": "code",
   "execution_count": 16,
   "metadata": {},
   "outputs": [],
   "source": [
    "sx = pcm_to_sets(hx)\n",
    "sz = pcm_to_sets(hz)"
   ]
  },
  {
   "cell_type": "code",
   "execution_count": 5,
   "metadata": {},
   "outputs": [],
   "source": [
    "qubits = set.union(*sx)"
   ]
  },
  {
   "cell_type": "code",
   "execution_count": 6,
   "metadata": {},
   "outputs": [],
   "source": [
    "col_sets = column_echelon_form(sx)"
   ]
  },
  {
   "cell_type": "code",
   "execution_count": 7,
   "metadata": {},
   "outputs": [],
   "source": [
    "xpivs = pivots(sx)"
   ]
  },
  {
   "cell_type": "code",
   "execution_count": null,
   "metadata": {},
   "outputs": [],
   "source": [
    "col_sets"
   ]
  },
  {
   "cell_type": "code",
   "execution_count": null,
   "metadata": {},
   "outputs": [],
   "source": [
    "for x in qubits - set(xpivs):\n",
    "    print(str(x) + ' ' + str(col_sets[x]))"
   ]
  },
  {
   "cell_type": "code",
   "execution_count": 8,
   "metadata": {},
   "outputs": [
    {
     "name": "stdout",
     "output_type": "stream",
     "text": [
      "44 {1, 36, 0, 38, 7, 6, 11, 44, 10, 5, 42, 4}\n",
      "12\n",
      "109 {11, 15, 27, 36, 50, 62, 72, 73, 75, 109}\n",
      "10\n",
      "10\n"
     ]
    }
   ],
   "source": [
    "min = 144\n",
    "for x in qubits - set(xpivs):\n",
    "    if not col_sets[x] in sz:\n",
    "        if len(col_sets[x]) < min:\n",
    "            min = len(col_sets[x])\n",
    "            print(str(x) + ' ' + str(col_sets[x]))\n",
    "            print(min)\n",
    "print(min)"
   ]
  },
  {
   "cell_type": "code",
   "execution_count": 9,
   "metadata": {},
   "outputs": [],
   "source": [
    "xpsets = pivot_finder(sx,[])"
   ]
  },
  {
   "cell_type": "code",
   "execution_count": 10,
   "metadata": {},
   "outputs": [
    {
     "name": "stdout",
     "output_type": "stream",
     "text": [
      "[10, 11, 36, 37, 38, 39, 40, 41, 42, 43, 44, 46, 47, 73, 74, 75, 76, 77, 78, 79, 80, 81, 82, 83, 84, 85, 86, 87, 88, 89, 90, 91, 92, 94, 95, 96, 97, 98, 99, 100, 101, 102, 103, 104, 106, 107]\n",
      "[11, 36, 37, 38, 39, 40, 41, 42, 43, 73, 74, 75, 76, 77, 78, 79, 80, 81, 82, 84, 85, 86, 87, 88, 89, 90, 91, 94, 95, 96, 97, 98, 99, 100, 101, 102, 103, 106, 107, 108, 129, 141]\n",
      "[12, 13, 59, 86, 107, 119]\n",
      "[13, 14, 48, 87, 96, 108]\n",
      "[14, 15, 49, 88, 97, 109]\n",
      "[15, 16, 50, 89, 98, 110]\n",
      "[16, 17, 51, 90, 99, 111]\n",
      "[17, 18, 52, 91, 100, 112]\n",
      "[18, 19, 53, 92, 101, 113]\n",
      "[19, 20, 54, 93, 102, 114]\n"
     ]
    }
   ],
   "source": [
    "for x in xpsets[10:20]:\n",
    "    print(sorted(list(x)))"
   ]
  },
  {
   "cell_type": "code",
   "execution_count": 11,
   "metadata": {},
   "outputs": [
    {
     "data": {
      "text/plain": [
       "78"
      ]
     },
     "execution_count": 11,
     "metadata": {},
     "output_type": "execute_result"
    }
   ],
   "source": [
    "len(qubits)-len(xpsets)"
   ]
  },
  {
   "cell_type": "code",
   "execution_count": 12,
   "metadata": {},
   "outputs": [
    {
     "data": {
      "text/plain": [
       "(66, 72)"
      ]
     },
     "execution_count": 12,
     "metadata": {},
     "output_type": "execute_result"
    }
   ],
   "source": [
    "len(xpivs),len(sx)"
   ]
  },
  {
   "cell_type": "code",
   "execution_count": 13,
   "metadata": {},
   "outputs": [
    {
     "data": {
      "text/plain": [
       "144"
      ]
     },
     "execution_count": 13,
     "metadata": {},
     "output_type": "execute_result"
    }
   ],
   "source": [
    "len(qubits)"
   ]
  },
  {
   "cell_type": "code",
   "execution_count": 17,
   "metadata": {},
   "outputs": [],
   "source": [
    "syndromes = generate_syndrome_dict(sx)"
   ]
  },
  {
   "cell_type": "code",
   "execution_count": 18,
   "metadata": {},
   "outputs": [
    {
     "data": {
      "text/plain": [
       "{0: {0, 1, 2},\n",
       " 1: {0, 3, 4},\n",
       " 2: {3, 5, 6},\n",
       " 3: {5, 7, 8},\n",
       " 4: {7, 9, 10},\n",
       " 5: {9, 11, 12},\n",
       " 6: {11, 13, 14},\n",
       " 7: {13, 15, 16},\n",
       " 8: {15, 17, 18},\n",
       " 9: {17, 19, 20},\n",
       " 10: {19, 21, 22},\n",
       " 11: {1, 21, 23},\n",
       " 12: {24, 25, 26},\n",
       " 13: {24, 27, 28},\n",
       " 14: {27, 29, 30},\n",
       " 15: {29, 31, 32},\n",
       " 16: {31, 33, 34},\n",
       " 17: {33, 35, 36},\n",
       " 18: {35, 37, 38},\n",
       " 19: {37, 39, 40},\n",
       " 20: {39, 41, 42},\n",
       " 21: {41, 43, 44},\n",
       " 22: {43, 45, 46},\n",
       " 23: {25, 45, 47},\n",
       " 24: {48, 49, 50},\n",
       " 25: {48, 51, 52},\n",
       " 26: {51, 53, 54},\n",
       " 27: {53, 55, 56},\n",
       " 28: {55, 57, 58},\n",
       " 29: {57, 59, 60},\n",
       " 30: {59, 61, 62},\n",
       " 31: {61, 63, 64},\n",
       " 32: {63, 65, 66},\n",
       " 33: {65, 67, 68},\n",
       " 34: {67, 69, 70},\n",
       " 35: {49, 69, 71},\n",
       " 36: {3, 22, 23},\n",
       " 37: {2, 5, 23},\n",
       " 38: {2, 4, 7},\n",
       " 39: {4, 6, 9},\n",
       " 40: {6, 8, 11},\n",
       " 41: {8, 10, 13},\n",
       " 42: {10, 12, 15},\n",
       " 43: {12, 14, 17},\n",
       " 44: {14, 16, 19},\n",
       " 45: {16, 18, 21},\n",
       " 46: {1, 18, 20},\n",
       " 47: {0, 20, 22},\n",
       " 48: {27, 46, 47},\n",
       " 49: {26, 29, 47},\n",
       " 50: {26, 28, 31},\n",
       " 51: {28, 30, 33},\n",
       " 52: {30, 32, 35},\n",
       " 53: {32, 34, 37},\n",
       " 54: {34, 36, 39},\n",
       " 55: {36, 38, 41},\n",
       " 56: {38, 40, 43},\n",
       " 57: {40, 42, 45},\n",
       " 58: {25, 42, 44},\n",
       " 59: {24, 44, 46},\n",
       " 60: {51, 70, 71},\n",
       " 61: {50, 53, 71},\n",
       " 62: {50, 52, 55},\n",
       " 63: {52, 54, 57},\n",
       " 64: {54, 56, 59},\n",
       " 65: {56, 58, 61},\n",
       " 66: {58, 60, 63},\n",
       " 67: {60, 62, 65},\n",
       " 68: {62, 64, 67},\n",
       " 69: {64, 66, 69},\n",
       " 70: {49, 66, 68},\n",
       " 71: {48, 68, 70},\n",
       " 72: {21, 26, 50},\n",
       " 73: {1, 28, 52},\n",
       " 74: {0, 30, 54},\n",
       " 75: {3, 32, 56},\n",
       " 76: {5, 34, 58},\n",
       " 77: {7, 36, 60},\n",
       " 78: {9, 38, 62},\n",
       " 79: {11, 40, 64},\n",
       " 80: {13, 42, 66},\n",
       " 81: {15, 44, 68},\n",
       " 82: {17, 46, 70},\n",
       " 83: {19, 47, 71},\n",
       " 84: {3, 45, 50},\n",
       " 85: {5, 25, 52},\n",
       " 86: {7, 24, 54},\n",
       " 87: {9, 27, 56},\n",
       " 88: {11, 29, 58},\n",
       " 89: {13, 31, 60},\n",
       " 90: {15, 33, 62},\n",
       " 91: {17, 35, 64},\n",
       " 92: {19, 37, 66},\n",
       " 93: {21, 39, 68},\n",
       " 94: {1, 41, 70},\n",
       " 95: {0, 43, 71},\n",
       " 96: {3, 27, 69},\n",
       " 97: {5, 29, 49},\n",
       " 98: {7, 31, 48},\n",
       " 99: {9, 33, 51},\n",
       " 100: {11, 35, 53},\n",
       " 101: {13, 37, 55},\n",
       " 102: {15, 39, 57},\n",
       " 103: {17, 41, 59},\n",
       " 104: {19, 43, 61},\n",
       " 105: {21, 45, 63},\n",
       " 106: {1, 25, 65},\n",
       " 107: {0, 24, 67},\n",
       " 108: {20, 27, 51},\n",
       " 109: {22, 29, 53},\n",
       " 110: {23, 31, 55},\n",
       " 111: {2, 33, 57},\n",
       " 112: {4, 35, 59},\n",
       " 113: {6, 37, 61},\n",
       " 114: {8, 39, 63},\n",
       " 115: {10, 41, 65},\n",
       " 116: {12, 43, 67},\n",
       " 117: {14, 45, 69},\n",
       " 118: {16, 25, 49},\n",
       " 119: {18, 24, 48},\n",
       " 120: {2, 44, 51},\n",
       " 121: {4, 46, 53},\n",
       " 122: {6, 47, 55},\n",
       " 123: {8, 26, 57},\n",
       " 124: {10, 28, 59},\n",
       " 125: {12, 30, 61},\n",
       " 126: {14, 32, 63},\n",
       " 127: {16, 34, 65},\n",
       " 128: {18, 36, 67},\n",
       " 129: {20, 38, 69},\n",
       " 130: {22, 40, 49},\n",
       " 131: {23, 42, 48},\n",
       " 132: {2, 26, 68},\n",
       " 133: {4, 28, 70},\n",
       " 134: {6, 30, 71},\n",
       " 135: {8, 32, 50},\n",
       " 136: {10, 34, 52},\n",
       " 137: {12, 36, 54},\n",
       " 138: {14, 38, 56},\n",
       " 139: {16, 40, 58},\n",
       " 140: {18, 42, 60},\n",
       " 141: {20, 44, 62},\n",
       " 142: {22, 46, 64},\n",
       " 143: {23, 47, 66}}"
      ]
     },
     "execution_count": 18,
     "metadata": {},
     "output_type": "execute_result"
    }
   ],
   "source": [
    "syndromes"
   ]
  },
  {
   "cell_type": "code",
   "execution_count": null,
   "metadata": {},
   "outputs": [],
   "source": [
    "col = {4}\n",
    "for chk in syndromes[4]:\n",
    "    print(str(chk)+' ' + str(pivxsets[chk]))\n",
    "    col^=col_sets[min(pivxsets[chk])]\n",
    "    print(col)\n",
    "print(col)"
   ]
  },
  {
   "cell_type": "code",
   "execution_count": null,
   "metadata": {},
   "outputs": [],
   "source": [
    "len(col_sets)"
   ]
  },
  {
   "cell_type": "code",
   "execution_count": null,
   "metadata": {},
   "outputs": [],
   "source": [
    "pivsz = pivots(sz)"
   ]
  },
  {
   "cell_type": "code",
   "execution_count": null,
   "metadata": {},
   "outputs": [],
   "source": [
    "pivzsets = pivot_finder(sz,[])"
   ]
  },
  {
   "cell_type": "code",
   "execution_count": null,
   "metadata": {},
   "outputs": [],
   "source": [
    "pivzsets"
   ]
  },
  {
   "cell_type": "code",
   "execution_count": null,
   "metadata": {},
   "outputs": [],
   "source": [
    "len(pivzsets)"
   ]
  },
  {
   "cell_type": "code",
   "execution_count": null,
   "metadata": {},
   "outputs": [],
   "source": [
    "len(qubits)"
   ]
  },
  {
   "cell_type": "code",
   "execution_count": 14,
   "metadata": {},
   "outputs": [],
   "source": [
    "pivxsets = pivot_finder(sx,[])"
   ]
  },
  {
   "cell_type": "code",
   "execution_count": 17,
   "metadata": {},
   "outputs": [
    {
     "data": {
      "text/plain": [
       "[{0, 1, 5, 29},\n",
       " {1, 2, 6, 30},\n",
       " {2, 3, 4, 5, 6, 28, 29, 30},\n",
       " {4, 5, 6, 7, 28, 29, 30, 31},\n",
       " {5, 6, 7, 8, 11, 12, 28, 29, 30, 31},\n",
       " {6, 7, 9, 11, 12, 13, 28, 29, 30, 31},\n",
       " {7, 10, 11, 12, 13, 14, 28, 29, 30, 31},\n",
       " {12, 13, 14, 15, 28, 29, 30, 31},\n",
       " {13, 14, 15, 16, 19, 20, 28, 29, 30, 31},\n",
       " {14, 15, 17, 19, 20, 21, 28, 29, 30, 31},\n",
       " {15, 18, 19, 20, 21, 22, 28, 29, 30, 31},\n",
       " {20, 21, 22, 23, 28, 29, 30, 31},\n",
       " {21, 22, 23, 24, 27, 29, 30, 31},\n",
       " {22, 23, 25, 27, 30, 31},\n",
       " {23, 26, 27, 31}]"
      ]
     },
     "execution_count": 17,
     "metadata": {},
     "output_type": "execute_result"
    }
   ],
   "source": [
    "pivxsets"
   ]
  },
  {
   "cell_type": "code",
   "execution_count": 18,
   "metadata": {},
   "outputs": [
    {
     "data": {
      "text/plain": [
       "[{0, 3, 4, 28},\n",
       " {0, 1, 5, 29},\n",
       " {1, 2, 6, 30},\n",
       " {2, 3, 7, 31},\n",
       " {4, 8, 11, 12},\n",
       " {5, 8, 9, 13},\n",
       " {6, 9, 10, 14},\n",
       " {7, 10, 11, 15},\n",
       " {12, 16, 19, 20},\n",
       " {13, 16, 17, 21},\n",
       " {14, 17, 18, 22},\n",
       " {15, 18, 19, 23},\n",
       " {20, 24, 27, 28},\n",
       " {21, 24, 25, 29},\n",
       " {22, 25, 26, 30},\n",
       " {23, 26, 27, 31}]"
      ]
     },
     "execution_count": 18,
     "metadata": {},
     "output_type": "execute_result"
    }
   ],
   "source": [
    "sx"
   ]
  },
  {
   "cell_type": "code",
   "execution_count": 19,
   "metadata": {},
   "outputs": [
    {
     "data": {
      "text/plain": [
       "[0, 1, 2, 4, 5, 6, 7, 12, 13, 14, 15, 20, 21, 22, 23]"
      ]
     },
     "execution_count": 19,
     "metadata": {},
     "output_type": "execute_result"
    }
   ],
   "source": [
    "pivsx = [min(s) for s in pivxsets]\n",
    "pivsx"
   ]
  },
  {
   "cell_type": "code",
   "execution_count": 20,
   "metadata": {},
   "outputs": [],
   "source": [
    "psyndromes = generate_syndrome_dict(pivxsets)"
   ]
  },
  {
   "cell_type": "code",
   "execution_count": 23,
   "metadata": {},
   "outputs": [
    {
     "data": {
      "text/plain": [
       "[{0, 1, 5, 29},\n",
       " {1, 2, 6, 30},\n",
       " {2, 3, 4, 5, 6, 28, 29, 30},\n",
       " {4, 5, 6, 7, 28, 29, 30, 31},\n",
       " {5, 6, 7, 8, 11, 12, 28, 29, 30, 31},\n",
       " {6, 7, 9, 11, 12, 13, 28, 29, 30, 31},\n",
       " {7, 10, 11, 12, 13, 14, 28, 29, 30, 31},\n",
       " {12, 13, 14, 15, 28, 29, 30, 31},\n",
       " {13, 14, 15, 16, 19, 20, 28, 29, 30, 31},\n",
       " {14, 15, 17, 19, 20, 21, 28, 29, 30, 31},\n",
       " {15, 18, 19, 20, 21, 22, 28, 29, 30, 31},\n",
       " {20, 21, 22, 23, 28, 29, 30, 31},\n",
       " {21, 22, 23, 24, 27, 29, 30, 31},\n",
       " {22, 23, 25, 27, 30, 31},\n",
       " {23, 26, 27, 31}]"
      ]
     },
     "execution_count": 23,
     "metadata": {},
     "output_type": "execute_result"
    }
   ],
   "source": [
    "pivxsets"
   ]
  },
  {
   "cell_type": "code",
   "execution_count": 21,
   "metadata": {},
   "outputs": [
    {
     "data": {
      "text/plain": [
       "{0: {0},\n",
       " 1: {0, 1},\n",
       " 2: {1, 2},\n",
       " 3: {2},\n",
       " 4: {2, 3},\n",
       " 5: {0, 2, 3, 4},\n",
       " 6: {1, 2, 3, 4, 5},\n",
       " 7: {3, 4, 5, 6},\n",
       " 8: {4},\n",
       " 9: {5},\n",
       " 10: {6},\n",
       " 11: {4, 5, 6},\n",
       " 12: {4, 5, 6, 7},\n",
       " 13: {5, 6, 7, 8},\n",
       " 14: {6, 7, 8, 9},\n",
       " 15: {7, 8, 9, 10},\n",
       " 16: {8},\n",
       " 17: {9},\n",
       " 18: {10},\n",
       " 19: {8, 9, 10},\n",
       " 20: {8, 9, 10, 11},\n",
       " 21: {9, 10, 11, 12},\n",
       " 22: {10, 11, 12, 13},\n",
       " 23: {11, 12, 13, 14},\n",
       " 24: {12},\n",
       " 25: {13},\n",
       " 26: {14},\n",
       " 27: {12, 13, 14},\n",
       " 28: {2, 3, 4, 5, 6, 7, 8, 9, 10, 11},\n",
       " 29: {0, 2, 3, 4, 5, 6, 7, 8, 9, 10, 11, 12},\n",
       " 30: {1, 2, 3, 4, 5, 6, 7, 8, 9, 10, 11, 12, 13},\n",
       " 31: {3, 4, 5, 6, 7, 8, 9, 10, 11, 12, 13, 14}}"
      ]
     },
     "execution_count": 21,
     "metadata": {},
     "output_type": "execute_result"
    }
   ],
   "source": [
    "psyndromes"
   ]
  },
  {
   "cell_type": "code",
   "execution_count": null,
   "metadata": {},
   "outputs": [],
   "source": [
    "for piv in qubits-set(pivsx):\n",
    "    print(piv,col_sets[piv])"
   ]
  },
  {
   "cell_type": "code",
   "execution_count": null,
   "metadata": {},
   "outputs": [],
   "source": [
    "i2q = dict([(v,k) for k,v in q2i.items()])"
   ]
  },
  {
   "cell_type": "code",
   "execution_count": null,
   "metadata": {},
   "outputs": [],
   "source": [
    "i2q[2],i2q[6],i2q[7]"
   ]
  },
  {
   "cell_type": "code",
   "execution_count": null,
   "metadata": {},
   "outputs": [],
   "source": [
    "i2q[0]"
   ]
  },
  {
   "cell_type": "code",
   "execution_count": null,
   "metadata": {},
   "outputs": [],
   "source": [
    "i2q"
   ]
  },
  {
   "cell_type": "code",
   "execution_count": null,
   "metadata": {},
   "outputs": [],
   "source": []
  }
 ],
 "metadata": {
  "kernelspec": {
   "display_name": ".env",
   "language": "python",
   "name": "python3"
  },
  "language_info": {
   "codemirror_mode": {
    "name": "ipython",
    "version": 3
   },
   "file_extension": ".py",
   "mimetype": "text/x-python",
   "name": "python",
   "nbconvert_exporter": "python",
   "pygments_lexer": "ipython3",
   "version": "3.12.9"
  }
 },
 "nbformat": 4,
 "nbformat_minor": 2
}
