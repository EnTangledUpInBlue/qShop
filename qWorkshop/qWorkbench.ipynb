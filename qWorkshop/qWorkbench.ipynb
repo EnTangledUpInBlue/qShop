{
 "cells": [
  {
   "cell_type": "code",
   "execution_count": 2,
   "metadata": {},
   "outputs": [],
   "source": [
    "import sys\n",
    "import os\n",
    "sys.path.append(os.path.abspath('..'))"
   ]
  },
  {
   "cell_type": "code",
   "execution_count": 3,
   "metadata": {},
   "outputs": [],
   "source": [
    "# from codes.example_codes import *\n",
    "# from codes.code_tools import pcm_to_sets,commutation_test\n",
    "from csscode import cssCode\n",
    "import networkx as nx\n",
    "import numpy as np\n",
    "from numpy import load"
   ]
  },
  {
   "cell_type": "code",
   "execution_count": 5,
   "metadata": {},
   "outputs": [],
   "source": [
    "from codes.standard_surface_code_coordinates import surf_check_coords, surf_qubit_coords, potential_nbrhd"
   ]
  },
  {
   "cell_type": "code",
   "execution_count": 6,
   "metadata": {},
   "outputs": [],
   "source": [
    "from codes.bivariate_bicycle_checks import Smatrix, xmatrix,ymatrix,Amatrix,Bmatrix,Smatrix,pcm"
   ]
  },
  {
   "cell_type": "code",
   "execution_count": 7,
   "metadata": {},
   "outputs": [],
   "source": [
    "Adel = np.load('A.npy')\n",
    "Abel = np.load('B.npy')"
   ]
  },
  {
   "cell_type": "code",
   "execution_count": 14,
   "metadata": {},
   "outputs": [
    {
     "data": {
      "text/plain": [
       "True"
      ]
     },
     "execution_count": 14,
     "metadata": {},
     "output_type": "execute_result"
    }
   ],
   "source": [
    "np.all(Adel==A)"
   ]
  },
  {
   "cell_type": "code",
   "execution_count": 13,
   "metadata": {},
   "outputs": [
    {
     "data": {
      "text/plain": [
       "True"
      ]
     },
     "execution_count": 13,
     "metadata": {},
     "output_type": "execute_result"
    }
   ],
   "source": [
    "np.all(Abel == B)"
   ]
  },
  {
   "cell_type": "code",
   "execution_count": 12,
   "metadata": {},
   "outputs": [
    {
     "data": {
      "text/plain": [
       "array([0, 0, 0, 0, 1, 1, 0, 0, 0, 0, 0, 0, 0, 0, 0, 0, 0, 0, 0, 0, 0, 0,\n",
       "       0, 0, 0, 0, 0, 0, 0, 0, 0, 0, 0, 0, 0, 0, 0, 0, 0, 0, 0, 0, 0, 0,\n",
       "       0, 0, 0, 0, 0, 0, 0, 0, 0, 0, 1, 0, 0, 0, 0, 0, 0, 0, 0, 0, 0, 0,\n",
       "       0, 0, 0, 0, 0, 0])"
      ]
     },
     "execution_count": 12,
     "metadata": {},
     "output_type": "execute_result"
    }
   ],
   "source": [
    "A[:,0]"
   ]
  },
  {
   "cell_type": "code",
   "execution_count": 10,
   "metadata": {},
   "outputs": [],
   "source": [
    "hx,hz = pcm(12,6,[3,1,2],[3,1,2])"
   ]
  },
  {
   "cell_type": "code",
   "execution_count": 11,
   "metadata": {},
   "outputs": [],
   "source": [
    "xgens = pcm_to_sets(hx)\n",
    "zgens = pcm_to_sets(hz)"
   ]
  },
  {
   "cell_type": "code",
   "execution_count": 10,
   "metadata": {},
   "outputs": [],
   "source": [
    "from codes.code_tools import commutation_test"
   ]
  },
  {
   "cell_type": "code",
   "execution_count": 13,
   "metadata": {},
   "outputs": [],
   "source": [
    "bbc = cssCode(xgens,zgens)"
   ]
  },
  {
   "cell_type": "code",
   "execution_count": 11,
   "metadata": {},
   "outputs": [],
   "source": [
    "A =Amatrix(12,6,3,1,2)\n",
    "B = Bmatrix(12,6,3,1,2)\n",
    "Hx = np.concatenate((A,B),axis=1)\n",
    "Hz = np.concatenate((B.T,A.T),axis=1)"
   ]
  },
  {
   "cell_type": "code",
   "execution_count": null,
   "metadata": {},
   "outputs": [],
   "source": [
    "for x in A:\n",
    "    print(x)"
   ]
  },
  {
   "cell_type": "code",
   "execution_count": 11,
   "metadata": {},
   "outputs": [
    {
     "name": "stdout",
     "output_type": "stream",
     "text": [
      "[0 1 1 0 0 0 0 0 0 0 0 0 0 0 0 0 0 0 1 0 0 0 0 0 0 0 0 0 0 0 0 0 0 0 0 0]\n"
     ]
    }
   ],
   "source": [
    "print(A[0,:])"
   ]
  },
  {
   "cell_type": "code",
   "execution_count": 12,
   "metadata": {},
   "outputs": [
    {
     "name": "stdout",
     "output_type": "stream",
     "text": [
      "[0 0 0 0 1 1 0 0 0 0 0 0 0 0 0 0 0 0 1 0 0 0 0 0 0 0 0 0 0 0 0 0 0 0 0 0]\n"
     ]
    }
   ],
   "source": [
    "print(A[:,0])"
   ]
  },
  {
   "cell_type": "code",
   "execution_count": 17,
   "metadata": {},
   "outputs": [
    {
     "name": "stdout",
     "output_type": "stream",
     "text": [
      "4\n",
      "5\n",
      "54\n"
     ]
    }
   ],
   "source": [
    "for i in range(len(A[:,0])):\n",
    "    if A[i,0]:\n",
    "        print(i)"
   ]
  },
  {
   "cell_type": "code",
   "execution_count": 15,
   "metadata": {},
   "outputs": [
    {
     "data": {
      "text/plain": [
       "(36, 36)"
      ]
     },
     "execution_count": 15,
     "metadata": {},
     "output_type": "execute_result"
    }
   ],
   "source": [
    "A.shape"
   ]
  },
  {
   "cell_type": "code",
   "execution_count": 14,
   "metadata": {},
   "outputs": [
    {
     "data": {
      "text/plain": [
       "144"
      ]
     },
     "execution_count": 14,
     "metadata": {},
     "output_type": "execute_result"
    }
   ],
   "source": [
    "len(bbc.qubits)"
   ]
  },
  {
   "cell_type": "code",
   "execution_count": 38,
   "metadata": {},
   "outputs": [
    {
     "data": {
      "text/plain": [
       "{False: {0, 1, 2}, True: {0, 1, 2}}"
      ]
     },
     "execution_count": 38,
     "metadata": {},
     "output_type": "execute_result"
    }
   ],
   "source": [
    "bbc.qubit_dict[0]"
   ]
  },
  {
   "cell_type": "code",
   "execution_count": 17,
   "metadata": {},
   "outputs": [],
   "source": [
    "x_ccg = bbc.check_connectivity_graphs()[False]"
   ]
  },
  {
   "cell_type": "markdown",
   "metadata": {},
   "source": [
    "Now consider paths connecting two different points"
   ]
  },
  {
   "cell_type": "code",
   "execution_count": 32,
   "metadata": {},
   "outputs": [],
   "source": [
    "cycles0 = sorted(list(nx.cycle_basis(x_ccg,0)),key= lambda v: len(v))"
   ]
  },
  {
   "cell_type": "code",
   "execution_count": 34,
   "metadata": {},
   "outputs": [
    {
     "name": "stdout",
     "output_type": "stream",
     "text": [
      "[30, 71, 0]\n",
      "[43, 71, 0]\n",
      "[51, 70, 71]\n",
      "[69, 70, 71]\n",
      "[48, 68, 70]\n",
      "[67, 68, 70]\n",
      "[49, 66, 68]\n",
      "[65, 66, 68]\n",
      "[63, 64, 66]\n",
      "[69, 64, 66]\n",
      "[61, 62, 64]\n",
      "[67, 62, 64]\n",
      "[59, 60, 62]\n",
      "[65, 60, 62]\n",
      "[57, 58, 60]\n",
      "[63, 58, 60]\n",
      "[55, 56, 58]\n",
      "[61, 56, 58]\n",
      "[3, 32, 56]\n",
      "[14, 32, 56]\n",
      "[50, 8, 32]\n",
      "[63, 8, 32]\n",
      "[7, 10, 8]\n",
      "[13, 10, 8]\n",
      "[28, 52, 10]\n",
      "[34, 52, 10]\n",
      "[1, 25, 52]\n",
      "[5, 25, 52]\n",
      "[42, 45, 25]\n",
      "[47, 45, 25]\n",
      "[9, 12, 10]\n",
      "[15, 12, 10]\n",
      "[3, 27, 56]\n",
      "[9, 27, 56]\n",
      "[38, 14, 56]\n",
      "[57, 55, 58]\n",
      "[5, 34, 58]\n",
      "[16, 34, 58]\n",
      "[5, 29, 58]\n",
      "[11, 29, 58]\n",
      "[40, 16, 58]\n",
      "[59, 57, 60]\n",
      "[7, 36, 60]\n",
      "[18, 36, 60]\n",
      "[7, 31, 60]\n",
      "[13, 31, 60]\n",
      "[42, 18, 60]\n",
      "[61, 59, 62]\n",
      "[9, 38, 62]\n",
      "[20, 38, 62]\n",
      "[9, 33, 62]\n",
      "[15, 33, 62]\n",
      "[63, 61, 64]\n",
      "[11, 40, 64]\n",
      "[22, 40, 64]\n",
      "[11, 35, 64]\n",
      "[17, 35, 64]\n",
      "[65, 63, 66]\n",
      "[13, 42, 66]\n",
      "[23, 42, 66]\n",
      "[13, 37, 66]\n",
      "[19, 37, 66]\n",
      "[47, 23, 66]\n",
      "[67, 65, 68]\n",
      "[2, 44, 68]\n",
      "[15, 44, 68]\n",
      "[15, 39, 68]\n",
      "[21, 39, 68]\n",
      "[2, 26, 68]\n",
      "[21, 26, 68]\n",
      "[51, 48, 70]\n",
      "[4, 46, 70]\n",
      "[17, 46, 70]\n",
      "[1, 41, 70]\n",
      "[17, 41, 70]\n",
      "[1, 28, 70]\n",
      "[4, 28, 70]\n",
      "[49, 69, 71]\n",
      "[50, 53, 71]\n",
      "[51, 53, 71]\n",
      "[49, 50, 71]\n",
      "[6, 47, 71]\n",
      "[19, 47, 71]\n",
      "[43, 19, 71]\n",
      "[30, 6, 71]\n",
      "[24, 67, 0]\n",
      "[43, 67, 0]\n",
      "[24, 54, 0]\n",
      "[30, 54, 0]\n",
      "[3, 22, 0]\n",
      "[20, 22, 0]\n",
      "[1, 20, 0]\n",
      "[2, 4, 0]\n",
      "[3, 4, 0]\n",
      "[1, 2, 0]\n",
      "[1, 70, 71, 0]\n",
      "[4, 70, 71, 0]\n",
      "[67, 70, 71, 0]\n",
      "[49, 68, 70, 71]\n",
      "[69, 66, 68, 70]\n",
      "[67, 64, 66, 68]\n",
      "[65, 62, 64, 66]\n",
      "[63, 60, 62, 64]\n",
      "[61, 58, 60, 62]\n",
      "[59, 56, 58, 60]\n",
      "[29, 32, 56, 58]\n",
      "[34, 32, 56, 58]\n",
      "[63, 32, 56, 58]\n",
      "[34, 10, 8, 32]\n",
      "[5, 52, 10, 8]\n",
      "[50, 52, 10, 8]\n",
      "[57, 52, 10, 8]\n",
      "[65, 25, 52, 10]\n",
      "[50, 45, 25, 52]\n",
      "[11, 12, 10, 8]\n",
      "[29, 27, 56, 58]\n",
      "[11, 14, 56, 58]\n",
      "[16, 14, 56, 58]\n",
      "[63, 14, 56, 58]\n",
      "[13, 55, 58, 60]\n",
      "[31, 55, 58, 60]\n",
      "[31, 34, 58, 60]\n",
      "[36, 34, 58, 60]\n",
      "[65, 34, 58, 60]\n",
      "[31, 29, 58, 60]\n",
      "[13, 16, 58, 60]\n",
      "[18, 16, 58, 60]\n",
      "[65, 16, 58, 60]\n",
      "[7, 5, 58, 60]\n",
      "[15, 57, 60, 62]\n",
      "[33, 57, 60, 62]\n",
      "[33, 36, 60, 62]\n",
      "[38, 36, 60, 62]\n",
      "[67, 36, 60, 62]\n",
      "[33, 31, 60, 62]\n",
      "[15, 18, 60, 62]\n",
      "[20, 18, 60, 62]\n",
      "[67, 18, 60, 62]\n",
      "[9, 7, 60, 62]\n",
      "[17, 59, 62, 64]\n",
      "[35, 59, 62, 64]\n",
      "[35, 38, 62, 64]\n",
      "[40, 38, 62, 64]\n",
      "[69, 38, 62, 64]\n",
      "[35, 33, 62, 64]\n",
      "[11, 9, 62, 64]\n",
      "[19, 61, 64, 66]\n",
      "[37, 61, 64, 66]\n",
      "[37, 40, 64, 66]\n",
      "[42, 40, 64, 66]\n",
      "[49, 40, 64, 66]\n",
      "[37, 35, 64, 66]\n",
      "[13, 11, 64, 66]\n",
      "[21, 63, 66, 68]\n",
      "[39, 63, 66, 68]\n",
      "[39, 42, 66, 68]\n",
      "[44, 42, 66, 68]\n",
      "[48, 42, 66, 68]\n",
      "[39, 37, 66, 68]\n",
      "[2, 23, 66, 68]\n",
      "[21, 23, 66, 68]\n",
      "[48, 23, 66, 68]\n",
      "[15, 13, 66, 68]\n",
      "[1, 65, 68, 70]\n",
      "[41, 65, 68, 70]\n",
      "[41, 44, 68, 70]\n",
      "[46, 44, 68, 70]\n",
      "[51, 44, 68, 70]\n",
      "[41, 39, 68, 70]\n",
      "[28, 26, 68, 70]\n",
      "[1, 21, 68, 70]\n",
      "[17, 15, 68, 70]\n",
      "[49, 48, 70, 71]\n",
      "[50, 48, 70, 71]\n",
      "[43, 46, 70, 71]\n",
      "[47, 46, 70, 71]\n",
      "[53, 46, 70, 71]\n",
      "[43, 41, 70, 71]\n",
      "[30, 28, 70, 71]\n",
      "[19, 17, 70, 71]\n",
      "[3, 69, 71, 0]\n",
      "[20, 69, 71, 0]\n",
      "[67, 69, 71, 0]\n",
      "[4, 53, 71, 0]\n",
      "[22, 53, 71, 0]\n",
      "[54, 53, 71, 0]\n",
      "[2, 51, 71, 0]\n",
      "[20, 51, 71, 0]\n",
      "[54, 51, 71, 0]\n",
      "[3, 50, 71, 0]\n",
      "[22, 49, 71, 0]\n",
      "[20, 19, 71, 0]\n",
      "[22, 19, 71, 0]\n",
      "[3, 6, 71, 0]\n",
      "[4, 6, 71, 0]\n",
      "[2, 68, 70, 71, 0]\n",
      "[19, 66, 68, 70, 71]\n",
      "[47, 66, 68, 70, 71]\n",
      "[17, 64, 66, 68, 70]\n",
      "[46, 64, 66, 68, 70]\n",
      "[15, 62, 64, 66, 68]\n",
      "[44, 62, 64, 66, 68]\n",
      "[13, 60, 62, 64, 66]\n",
      "[42, 60, 62, 64, 66]\n",
      "[11, 58, 60, 62, 64]\n",
      "[40, 58, 60, 62, 64]\n",
      "[9, 56, 58, 60, 62]\n",
      "[38, 56, 58, 60, 62]\n",
      "[31, 32, 56, 58, 60]\n",
      "[5, 8, 32, 56, 58]\n",
      "[11, 8, 32, 56, 58]\n",
      "[57, 8, 32, 56, 58]\n",
      "[9, 10, 8, 32, 56]\n",
      "[59, 10, 8, 32, 56]\n",
      "[26, 25, 52, 10, 8]\n",
      "[14, 12, 10, 8, 32]\n",
      "[30, 12, 10, 8, 32]\n",
      "[13, 14, 56, 58, 60]\n",
      "[33, 34, 58, 60, 62]\n",
      "[15, 16, 58, 60, 62]\n",
      "[35, 36, 60, 62, 64]\n",
      "[17, 18, 60, 62, 64]\n",
      "[37, 38, 62, 64, 66]\n",
      "[39, 40, 64, 66, 68]\n",
      "[41, 42, 66, 68, 70]\n",
      "[1, 23, 66, 68, 70]\n",
      "[43, 44, 68, 70, 71]\n",
      "[47, 26, 68, 70, 71]\n",
      "[50, 26, 68, 70, 71]\n",
      "[19, 21, 68, 70, 71]\n",
      "[50, 21, 68, 70, 71]\n",
      "[24, 48, 70, 71, 0]\n",
      "[22, 46, 70, 71, 0]\n",
      "[24, 46, 70, 71, 0]\n",
      "[24, 28, 70, 71, 0]\n",
      "[20, 17, 70, 71, 0]\n",
      "[7, 8, 32, 56, 58, 60]\n",
      "[13, 8, 32, 56, 58, 60]\n",
      "[54, 52, 10, 8, 32, 56]\n",
      "[55, 52, 10, 8, 32, 56]\n",
      "[63, 45, 25, 52, 10, 8]\n",
      "[54, 12, 10, 8, 32, 56]\n",
      "[61, 12, 10, 8, 32, 56]\n",
      "[20, 27, 56, 58, 60, 62]\n",
      "[22, 29, 58, 60, 62, 64]\n",
      "[23, 31, 60, 62, 64, 66]\n",
      "[2, 33, 62, 64, 66, 68]\n",
      "[4, 35, 64, 66, 68, 70]\n",
      "[6, 37, 66, 68, 70, 71]\n",
      "[20, 44, 68, 70, 71, 0]\n",
      "[24, 44, 68, 70, 71, 0]\n",
      "[24, 26, 68, 70, 71, 0]\n",
      "[22, 21, 68, 70, 71, 0]\n",
      "[22, 64, 66, 68, 70, 71, 0]\n",
      "[35, 32, 56, 58, 60, 62, 64]\n",
      "[65, 10, 8, 32, 56, 58, 60]\n",
      "[3, 45, 25, 52, 10, 8, 32]\n",
      "[14, 45, 25, 52, 10, 8, 32]\n",
      "[46, 27, 56, 58, 60, 62, 64]\n",
      "[69, 27, 56, 58, 60, 62, 64]\n",
      "[17, 14, 56, 58, 60, 62, 64]\n",
      "[69, 14, 56, 58, 60, 62, 64]\n",
      "[23, 55, 58, 60, 62, 64, 66]\n",
      "[37, 55, 58, 60, 62, 64, 66]\n",
      "[47, 55, 58, 60, 62, 64, 66]\n",
      "[37, 34, 58, 60, 62, 64, 66]\n",
      "[47, 29, 58, 60, 62, 64, 66]\n",
      "[49, 29, 58, 60, 62, 64, 66]\n",
      "[19, 16, 58, 60, 62, 64, 66]\n",
      "[49, 16, 58, 60, 62, 64, 66]\n",
      "[23, 5, 58, 60, 62, 64, 66]\n",
      "[49, 5, 58, 60, 62, 64, 66]\n",
      "[2, 57, 60, 62, 64, 66, 68]\n",
      "[26, 57, 60, 62, 64, 66, 68]\n",
      "[39, 57, 60, 62, 64, 66, 68]\n",
      "[39, 36, 60, 62, 64, 66, 68]\n",
      "[26, 31, 60, 62, 64, 66, 68]\n",
      "[48, 31, 60, 62, 64, 66, 68]\n",
      "[21, 18, 60, 62, 64, 66, 68]\n",
      "[48, 18, 60, 62, 64, 66, 68]\n",
      "[2, 7, 60, 62, 64, 66, 68]\n",
      "[48, 7, 60, 62, 64, 66, 68]\n",
      "[4, 59, 62, 64, 66, 68, 70]\n",
      "[28, 59, 62, 64, 66, 68, 70]\n",
      "[41, 59, 62, 64, 66, 68, 70]\n",
      "[41, 38, 62, 64, 66, 68, 70]\n",
      "[28, 33, 62, 64, 66, 68, 70]\n",
      "[51, 33, 62, 64, 66, 68, 70]\n",
      "[4, 9, 62, 64, 66, 68, 70]\n",
      "[51, 9, 62, 64, 66, 68, 70]\n",
      "[6, 61, 64, 66, 68, 70, 71]\n",
      "[30, 61, 64, 66, 68, 70, 71]\n",
      "[43, 61, 64, 66, 68, 70, 71]\n",
      "[43, 40, 64, 66, 68, 70, 71]\n",
      "[30, 35, 64, 66, 68, 70, 71]\n",
      "[53, 35, 64, 66, 68, 70, 71]\n",
      "[6, 11, 64, 66, 68, 70, 71]\n",
      "[53, 11, 64, 66, 68, 70, 71]\n",
      "[3, 23, 66, 68, 70, 71, 0]\n",
      "[22, 23, 66, 68, 70, 71, 0]\n",
      "[20, 62, 64, 66, 68, 70, 71, 0]\n",
      "[37, 32, 56, 58, 60, 62, 64, 66]\n",
      "[15, 10, 8, 32, 56, 58, 60, 62]\n",
      "[16, 25, 52, 10, 8, 32, 56, 58]\n",
      "[36, 12, 10, 8, 32, 56, 58, 60]\n",
      "[47, 27, 56, 58, 60, 62, 64, 66]\n",
      "[19, 14, 56, 58, 60, 62, 64, 66]\n",
      "[39, 34, 58, 60, 62, 64, 66, 68]\n",
      "[26, 29, 58, 60, 62, 64, 66, 68]\n",
      "[21, 16, 58, 60, 62, 64, 66, 68]\n",
      "[2, 5, 58, 60, 62, 64, 66, 68]\n",
      "[41, 36, 60, 62, 64, 66, 68, 70]\n",
      "[28, 31, 60, 62, 64, 66, 68, 70]\n",
      "[1, 18, 60, 62, 64, 66, 68, 70]\n",
      "[4, 7, 60, 62, 64, 66, 68, 70]\n",
      "[43, 38, 62, 64, 66, 68, 70, 71]\n",
      "[30, 33, 62, 64, 66, 68, 70, 71]\n",
      "[6, 9, 62, 64, 66, 68, 70, 71]\n",
      "[42, 25, 52, 10, 8, 32, 56, 58, 60]\n",
      "[40, 45, 25, 52, 10, 8, 32, 56, 58]\n",
      "[67, 12, 10, 8, 32, 56, 58, 60, 62]\n",
      "[54, 59, 62, 64, 66, 68, 70, 71, 0]\n",
      "[53, 56, 58, 60, 62, 64, 66, 68, 70, 71]\n",
      "[26, 8, 32, 56, 58, 60, 62, 64, 66, 68]\n",
      "[39, 8, 32, 56, 58, 60, 62, 64, 66, 68]\n",
      "[44, 25, 52, 10, 8, 32, 56, 58, 60, 62]\n",
      "[17, 12, 10, 8, 32, 56, 58, 60, 62, 64]\n",
      "[28, 27, 56, 58, 60, 62, 64, 66, 68, 70]\n",
      "[51, 27, 56, 58, 60, 62, 64, 66, 68, 70]\n",
      "[6, 55, 58, 60, 62, 64, 66, 68, 70, 71]\n",
      "[50, 55, 58, 60, 62, 64, 66, 68, 70, 71]\n",
      "[53, 55, 58, 60, 62, 64, 66, 68, 70, 71]\n",
      "[30, 29, 58, 60, 62, 64, 66, 68, 70, 71]\n",
      "[53, 29, 58, 60, 62, 64, 66, 68, 70, 71]\n",
      "[6, 5, 58, 60, 62, 64, 66, 68, 70, 71]\n",
      "[54, 57, 60, 62, 64, 66, 68, 70, 71, 0]\n",
      "[54, 36, 60, 62, 64, 66, 68, 70, 71, 0]\n",
      "[24, 18, 60, 62, 64, 66, 68, 70, 71, 0]\n",
      "[24, 7, 60, 62, 64, 66, 68, 70, 71, 0]\n",
      "[54, 7, 60, 62, 64, 66, 68, 70, 71, 0]\n",
      "[3, 56, 58, 60, 62, 64, 66, 68, 70, 71, 0]\n",
      "[54, 56, 58, 60, 62, 64, 66, 68, 70, 71, 0]\n",
      "[30, 32, 56, 58, 60, 62, 64, 66, 68, 70, 71]\n",
      "[50, 32, 56, 58, 60, 62, 64, 66, 68, 70, 71]\n",
      "[30, 27, 56, 58, 60, 62, 64, 66, 68, 70, 71]\n",
      "[3, 5, 58, 60, 62, 64, 66, 68, 70, 71, 0]\n",
      "[6, 8, 32, 56, 58, 60, 62, 64, 66, 68, 70, 71]\n",
      "[28, 10, 8, 32, 56, 58, 60, 62, 64, 66, 68, 70]\n",
      "[41, 10, 8, 32, 56, 58, 60, 62, 64, 66, 68, 70]\n",
      "[48, 52, 10, 8, 32, 56, 58, 60, 62, 64, 66, 68]\n",
      "[47, 25, 52, 10, 8, 32, 56, 58, 60, 62, 64, 66]\n",
      "[49, 25, 52, 10, 8, 32, 56, 58, 60, 62, 64, 66]\n",
      "[46, 45, 25, 52, 10, 8, 32, 56, 58, 60, 62, 64]\n",
      "[69, 45, 25, 52, 10, 8, 32, 56, 58, 60, 62, 64]\n",
      "[24, 27, 56, 58, 60, 62, 64, 66, 68, 70, 71, 0]\n",
      "[1, 52, 10, 8, 32, 56, 58, 60, 62, 64, 66, 68, 70]\n",
      "[51, 52, 10, 8, 32, 56, 58, 60, 62, 64, 66, 68, 70]\n",
      "[21, 45, 25, 52, 10, 8, 32, 56, 58, 60, 62, 64, 66, 68]\n",
      "[43, 12, 10, 8, 32, 56, 58, 60, 62, 64, 66, 68, 70, 71]\n",
      "[24, 25, 52, 10, 8, 32, 56, 58, 60, 62, 64, 66, 68, 70, 71, 0]\n",
      "[43, 45, 25, 52, 10, 8, 32, 56, 58, 60, 62, 64, 66, 68, 70, 71]\n"
     ]
    }
   ],
   "source": [
    "path_set_lengths = []\n",
    "for cxp in cycles0: ## check operators along the path\n",
    "    print(cxp)\n",
    "    path_set = set()\n",
    "    for ii in range(len(cxp)):\n",
    "        path_set = set.symmetric_difference(path_set,bbc.check_dict[False][cxp[ii]])\n",
    "    path_set_lengths.append(len(path_set))"
   ]
  },
  {
   "cell_type": "code",
   "execution_count": 35,
   "metadata": {},
   "outputs": [
    {
     "data": {
      "text/plain": [
       "361"
      ]
     },
     "execution_count": 35,
     "metadata": {},
     "output_type": "execute_result"
    }
   ],
   "source": [
    "len(path_set_lengths)"
   ]
  },
  {
   "cell_type": "code",
   "execution_count": 36,
   "metadata": {},
   "outputs": [
    {
     "data": {
      "text/plain": [
       "64"
      ]
     },
     "execution_count": 36,
     "metadata": {},
     "output_type": "execute_result"
    }
   ],
   "source": [
    "max(path_set_lengths)"
   ]
  },
  {
   "cell_type": "code",
   "execution_count": 37,
   "metadata": {},
   "outputs": [
    {
     "data": {
      "text/plain": [
       "12"
      ]
     },
     "execution_count": 37,
     "metadata": {},
     "output_type": "execute_result"
    }
   ],
   "source": [
    "min(path_set_lengths)"
   ]
  },
  {
   "cell_type": "code",
   "execution_count": 23,
   "metadata": {},
   "outputs": [
    {
     "data": {
      "text/plain": [
       "27.53999332929797"
      ]
     },
     "execution_count": 23,
     "metadata": {},
     "output_type": "execute_result"
    }
   ],
   "source": [
    "np.average(path_set_lengths)"
   ]
  },
  {
   "cell_type": "code",
   "execution_count": 31,
   "metadata": {},
   "outputs": [],
   "source": [
    "vdegs = [len(list(x_ccg.neighbors(v))) for v in x_ccg.nodes]"
   ]
  },
  {
   "cell_type": "markdown",
   "metadata": {},
   "source": [
    "If the redundancies aren't showing up in cycles, then we should check larger objects.\n",
    "Maybe cliques"
   ]
  },
  {
   "cell_type": "code",
   "execution_count": 9,
   "metadata": {},
   "outputs": [],
   "source": [
    "clicks = list(nx.find_cliques(x_ccg,[0]))"
   ]
  },
  {
   "cell_type": "code",
   "execution_count": 10,
   "metadata": {},
   "outputs": [
    {
     "data": {
      "text/plain": [
       "[0, 1, 8]"
      ]
     },
     "execution_count": 10,
     "metadata": {},
     "output_type": "execute_result"
    }
   ],
   "source": [
    "clicks[0]"
   ]
  },
  {
   "cell_type": "code",
   "execution_count": 11,
   "metadata": {},
   "outputs": [
    {
     "name": "stdout",
     "output_type": "stream",
     "text": [
      "[0, 1, 8]\n",
      "[0, 1, 2]\n",
      "[0, 3, 10]\n",
      "[0, 3, 4]\n",
      "[0, 4, 2]\n",
      "[0, 35, 18]\n",
      "[0, 35, 19]\n",
      "[0, 10, 8]\n",
      "[0, 12, 30]\n",
      "[0, 12, 31]\n",
      "[0, 18, 30]\n",
      "[0, 19, 31]\n"
     ]
    }
   ],
   "source": [
    "for cl in clicks:\n",
    "    print(cl)"
   ]
  },
  {
   "cell_type": "markdown",
   "metadata": {},
   "source": [
    "Looks like there are two sets of cycles that all multiply to the identity:\n",
    "\n",
    "[0, 1, 8]\n",
    "[0, 1, 2]\n",
    "[0, 4, 2]\n",
    "[0, 3, 10]\n",
    "[0, 3, 4]\n",
    "[0, 10, 8]\n",
    "\n",
    "[0, 35, 18]\n",
    "[0, 35, 19]\n",
    "[0, 12, 30]\n",
    "[0, 12, 31]\n",
    "[0, 18, 30]\n",
    "[0, 19, 31]\n",
    "\n",
    "But does this mean anything?"
   ]
  },
  {
   "cell_type": "code",
   "execution_count": 14,
   "metadata": {},
   "outputs": [],
   "source": [
    "supp0 = bbc.check_dict[False][0]\n",
    "supp1 = bbc.check_dict[False][1]\n",
    "supp8 = bbc.check_dict[False][8]"
   ]
  },
  {
   "cell_type": "code",
   "execution_count": 15,
   "metadata": {},
   "outputs": [
    {
     "name": "stdout",
     "output_type": "stream",
     "text": [
      "{0, 1, 38, 47, 53, 23}\n",
      "{0, 37, 5, 46, 52, 22}\n",
      "{3, 69, 23, 54, 22, 63}\n"
     ]
    }
   ],
   "source": [
    "for sup in [supp0,supp1,supp8]:\n",
    "    print(sup)"
   ]
  },
  {
   "cell_type": "code",
   "execution_count": 22,
   "metadata": {},
   "outputs": [
    {
     "name": "stdout",
     "output_type": "stream",
     "text": [
      "[{0}, {23}, {22}]\n"
     ]
    }
   ],
   "source": [
    "print([supp0&supp1,supp0&supp8,supp1&supp8])"
   ]
  },
  {
   "cell_type": "code",
   "execution_count": 23,
   "metadata": {},
   "outputs": [],
   "source": [
    "ccg = bbc.check_chain_graph()"
   ]
  },
  {
   "cell_type": "code",
   "execution_count": 32,
   "metadata": {},
   "outputs": [
    {
     "name": "stdout",
     "output_type": "stream",
     "text": [
      "[(True, 2), (True, 5), (True, 1), (True, 20), (True, 4), (True, 0), (True, 29), (True, 35), (True, 3)]\n",
      "[(True, 28), (True, 2), (True, 15), (True, 34), (True, 1), (True, 17), (True, 16), (True, 0), (True, 19)]\n",
      "[(True, 28), (True, 11), (True, 34), (True, 20), (True, 10), (True, 29), (True, 35), (True, 19), (True, 9)]\n"
     ]
    }
   ],
   "source": [
    "x0zn = set(ccg.neighbors((False,0)))\n",
    "x1zn = set(ccg.neighbors((False,1)))\n",
    "x8zn = set(ccg.neighbors((False,8)))\n",
    "\n",
    "print(list(x0zn))\n",
    "print(list(x1zn))\n",
    "print(list(x8zn))"
   ]
  },
  {
   "cell_type": "code",
   "execution_count": 34,
   "metadata": {},
   "outputs": [
    {
     "name": "stdout",
     "output_type": "stream",
     "text": [
      "[(True, 0), (True, 1), (True, 2)]\n",
      "[(True, 29), (True, 35), (True, 20)]\n",
      "[(True, 28), (True, 19), (True, 34)]\n"
     ]
    }
   ],
   "source": [
    "print(list(x0zn&x1zn))\n",
    "print(list(x0zn&x8zn))\n",
    "print(list(x1zn&x8zn))"
   ]
  },
  {
   "cell_type": "code",
   "execution_count": 37,
   "metadata": {},
   "outputs": [
    {
     "name": "stdout",
     "output_type": "stream",
     "text": [
      "{0, 66, 6, 15, 52, 53}\n",
      "\n",
      "{0, 1, 38, 47, 53, 23}\n",
      "{0, 37, 5, 46, 52, 22}\n"
     ]
    }
   ],
   "source": [
    "print(bbc.check_dict[True][0])\n",
    "print()\n",
    "print(bbc.check_dict[False][0])\n",
    "print(bbc.check_dict[False][1])"
   ]
  },
  {
   "cell_type": "code",
   "execution_count": 44,
   "metadata": {},
   "outputs": [
    {
     "name": "stdout",
     "output_type": "stream",
     "text": [
      "{37, 7, 13, 54, 22, 59}\n",
      "\n",
      "{0, 37, 5, 46, 52, 22}\n",
      "{3, 69, 23, 54, 22, 63}\n"
     ]
    }
   ],
   "source": [
    "print(bbc.check_dict[True][19])\n",
    "print()\n",
    "print(bbc.check_dict[False][1])\n",
    "print(bbc.check_dict[False][8])"
   ]
  },
  {
   "cell_type": "code",
   "execution_count": 43,
   "metadata": {},
   "outputs": [
    {
     "data": {
      "text/plain": [
       "{False: {1, 6, 8}, True: {19, 28, 34}}"
      ]
     },
     "execution_count": 43,
     "metadata": {},
     "output_type": "execute_result"
    }
   ],
   "source": [
    "bbc.qubit_dict[22]"
   ]
  },
  {
   "cell_type": "code",
   "execution_count": 12,
   "metadata": {},
   "outputs": [],
   "source": [
    "click_sets = []\n",
    "for ii in range(len(clicks)): ## check operators along the path\n",
    "    click_set = set()\n",
    "    for jj in range(len(clicks[ii])):\n",
    "        click_set = set.symmetric_difference(click_set,bbc.check_dict[False][clicks[ii][jj]]&bbc.check_dict[False][clicks[ii][(jj+1)%len(clicks[ii])]])\n",
    "    click_sets.append(click_set)"
   ]
  },
  {
   "cell_type": "code",
   "execution_count": 52,
   "metadata": {},
   "outputs": [],
   "source": [
    "ccg = bbc.check_chain_graph()"
   ]
  },
  {
   "cell_type": "code",
   "execution_count": 58,
   "metadata": {},
   "outputs": [],
   "source": [
    "scs = nx.simple_cycles(ccg,length_bound=6)"
   ]
  },
  {
   "cell_type": "code",
   "execution_count": 59,
   "metadata": {},
   "outputs": [
    {
     "data": {
      "text/plain": [
       "[(False, 0), (True, 0), (False, 1), (True, 1)]"
      ]
     },
     "execution_count": 59,
     "metadata": {},
     "output_type": "execute_result"
    }
   ],
   "source": [
    "list(scs)[0]"
   ]
  },
  {
   "cell_type": "code",
   "execution_count": null,
   "metadata": {},
   "outputs": [],
   "source": []
  }
 ],
 "metadata": {
  "kernelspec": {
   "display_name": "Python 3",
   "language": "python",
   "name": "python3"
  },
  "language_info": {
   "codemirror_mode": {
    "name": "ipython",
    "version": 3
   },
   "file_extension": ".py",
   "mimetype": "text/x-python",
   "name": "python",
   "nbconvert_exporter": "python",
   "pygments_lexer": "ipython3",
   "version": "3.12.9"
  }
 },
 "nbformat": 4,
 "nbformat_minor": 2
}
