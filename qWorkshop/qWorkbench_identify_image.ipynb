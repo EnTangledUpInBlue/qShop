{
 "cells": [
  {
   "cell_type": "code",
   "execution_count": 1,
   "metadata": {},
   "outputs": [],
   "source": [
    "import sys\n",
    "import os\n",
    "sys.path.append(os.path.abspath('..'))"
   ]
  },
  {
   "cell_type": "code",
   "execution_count": 2,
   "metadata": {},
   "outputs": [],
   "source": [
    "import csscode\n",
    "from codes.bivariate_bicycle_checks import pcm\n",
    "from codes.example_codes import steane_code, rsurf_code, toric_code\n",
    "from codes.code_tools import order_set_list,generate_syndrome_dict, generate_check_dict,pivots, pcm_to_sets,pivot_finder, column_echelon_form,image_checker, commutation_test"
   ]
  },
  {
   "cell_type": "code",
   "execution_count": null,
   "metadata": {},
   "outputs": [],
   "source": [
    "from codes.rotated_surface_code_coordinates import rsurf_q2i"
   ]
  },
  {
   "cell_type": "code",
   "execution_count": 3,
   "metadata": {},
   "outputs": [],
   "source": [
    "hx,hz = pcm(15,3,[9,1,2],[0,2,7])\n",
    "sx = pcm_to_sets(hx)\n",
    "sz = pcm_to_sets(hz)"
   ]
  },
  {
   "cell_type": "code",
   "execution_count": 4,
   "metadata": {},
   "outputs": [],
   "source": [
    "qubits = set.union(*(sx+sz))"
   ]
  },
  {
   "cell_type": "code",
   "execution_count": 5,
   "metadata": {},
   "outputs": [
    {
     "data": {
      "text/plain": [
       "(45, 45, 90)"
      ]
     },
     "execution_count": 5,
     "metadata": {},
     "output_type": "execute_result"
    }
   ],
   "source": [
    "len(sx),len(sz),len(qubits)"
   ]
  },
  {
   "cell_type": "code",
   "execution_count": 8,
   "metadata": {},
   "outputs": [],
   "source": [
    "for x in order_set_list(sx):\n",
    "    if len(x)!=6:\n",
    "        print(sorted(list(x)))"
   ]
  },
  {
   "cell_type": "code",
   "execution_count": 9,
   "metadata": {},
   "outputs": [
    {
     "data": {
      "text/plain": [
       "[{0, 1, 2, 45, 60, 75},\n",
       " {1, 2, 3, 46, 61, 76},\n",
       " {2, 3, 4, 47, 62, 77},\n",
       " {3, 4, 5, 48, 63, 78},\n",
       " {4, 5, 6, 49, 64, 79},\n",
       " {5, 6, 7, 50, 65, 80},\n",
       " {6, 7, 8, 51, 66, 81},\n",
       " {7, 8, 9, 52, 67, 82},\n",
       " {8, 9, 10, 53, 68, 83},\n",
       " {9, 10, 11, 54, 69, 84},\n",
       " {10, 11, 12, 55, 70, 85},\n",
       " {11, 12, 13, 56, 71, 86},\n",
       " {12, 13, 14, 57, 72, 87},\n",
       " {0, 13, 14, 58, 73, 88},\n",
       " {0, 1, 14, 59, 74, 89},\n",
       " {15, 16, 17, 45, 60, 75},\n",
       " {16, 17, 18, 46, 61, 76},\n",
       " {17, 18, 19, 47, 62, 77},\n",
       " {18, 19, 20, 48, 63, 78},\n",
       " {19, 20, 21, 49, 64, 79},\n",
       " {20, 21, 22, 50, 65, 80},\n",
       " {21, 22, 23, 51, 66, 81},\n",
       " {22, 23, 24, 52, 67, 82},\n",
       " {23, 24, 25, 53, 68, 83},\n",
       " {24, 25, 26, 54, 69, 84},\n",
       " {25, 26, 27, 55, 70, 85},\n",
       " {26, 27, 28, 56, 71, 86},\n",
       " {27, 28, 29, 57, 72, 87},\n",
       " {15, 28, 29, 58, 73, 88},\n",
       " {15, 16, 29, 59, 74, 89},\n",
       " {30, 31, 32, 45, 60, 75},\n",
       " {31, 32, 33, 46, 61, 76},\n",
       " {32, 33, 34, 47, 62, 77},\n",
       " {33, 34, 35, 48, 63, 78},\n",
       " {34, 35, 36, 49, 64, 79},\n",
       " {35, 36, 37, 50, 65, 80},\n",
       " {36, 37, 38, 51, 66, 81},\n",
       " {37, 38, 39, 52, 67, 82},\n",
       " {38, 39, 40, 53, 68, 83},\n",
       " {39, 40, 41, 54, 69, 84},\n",
       " {40, 41, 42, 55, 70, 85},\n",
       " {41, 42, 43, 56, 71, 86},\n",
       " {42, 43, 44, 57, 72, 87},\n",
       " {30, 43, 44, 58, 73, 88},\n",
       " {30, 31, 44, 59, 74, 89}]"
      ]
     },
     "execution_count": 9,
     "metadata": {},
     "output_type": "execute_result"
    }
   ],
   "source": [
    "sx"
   ]
  },
  {
   "cell_type": "code",
   "execution_count": 10,
   "metadata": {},
   "outputs": [],
   "source": [
    "pivs = pivots(sx)"
   ]
  },
  {
   "cell_type": "code",
   "execution_count": 11,
   "metadata": {},
   "outputs": [
    {
     "data": {
      "text/plain": [
       "[{0, 1, 2, 45, 60, 75},\n",
       " {1, 2, 3, 46, 61, 76},\n",
       " {2, 3, 4, 47, 62, 77},\n",
       " {3, 4, 5, 48, 63, 78},\n",
       " {4, 5, 6, 49, 64, 79},\n",
       " {5, 6, 7, 50, 65, 80},\n",
       " {6, 7, 8, 51, 66, 81},\n",
       " {7, 8, 9, 52, 67, 82},\n",
       " {8, 9, 10, 53, 68, 83},\n",
       " {9, 10, 11, 54, 69, 84},\n",
       " {10, 11, 12, 55, 70, 85},\n",
       " {11, 12, 13, 56, 71, 86},\n",
       " {12, 13, 14, 57, 72, 87},\n",
       " {0, 13, 14, 58, 73, 88},\n",
       " {0, 1, 14, 59, 74, 89},\n",
       " {15, 16, 17, 45, 60, 75},\n",
       " {16, 17, 18, 46, 61, 76},\n",
       " {17, 18, 19, 47, 62, 77},\n",
       " {18, 19, 20, 48, 63, 78},\n",
       " {19, 20, 21, 49, 64, 79},\n",
       " {20, 21, 22, 50, 65, 80},\n",
       " {21, 22, 23, 51, 66, 81},\n",
       " {22, 23, 24, 52, 67, 82},\n",
       " {23, 24, 25, 53, 68, 83},\n",
       " {24, 25, 26, 54, 69, 84},\n",
       " {25, 26, 27, 55, 70, 85},\n",
       " {26, 27, 28, 56, 71, 86},\n",
       " {27, 28, 29, 57, 72, 87},\n",
       " {15, 28, 29, 58, 73, 88},\n",
       " {15, 16, 29, 59, 74, 89},\n",
       " {30, 31, 32, 45, 60, 75},\n",
       " {31, 32, 33, 46, 61, 76},\n",
       " {32, 33, 34, 47, 62, 77},\n",
       " {33, 34, 35, 48, 63, 78},\n",
       " {34, 35, 36, 49, 64, 79},\n",
       " {35, 36, 37, 50, 65, 80},\n",
       " {36, 37, 38, 51, 66, 81},\n",
       " {37, 38, 39, 52, 67, 82},\n",
       " {38, 39, 40, 53, 68, 83},\n",
       " {39, 40, 41, 54, 69, 84},\n",
       " {40, 41, 42, 55, 70, 85},\n",
       " {41, 42, 43, 56, 71, 86},\n",
       " {42, 43, 44, 57, 72, 87},\n",
       " {30, 43, 44, 58, 73, 88},\n",
       " {30, 31, 44, 59, 74, 89}]"
      ]
     },
     "execution_count": 11,
     "metadata": {},
     "output_type": "execute_result"
    }
   ],
   "source": [
    "sx"
   ]
  },
  {
   "cell_type": "code",
   "execution_count": null,
   "metadata": {},
   "outputs": [],
   "source": []
  },
  {
   "cell_type": "code",
   "execution_count": null,
   "metadata": {},
   "outputs": [],
   "source": [
    "sx = pcm_to_sets(hx)\n",
    "sz = pcm_to_sets(hz)"
   ]
  },
  {
   "cell_type": "code",
   "execution_count": null,
   "metadata": {},
   "outputs": [],
   "source": [
    "cefx = column_echelon_form(sx)\n",
    "qubits = set.union(*sx)\n",
    "kerx = [cefx[notpiv] for notpiv in qubits-set(pivs)]"
   ]
  },
  {
   "cell_type": "code",
   "execution_count": null,
   "metadata": {},
   "outputs": [],
   "source": [
    "len(qubits),len(pivs),len(kerx)"
   ]
  },
  {
   "cell_type": "code",
   "execution_count": null,
   "metadata": {},
   "outputs": [],
   "source": [
    "len(qubits) - 2*len(pivs)"
   ]
  },
  {
   "cell_type": "code",
   "execution_count": null,
   "metadata": {},
   "outputs": [],
   "source": [
    "psz = pivot_finder(sz,[])"
   ]
  },
  {
   "cell_type": "code",
   "execution_count": null,
   "metadata": {},
   "outputs": [],
   "source": [
    "logx = []\n",
    "for kx in kerx:\n",
    "    if not image_checker(psz,kx):\n",
    "        logx.append(kx)\n",
    "logic_weights = [len(x) for x in logx]\n",
    "print(min(logic_weights))"
   ]
  },
  {
   "cell_type": "code",
   "execution_count": null,
   "metadata": {},
   "outputs": [],
   "source": [
    "for z in sz:\n",
    "    if len(z) != 6:\n",
    "        print(z)"
   ]
  },
  {
   "cell_type": "code",
   "execution_count": null,
   "metadata": {},
   "outputs": [],
   "source": [
    "logx"
   ]
  },
  {
   "cell_type": "code",
   "execution_count": null,
   "metadata": {},
   "outputs": [],
   "source": [
    "def stats_dict(logic_wts):\n",
    "    out_dic = dict()\n",
    "    for wt in logic_weights:\n",
    "        if wt in out_dic.keys():\n",
    "            out_dic[wt]+=1\n",
    "        else:\n",
    "            out_dic[wt]=1\n",
    "    return out_dic"
   ]
  },
  {
   "cell_type": "code",
   "execution_count": null,
   "metadata": {},
   "outputs": [],
   "source": [
    "od = stats_dict(logic_weights)"
   ]
  },
  {
   "cell_type": "code",
   "execution_count": null,
   "metadata": {},
   "outputs": [],
   "source": [
    "len(od), len(logic_weights)"
   ]
  },
  {
   "cell_type": "code",
   "execution_count": null,
   "metadata": {},
   "outputs": [],
   "source": [
    "for x in sorted(list(od.keys())):\n",
    "    print(str(x) + ' ' + str(od[x]))"
   ]
  },
  {
   "cell_type": "code",
   "execution_count": null,
   "metadata": {},
   "outputs": [],
   "source": [
    "len(logic_weights),len(pivs),len(qubits),len(kerx)"
   ]
  },
  {
   "cell_type": "code",
   "execution_count": null,
   "metadata": {},
   "outputs": [],
   "source": [
    "len(qubits),len(pivs),len(kerx),len(logic_weights)"
   ]
  },
  {
   "cell_type": "code",
   "execution_count": null,
   "metadata": {},
   "outputs": [],
   "source": [
    "756-2*376"
   ]
  },
  {
   "cell_type": "code",
   "execution_count": null,
   "metadata": {},
   "outputs": [],
   "source": [
    "kerx = [cefx[notpiv] for notpiv in qubits-set(pivs)]"
   ]
  },
  {
   "cell_type": "code",
   "execution_count": null,
   "metadata": {},
   "outputs": [],
   "source": [
    "len(qubits - set(pivs))"
   ]
  },
  {
   "cell_type": "code",
   "execution_count": null,
   "metadata": {},
   "outputs": [],
   "source": [
    "len(qubits),len(pivs)"
   ]
  },
  {
   "cell_type": "code",
   "execution_count": null,
   "metadata": {},
   "outputs": [],
   "source": [
    "kerx"
   ]
  },
  {
   "cell_type": "code",
   "execution_count": null,
   "metadata": {},
   "outputs": [],
   "source": [
    "len(sx)"
   ]
  },
  {
   "cell_type": "code",
   "execution_count": null,
   "metadata": {},
   "outputs": [],
   "source": [
    "logx = []\n",
    "for kx in kerx:\n",
    "    if not image_checker(sz,kx):\n",
    "        logx.append(kx)"
   ]
  },
  {
   "cell_type": "code",
   "execution_count": null,
   "metadata": {},
   "outputs": [],
   "source": [
    "len(logx)"
   ]
  },
  {
   "cell_type": "code",
   "execution_count": null,
   "metadata": {},
   "outputs": [],
   "source": [
    "logx"
   ]
  },
  {
   "cell_type": "code",
   "execution_count": null,
   "metadata": {},
   "outputs": [],
   "source": [
    "logic_weights = [len(x) for x in logx]"
   ]
  },
  {
   "cell_type": "code",
   "execution_count": null,
   "metadata": {},
   "outputs": [],
   "source": [
    "min(logic_weights)"
   ]
  },
  {
   "cell_type": "markdown",
   "metadata": {},
   "source": []
  }
 ],
 "metadata": {
  "kernelspec": {
   "display_name": ".env",
   "language": "python",
   "name": "python3"
  },
  "language_info": {
   "codemirror_mode": {
    "name": "ipython",
    "version": 3
   },
   "file_extension": ".py",
   "mimetype": "text/x-python",
   "name": "python",
   "nbconvert_exporter": "python",
   "pygments_lexer": "ipython3",
   "version": "3.12.9"
  }
 },
 "nbformat": 4,
 "nbformat_minor": 2
}
