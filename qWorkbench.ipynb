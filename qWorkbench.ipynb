{
 "cells": [
  {
   "cell_type": "code",
   "execution_count": 1,
   "metadata": {},
   "outputs": [],
   "source": [
    "from example_codes import bf_rep_code, qpc, steane_code, rsurf_code\n",
    "from code_tools import commutation_test, order_set_list, max_elem\n",
    "from cssCode import cssCode\n",
    "import networkx as nx"
   ]
  },
  {
   "cell_type": "code",
   "execution_count": 2,
   "metadata": {},
   "outputs": [],
   "source": [
    "rsurf5_gens = rsurf_code(5)"
   ]
  },
  {
   "cell_type": "code",
   "execution_count": 3,
   "metadata": {},
   "outputs": [],
   "source": [
    "rsurf5_css = cssCode(rsurf5_gens[0],rsurf5_gens[1])"
   ]
  },
  {
   "cell_type": "code",
   "execution_count": 4,
   "metadata": {},
   "outputs": [],
   "source": [
    "rsurf5_ccgs = rsurf5_css.check_connectivity_graphs()"
   ]
  },
  {
   "cell_type": "code",
   "execution_count": 5,
   "metadata": {},
   "outputs": [
    {
     "name": "stdout",
     "output_type": "stream",
     "text": [
      "[(False, 1)]\n",
      "[(False, 0), (False, 2), (False, 4), (False, 5)]\n",
      "[(False, 1), (False, 3)]\n",
      "[(False, 1), (False, 6)]\n",
      "[(False, 1), (False, 3), (False, 6), (False, 7)]\n",
      "[(False, 2), (False, 5)]\n",
      "[(False, 4), (False, 5), (False, 8), (False, 9)]\n",
      "[(False, 5), (False, 9)]\n",
      "[(False, 6), (False, 10)]\n",
      "[(False, 6), (False, 7), (False, 10), (False, 11)]\n",
      "[(False, 8), (False, 9)]\n",
      "[(False, 9)]\n"
     ]
    }
   ],
   "source": [
    "for xnode in rsurf5_ccgs[False]:\n",
    "    print(list(rsurf5_ccgs[False].neighbors(xnode)))"
   ]
  }
 ],
 "metadata": {
  "kernelspec": {
   "display_name": "Python 3",
   "language": "python",
   "name": "python3"
  },
  "language_info": {
   "codemirror_mode": {
    "name": "ipython",
    "version": 3
   },
   "file_extension": ".py",
   "mimetype": "text/x-python",
   "name": "python",
   "nbconvert_exporter": "python",
   "pygments_lexer": "ipython3",
   "version": "3.12.8"
  }
 },
 "nbformat": 4,
 "nbformat_minor": 2
}
